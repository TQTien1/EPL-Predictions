{
 "cells": [
  {
   "cell_type": "markdown",
   "metadata": {},
   "source": [
    "## Introduction\n",
    "The Premier League was formed on May 27, 1992, to serve as a breakaway league from the English Football League. Since then, many changes has been made to the regulation and many players has came and went. However, it is always certain that all teams strive to win the illustrious Premier League Title. <br> <br>\n",
    "With the advancement of technology and football moving in a more analytical way, all kinds of stats, from the obvious like **Goals** and **Assists** to more niche ones such as **Progressive Carries**, accurately capture all facet of the beautiful game. From 2017-2018 season, a wide variety of statistics are collected related to attacking, defending, passing, possessions, goalkeeping metrics. It is also obvious that the best teams will put up the best numbers. <br> <br>\n",
    "This project aims to use said data to accurately and effectively predict the EPL standing using advance stats. 2 csv files have been included in the folder, which are:\n",
    "- epl_stats.csv: This dataset includes the season, squad, league points and statistics for each team from the 2017-2018 season to the 2022-2023 season. \n",
    "- prem_2023_2024: This dataset includes information for the 2023-2024 with 18 out 38 games left to be played, this dataset will be use to predict the final result at the end of the season."
   ]
  },
  {
   "cell_type": "markdown",
   "metadata": {},
   "source": [
    "## Imports\n"
   ]
  },
  {
   "cell_type": "code",
   "execution_count": 225,
   "metadata": {},
   "outputs": [],
   "source": [
    "import pandas as pd\n",
    "import plotly.express as px\n",
    "import numpy as np\n",
    "from sklearn.model_selection import train_test_split\n",
    "from sklearn.preprocessing import RobustScaler\n",
    "import sklearn.metrics as metrics\n",
    "from sklearn.linear_model import LinearRegression\n",
    "import xgboost as xgb\n"
   ]
  },
  {
   "cell_type": "code",
   "execution_count": 226,
   "metadata": {},
   "outputs": [],
   "source": [
    "#Import dataset\n",
    "epl_data = pd.read_csv('epl_stats.csv')"
   ]
  },
  {
   "cell_type": "markdown",
   "metadata": {},
   "source": [
    "## Overview of the datasets\n",
    "Both datasets with follow the same format, with the only difference being the values. <br> <br>\n",
    "These datasets have 53 columns, epl_stats.csv has 120 rows and prem_2023-2024.csv has 20 rows. The columns include:\n",
    "- SoTA or Shot on target against: an intentional shot that goes into the net, or would have gone into the net if not for being stopped by the goalkeeper or the last defender.\n",
    "- Saves: The number of successful attemps to deflect the ball heading towards the goal made by the goalkeepers.\n",
    "- Save%: Successful saves divided by total attemped saves.\n",
    "- CS%: \n",
    "\n"
   ]
  },
  {
   "cell_type": "code",
   "execution_count": 227,
   "metadata": {},
   "outputs": [
    {
     "data": {
      "text/html": [
       "<div>\n",
       "<style scoped>\n",
       "    .dataframe tbody tr th:only-of-type {\n",
       "        vertical-align: middle;\n",
       "    }\n",
       "\n",
       "    .dataframe tbody tr th {\n",
       "        vertical-align: top;\n",
       "    }\n",
       "\n",
       "    .dataframe thead th {\n",
       "        text-align: right;\n",
       "    }\n",
       "</style>\n",
       "<table border=\"1\" class=\"dataframe\">\n",
       "  <thead>\n",
       "    <tr style=\"text-align: right;\">\n",
       "      <th></th>\n",
       "      <th>Season</th>\n",
       "      <th>Squad</th>\n",
       "      <th>Points</th>\n",
       "      <th>SoTA</th>\n",
       "      <th>Saves</th>\n",
       "      <th>Save%</th>\n",
       "      <th>CS%</th>\n",
       "      <th>GA</th>\n",
       "      <th>PKA</th>\n",
       "      <th>FK</th>\n",
       "      <th>...</th>\n",
       "      <th>Tkl+Int</th>\n",
       "      <th>Clr</th>\n",
       "      <th>Err</th>\n",
       "      <th>Touches</th>\n",
       "      <th>Att</th>\n",
       "      <th>Succ</th>\n",
       "      <th>Succ%</th>\n",
       "      <th>PrgDist</th>\n",
       "      <th>PrgC</th>\n",
       "      <th>PrgR</th>\n",
       "    </tr>\n",
       "  </thead>\n",
       "  <tbody>\n",
       "    <tr>\n",
       "      <th>0</th>\n",
       "      <td>2017-2018</td>\n",
       "      <td>Arsenal</td>\n",
       "      <td>63</td>\n",
       "      <td>3.87</td>\n",
       "      <td>2.47</td>\n",
       "      <td>68.7</td>\n",
       "      <td>34.2</td>\n",
       "      <td>1.34</td>\n",
       "      <td>0.13</td>\n",
       "      <td>0.00</td>\n",
       "      <td>...</td>\n",
       "      <td>27.6</td>\n",
       "      <td>23.1</td>\n",
       "      <td>0.87</td>\n",
       "      <td>767.0</td>\n",
       "      <td>14.40</td>\n",
       "      <td>10.10</td>\n",
       "      <td>70.0</td>\n",
       "      <td>1324.9</td>\n",
       "      <td>24.1</td>\n",
       "      <td>58.2</td>\n",
       "    </tr>\n",
       "    <tr>\n",
       "      <th>1</th>\n",
       "      <td>2017-2018</td>\n",
       "      <td>Bournemouth</td>\n",
       "      <td>44</td>\n",
       "      <td>4.47</td>\n",
       "      <td>2.87</td>\n",
       "      <td>65.3</td>\n",
       "      <td>15.8</td>\n",
       "      <td>1.61</td>\n",
       "      <td>0.05</td>\n",
       "      <td>0.05</td>\n",
       "      <td>...</td>\n",
       "      <td>23.1</td>\n",
       "      <td>29.7</td>\n",
       "      <td>0.66</td>\n",
       "      <td>585.3</td>\n",
       "      <td>16.80</td>\n",
       "      <td>9.03</td>\n",
       "      <td>53.8</td>\n",
       "      <td>868.9</td>\n",
       "      <td>18.5</td>\n",
       "      <td>39.6</td>\n",
       "    </tr>\n",
       "    <tr>\n",
       "      <th>2</th>\n",
       "      <td>2017-2018</td>\n",
       "      <td>Brighton</td>\n",
       "      <td>40</td>\n",
       "      <td>4.53</td>\n",
       "      <td>3.18</td>\n",
       "      <td>69.2</td>\n",
       "      <td>26.3</td>\n",
       "      <td>1.42</td>\n",
       "      <td>0.03</td>\n",
       "      <td>0.03</td>\n",
       "      <td>...</td>\n",
       "      <td>27.6</td>\n",
       "      <td>31.1</td>\n",
       "      <td>0.47</td>\n",
       "      <td>538.9</td>\n",
       "      <td>12.80</td>\n",
       "      <td>7.87</td>\n",
       "      <td>61.4</td>\n",
       "      <td>767.9</td>\n",
       "      <td>13.8</td>\n",
       "      <td>32.0</td>\n",
       "    </tr>\n",
       "    <tr>\n",
       "      <th>3</th>\n",
       "      <td>2017-2018</td>\n",
       "      <td>Burnley</td>\n",
       "      <td>54</td>\n",
       "      <td>4.21</td>\n",
       "      <td>3.18</td>\n",
       "      <td>77.5</td>\n",
       "      <td>31.6</td>\n",
       "      <td>1.03</td>\n",
       "      <td>0.08</td>\n",
       "      <td>0.00</td>\n",
       "      <td>...</td>\n",
       "      <td>24.6</td>\n",
       "      <td>34.2</td>\n",
       "      <td>0.21</td>\n",
       "      <td>511.9</td>\n",
       "      <td>9.08</td>\n",
       "      <td>5.74</td>\n",
       "      <td>63.2</td>\n",
       "      <td>585.8</td>\n",
       "      <td>11.3</td>\n",
       "      <td>28.7</td>\n",
       "    </tr>\n",
       "    <tr>\n",
       "      <th>4</th>\n",
       "      <td>2017-2018</td>\n",
       "      <td>Chelsea</td>\n",
       "      <td>70</td>\n",
       "      <td>3.08</td>\n",
       "      <td>2.13</td>\n",
       "      <td>69.2</td>\n",
       "      <td>42.1</td>\n",
       "      <td>1.00</td>\n",
       "      <td>0.05</td>\n",
       "      <td>0.00</td>\n",
       "      <td>...</td>\n",
       "      <td>27.9</td>\n",
       "      <td>22.2</td>\n",
       "      <td>0.63</td>\n",
       "      <td>714.9</td>\n",
       "      <td>19.30</td>\n",
       "      <td>13.50</td>\n",
       "      <td>69.9</td>\n",
       "      <td>1359.4</td>\n",
       "      <td>27.5</td>\n",
       "      <td>51.8</td>\n",
       "    </tr>\n",
       "    <tr>\n",
       "      <th>...</th>\n",
       "      <td>...</td>\n",
       "      <td>...</td>\n",
       "      <td>...</td>\n",
       "      <td>...</td>\n",
       "      <td>...</td>\n",
       "      <td>...</td>\n",
       "      <td>...</td>\n",
       "      <td>...</td>\n",
       "      <td>...</td>\n",
       "      <td>...</td>\n",
       "      <td>...</td>\n",
       "      <td>...</td>\n",
       "      <td>...</td>\n",
       "      <td>...</td>\n",
       "      <td>...</td>\n",
       "      <td>...</td>\n",
       "      <td>...</td>\n",
       "      <td>...</td>\n",
       "      <td>...</td>\n",
       "      <td>...</td>\n",
       "      <td>...</td>\n",
       "    </tr>\n",
       "    <tr>\n",
       "      <th>115</th>\n",
       "      <td>2022-2023</td>\n",
       "      <td>Nott'ham Forest</td>\n",
       "      <td>38</td>\n",
       "      <td>4.79</td>\n",
       "      <td>2.95</td>\n",
       "      <td>65.9</td>\n",
       "      <td>21.1</td>\n",
       "      <td>1.79</td>\n",
       "      <td>0.16</td>\n",
       "      <td>0.05</td>\n",
       "      <td>...</td>\n",
       "      <td>26.5</td>\n",
       "      <td>24.8</td>\n",
       "      <td>0.18</td>\n",
       "      <td>471.4</td>\n",
       "      <td>15.00</td>\n",
       "      <td>6.68</td>\n",
       "      <td>44.6</td>\n",
       "      <td>631.8</td>\n",
       "      <td>11.4</td>\n",
       "      <td>22.3</td>\n",
       "    </tr>\n",
       "    <tr>\n",
       "      <th>116</th>\n",
       "      <td>2022-2023</td>\n",
       "      <td>Southampton</td>\n",
       "      <td>25</td>\n",
       "      <td>3.95</td>\n",
       "      <td>2.13</td>\n",
       "      <td>52.7</td>\n",
       "      <td>10.5</td>\n",
       "      <td>1.92</td>\n",
       "      <td>0.05</td>\n",
       "      <td>0.03</td>\n",
       "      <td>...</td>\n",
       "      <td>30.0</td>\n",
       "      <td>22.4</td>\n",
       "      <td>0.29</td>\n",
       "      <td>555.1</td>\n",
       "      <td>20.00</td>\n",
       "      <td>9.50</td>\n",
       "      <td>47.6</td>\n",
       "      <td>784.8</td>\n",
       "      <td>15.5</td>\n",
       "      <td>29.3</td>\n",
       "    </tr>\n",
       "    <tr>\n",
       "      <th>117</th>\n",
       "      <td>2022-2023</td>\n",
       "      <td>Tottenham</td>\n",
       "      <td>60</td>\n",
       "      <td>4.53</td>\n",
       "      <td>2.87</td>\n",
       "      <td>65.1</td>\n",
       "      <td>26.3</td>\n",
       "      <td>1.66</td>\n",
       "      <td>0.08</td>\n",
       "      <td>0.03</td>\n",
       "      <td>...</td>\n",
       "      <td>25.2</td>\n",
       "      <td>20.1</td>\n",
       "      <td>0.53</td>\n",
       "      <td>627.3</td>\n",
       "      <td>17.50</td>\n",
       "      <td>8.05</td>\n",
       "      <td>45.9</td>\n",
       "      <td>969.5</td>\n",
       "      <td>18.2</td>\n",
       "      <td>37.8</td>\n",
       "    </tr>\n",
       "    <tr>\n",
       "      <th>118</th>\n",
       "      <td>2022-2023</td>\n",
       "      <td>West Ham</td>\n",
       "      <td>40</td>\n",
       "      <td>4.47</td>\n",
       "      <td>3.03</td>\n",
       "      <td>70.0</td>\n",
       "      <td>23.7</td>\n",
       "      <td>1.45</td>\n",
       "      <td>0.11</td>\n",
       "      <td>0.00</td>\n",
       "      <td>...</td>\n",
       "      <td>26.7</td>\n",
       "      <td>21.3</td>\n",
       "      <td>0.26</td>\n",
       "      <td>537.1</td>\n",
       "      <td>16.20</td>\n",
       "      <td>6.55</td>\n",
       "      <td>40.6</td>\n",
       "      <td>743.3</td>\n",
       "      <td>16.2</td>\n",
       "      <td>33.3</td>\n",
       "    </tr>\n",
       "    <tr>\n",
       "      <th>119</th>\n",
       "      <td>2022-2023</td>\n",
       "      <td>Wolves</td>\n",
       "      <td>41</td>\n",
       "      <td>4.58</td>\n",
       "      <td>3.03</td>\n",
       "      <td>67.8</td>\n",
       "      <td>28.9</td>\n",
       "      <td>1.53</td>\n",
       "      <td>0.05</td>\n",
       "      <td>0.00</td>\n",
       "      <td>...</td>\n",
       "      <td>24.7</td>\n",
       "      <td>21.5</td>\n",
       "      <td>0.50</td>\n",
       "      <td>593.1</td>\n",
       "      <td>20.30</td>\n",
       "      <td>9.87</td>\n",
       "      <td>48.6</td>\n",
       "      <td>922.8</td>\n",
       "      <td>16.1</td>\n",
       "      <td>35.0</td>\n",
       "    </tr>\n",
       "  </tbody>\n",
       "</table>\n",
       "<p>120 rows × 53 columns</p>\n",
       "</div>"
      ],
      "text/plain": [
       "        Season            Squad  Points  SoTA  Saves  Save%   CS%    GA   PKA  \\\n",
       "0    2017-2018          Arsenal      63  3.87   2.47   68.7  34.2  1.34  0.13   \n",
       "1    2017-2018      Bournemouth      44  4.47   2.87   65.3  15.8  1.61  0.05   \n",
       "2    2017-2018         Brighton      40  4.53   3.18   69.2  26.3  1.42  0.03   \n",
       "3    2017-2018          Burnley      54  4.21   3.18   77.5  31.6  1.03  0.08   \n",
       "4    2017-2018          Chelsea      70  3.08   2.13   69.2  42.1  1.00  0.05   \n",
       "..         ...              ...     ...   ...    ...    ...   ...   ...   ...   \n",
       "115  2022-2023  Nott'ham Forest      38  4.79   2.95   65.9  21.1  1.79  0.16   \n",
       "116  2022-2023      Southampton      25  3.95   2.13   52.7  10.5  1.92  0.05   \n",
       "117  2022-2023        Tottenham      60  4.53   2.87   65.1  26.3  1.66  0.08   \n",
       "118  2022-2023         West Ham      40  4.47   3.03   70.0  23.7  1.45  0.11   \n",
       "119  2022-2023           Wolves      41  4.58   3.03   67.8  28.9  1.53  0.05   \n",
       "\n",
       "       FK  ...  Tkl+Int   Clr   Err  Touches    Att   Succ  Succ%  PrgDist  \\\n",
       "0    0.00  ...     27.6  23.1  0.87    767.0  14.40  10.10   70.0   1324.9   \n",
       "1    0.05  ...     23.1  29.7  0.66    585.3  16.80   9.03   53.8    868.9   \n",
       "2    0.03  ...     27.6  31.1  0.47    538.9  12.80   7.87   61.4    767.9   \n",
       "3    0.00  ...     24.6  34.2  0.21    511.9   9.08   5.74   63.2    585.8   \n",
       "4    0.00  ...     27.9  22.2  0.63    714.9  19.30  13.50   69.9   1359.4   \n",
       "..    ...  ...      ...   ...   ...      ...    ...    ...    ...      ...   \n",
       "115  0.05  ...     26.5  24.8  0.18    471.4  15.00   6.68   44.6    631.8   \n",
       "116  0.03  ...     30.0  22.4  0.29    555.1  20.00   9.50   47.6    784.8   \n",
       "117  0.03  ...     25.2  20.1  0.53    627.3  17.50   8.05   45.9    969.5   \n",
       "118  0.00  ...     26.7  21.3  0.26    537.1  16.20   6.55   40.6    743.3   \n",
       "119  0.00  ...     24.7  21.5  0.50    593.1  20.30   9.87   48.6    922.8   \n",
       "\n",
       "     PrgC  PrgR  \n",
       "0    24.1  58.2  \n",
       "1    18.5  39.6  \n",
       "2    13.8  32.0  \n",
       "3    11.3  28.7  \n",
       "4    27.5  51.8  \n",
       "..    ...   ...  \n",
       "115  11.4  22.3  \n",
       "116  15.5  29.3  \n",
       "117  18.2  37.8  \n",
       "118  16.2  33.3  \n",
       "119  16.1  35.0  \n",
       "\n",
       "[120 rows x 53 columns]"
      ]
     },
     "execution_count": 227,
     "metadata": {},
     "output_type": "execute_result"
    }
   ],
   "source": [
    "#Check dataset\n",
    "epl_data"
   ]
  },
  {
   "cell_type": "code",
   "execution_count": 228,
   "metadata": {},
   "outputs": [
    {
     "name": "stdout",
     "output_type": "stream",
     "text": [
      "Number of rows:  120\n",
      "Number of columns:  53\n",
      "Duplicated values:  0 \n",
      "\n",
      "Data Types:  Season       object\n",
      "Squad        object\n",
      "Points        int64\n",
      "SoTA        float64\n",
      "Saves       float64\n",
      "Save%       float64\n",
      "CS%         float64\n",
      "GA          float64\n",
      "PKA         float64\n",
      "FK          float64\n",
      "CK          float64\n",
      "OG          float64\n",
      "PSxG        float64\n",
      "PSxG/SoT    float64\n",
      "PSxG+/-     float64\n",
      "Gls         float64\n",
      "Sh          float64\n",
      "SoT         float64\n",
      "SoT%        float64\n",
      "G/Sh        float64\n",
      "G/SoT       float64\n",
      "xG          float64\n",
      "npxG        float64\n",
      "npxG/Sh     float64\n",
      "PAtt        float64\n",
      "Cmp%        float64\n",
      "Ast         float64\n",
      "xAG         float64\n",
      "xA          float64\n",
      "KP          float64\n",
      "PPA         float64\n",
      "CrsPA       float64\n",
      "PrgP        float64\n",
      "SCA         float64\n",
      "GCA         float64\n",
      "TklW        float64\n",
      "DC          float64\n",
      "Tkl%        float64\n",
      "Lost        float64\n",
      "Blocks      float64\n",
      "Sh.1        float64\n",
      "Pass        float64\n",
      "Int         float64\n",
      "Tkl+Int     float64\n",
      "Clr         float64\n",
      "Err         float64\n",
      "Touches     float64\n",
      "Att         float64\n",
      "Succ        float64\n",
      "Succ%       float64\n",
      "PrgDist     float64\n",
      "PrgC        float64\n",
      "PrgR        float64\n",
      "dtype: object \n",
      "\n"
     ]
    }
   ],
   "source": [
    "#Cleaning data\n",
    "print(\"Number of rows: \", epl_data.shape[0])\n",
    "print(\"Number of columns: \", epl_data.shape[1])\n",
    "print(\"Duplicated values: \", epl_data[epl_data.columns.tolist()].duplicated().sum(), \"\\n\")\n",
    "\n",
    "print(\"Data Types: \",epl_data.dtypes, \"\\n\")"
   ]
  },
  {
   "cell_type": "code",
   "execution_count": 229,
   "metadata": {},
   "outputs": [
    {
     "name": "stdout",
     "output_type": "stream",
     "text": [
      "Season      0\n",
      "Squad       0\n",
      "Points      0\n",
      "SoTA        0\n",
      "Saves       0\n",
      "Save%       0\n",
      "CS%         0\n",
      "GA          0\n",
      "PKA         0\n",
      "FK          0\n",
      "CK          0\n",
      "OG          0\n",
      "PSxG        0\n",
      "PSxG/SoT    0\n",
      "PSxG+/-     0\n",
      "Gls         0\n",
      "Sh          0\n",
      "SoT         0\n",
      "SoT%        0\n",
      "G/Sh        0\n",
      "G/SoT       0\n",
      "xG          0\n",
      "npxG        0\n",
      "npxG/Sh     0\n",
      "PAtt        0\n",
      "Cmp%        0\n",
      "Ast         0\n",
      "xAG         0\n",
      "xA          0\n",
      "KP          0\n",
      "PPA         0\n",
      "CrsPA       0\n",
      "PrgP        0\n",
      "SCA         0\n",
      "GCA         0\n",
      "TklW        0\n",
      "DC          0\n",
      "Tkl%        0\n",
      "Lost        0\n",
      "Blocks      0\n",
      "Sh.1        0\n",
      "Pass        0\n",
      "Int         0\n",
      "Tkl+Int     0\n",
      "Clr         0\n",
      "Err         0\n",
      "Touches     0\n",
      "Att         0\n",
      "Succ        0\n",
      "Succ%       0\n",
      "PrgDist     0\n",
      "PrgC        0\n",
      "PrgR        0\n",
      "dtype: int64\n"
     ]
    }
   ],
   "source": [
    "print(epl_data[epl_data.columns.tolist()].isnull().sum())"
   ]
  },
  {
   "cell_type": "code",
   "execution_count": 230,
   "metadata": {},
   "outputs": [],
   "source": [
    "#Remove columns: Season, Squad\n",
    "epl_advance_stats = epl_data.drop(columns=['Season','Squad'])"
   ]
  },
  {
   "cell_type": "code",
   "execution_count": 231,
   "metadata": {},
   "outputs": [
    {
     "data": {
      "text/html": [
       "<div>\n",
       "<style scoped>\n",
       "    .dataframe tbody tr th:only-of-type {\n",
       "        vertical-align: middle;\n",
       "    }\n",
       "\n",
       "    .dataframe tbody tr th {\n",
       "        vertical-align: top;\n",
       "    }\n",
       "\n",
       "    .dataframe thead th {\n",
       "        text-align: right;\n",
       "    }\n",
       "</style>\n",
       "<table border=\"1\" class=\"dataframe\">\n",
       "  <thead>\n",
       "    <tr style=\"text-align: right;\">\n",
       "      <th></th>\n",
       "      <th>Points</th>\n",
       "      <th>SoTA</th>\n",
       "      <th>Saves</th>\n",
       "      <th>Save%</th>\n",
       "      <th>CS%</th>\n",
       "      <th>GA</th>\n",
       "      <th>PKA</th>\n",
       "      <th>FK</th>\n",
       "      <th>CK</th>\n",
       "      <th>OG</th>\n",
       "      <th>...</th>\n",
       "      <th>Tkl+Int</th>\n",
       "      <th>Clr</th>\n",
       "      <th>Err</th>\n",
       "      <th>Touches</th>\n",
       "      <th>Att</th>\n",
       "      <th>Succ</th>\n",
       "      <th>Succ%</th>\n",
       "      <th>PrgDist</th>\n",
       "      <th>PrgC</th>\n",
       "      <th>PrgR</th>\n",
       "    </tr>\n",
       "  </thead>\n",
       "  <tbody>\n",
       "    <tr>\n",
       "      <th>0</th>\n",
       "      <td>63</td>\n",
       "      <td>3.87</td>\n",
       "      <td>2.47</td>\n",
       "      <td>68.7</td>\n",
       "      <td>34.2</td>\n",
       "      <td>1.34</td>\n",
       "      <td>0.13</td>\n",
       "      <td>0.00</td>\n",
       "      <td>0.16</td>\n",
       "      <td>0.00</td>\n",
       "      <td>...</td>\n",
       "      <td>27.6</td>\n",
       "      <td>23.1</td>\n",
       "      <td>0.87</td>\n",
       "      <td>767.0</td>\n",
       "      <td>14.40</td>\n",
       "      <td>10.10</td>\n",
       "      <td>70.0</td>\n",
       "      <td>1324.9</td>\n",
       "      <td>24.1</td>\n",
       "      <td>58.2</td>\n",
       "    </tr>\n",
       "    <tr>\n",
       "      <th>1</th>\n",
       "      <td>44</td>\n",
       "      <td>4.47</td>\n",
       "      <td>2.87</td>\n",
       "      <td>65.3</td>\n",
       "      <td>15.8</td>\n",
       "      <td>1.61</td>\n",
       "      <td>0.05</td>\n",
       "      <td>0.05</td>\n",
       "      <td>0.18</td>\n",
       "      <td>0.03</td>\n",
       "      <td>...</td>\n",
       "      <td>23.1</td>\n",
       "      <td>29.7</td>\n",
       "      <td>0.66</td>\n",
       "      <td>585.3</td>\n",
       "      <td>16.80</td>\n",
       "      <td>9.03</td>\n",
       "      <td>53.8</td>\n",
       "      <td>868.9</td>\n",
       "      <td>18.5</td>\n",
       "      <td>39.6</td>\n",
       "    </tr>\n",
       "    <tr>\n",
       "      <th>2</th>\n",
       "      <td>40</td>\n",
       "      <td>4.53</td>\n",
       "      <td>3.18</td>\n",
       "      <td>69.2</td>\n",
       "      <td>26.3</td>\n",
       "      <td>1.42</td>\n",
       "      <td>0.03</td>\n",
       "      <td>0.03</td>\n",
       "      <td>0.39</td>\n",
       "      <td>0.13</td>\n",
       "      <td>...</td>\n",
       "      <td>27.6</td>\n",
       "      <td>31.1</td>\n",
       "      <td>0.47</td>\n",
       "      <td>538.9</td>\n",
       "      <td>12.80</td>\n",
       "      <td>7.87</td>\n",
       "      <td>61.4</td>\n",
       "      <td>767.9</td>\n",
       "      <td>13.8</td>\n",
       "      <td>32.0</td>\n",
       "    </tr>\n",
       "    <tr>\n",
       "      <th>3</th>\n",
       "      <td>54</td>\n",
       "      <td>4.21</td>\n",
       "      <td>3.18</td>\n",
       "      <td>77.5</td>\n",
       "      <td>31.6</td>\n",
       "      <td>1.03</td>\n",
       "      <td>0.08</td>\n",
       "      <td>0.00</td>\n",
       "      <td>0.11</td>\n",
       "      <td>0.03</td>\n",
       "      <td>...</td>\n",
       "      <td>24.6</td>\n",
       "      <td>34.2</td>\n",
       "      <td>0.21</td>\n",
       "      <td>511.9</td>\n",
       "      <td>9.08</td>\n",
       "      <td>5.74</td>\n",
       "      <td>63.2</td>\n",
       "      <td>585.8</td>\n",
       "      <td>11.3</td>\n",
       "      <td>28.7</td>\n",
       "    </tr>\n",
       "    <tr>\n",
       "      <th>4</th>\n",
       "      <td>70</td>\n",
       "      <td>3.08</td>\n",
       "      <td>2.13</td>\n",
       "      <td>69.2</td>\n",
       "      <td>42.1</td>\n",
       "      <td>1.00</td>\n",
       "      <td>0.05</td>\n",
       "      <td>0.00</td>\n",
       "      <td>0.05</td>\n",
       "      <td>0.05</td>\n",
       "      <td>...</td>\n",
       "      <td>27.9</td>\n",
       "      <td>22.2</td>\n",
       "      <td>0.63</td>\n",
       "      <td>714.9</td>\n",
       "      <td>19.30</td>\n",
       "      <td>13.50</td>\n",
       "      <td>69.9</td>\n",
       "      <td>1359.4</td>\n",
       "      <td>27.5</td>\n",
       "      <td>51.8</td>\n",
       "    </tr>\n",
       "    <tr>\n",
       "      <th>...</th>\n",
       "      <td>...</td>\n",
       "      <td>...</td>\n",
       "      <td>...</td>\n",
       "      <td>...</td>\n",
       "      <td>...</td>\n",
       "      <td>...</td>\n",
       "      <td>...</td>\n",
       "      <td>...</td>\n",
       "      <td>...</td>\n",
       "      <td>...</td>\n",
       "      <td>...</td>\n",
       "      <td>...</td>\n",
       "      <td>...</td>\n",
       "      <td>...</td>\n",
       "      <td>...</td>\n",
       "      <td>...</td>\n",
       "      <td>...</td>\n",
       "      <td>...</td>\n",
       "      <td>...</td>\n",
       "      <td>...</td>\n",
       "      <td>...</td>\n",
       "    </tr>\n",
       "    <tr>\n",
       "      <th>115</th>\n",
       "      <td>38</td>\n",
       "      <td>4.79</td>\n",
       "      <td>2.95</td>\n",
       "      <td>65.9</td>\n",
       "      <td>21.1</td>\n",
       "      <td>1.79</td>\n",
       "      <td>0.16</td>\n",
       "      <td>0.05</td>\n",
       "      <td>0.24</td>\n",
       "      <td>0.00</td>\n",
       "      <td>...</td>\n",
       "      <td>26.5</td>\n",
       "      <td>24.8</td>\n",
       "      <td>0.18</td>\n",
       "      <td>471.4</td>\n",
       "      <td>15.00</td>\n",
       "      <td>6.68</td>\n",
       "      <td>44.6</td>\n",
       "      <td>631.8</td>\n",
       "      <td>11.4</td>\n",
       "      <td>22.3</td>\n",
       "    </tr>\n",
       "    <tr>\n",
       "      <th>116</th>\n",
       "      <td>25</td>\n",
       "      <td>3.95</td>\n",
       "      <td>2.13</td>\n",
       "      <td>52.7</td>\n",
       "      <td>10.5</td>\n",
       "      <td>1.92</td>\n",
       "      <td>0.05</td>\n",
       "      <td>0.03</td>\n",
       "      <td>0.21</td>\n",
       "      <td>0.13</td>\n",
       "      <td>...</td>\n",
       "      <td>30.0</td>\n",
       "      <td>22.4</td>\n",
       "      <td>0.29</td>\n",
       "      <td>555.1</td>\n",
       "      <td>20.00</td>\n",
       "      <td>9.50</td>\n",
       "      <td>47.6</td>\n",
       "      <td>784.8</td>\n",
       "      <td>15.5</td>\n",
       "      <td>29.3</td>\n",
       "    </tr>\n",
       "    <tr>\n",
       "      <th>117</th>\n",
       "      <td>60</td>\n",
       "      <td>4.53</td>\n",
       "      <td>2.87</td>\n",
       "      <td>65.1</td>\n",
       "      <td>26.3</td>\n",
       "      <td>1.66</td>\n",
       "      <td>0.08</td>\n",
       "      <td>0.03</td>\n",
       "      <td>0.18</td>\n",
       "      <td>0.03</td>\n",
       "      <td>...</td>\n",
       "      <td>25.2</td>\n",
       "      <td>20.1</td>\n",
       "      <td>0.53</td>\n",
       "      <td>627.3</td>\n",
       "      <td>17.50</td>\n",
       "      <td>8.05</td>\n",
       "      <td>45.9</td>\n",
       "      <td>969.5</td>\n",
       "      <td>18.2</td>\n",
       "      <td>37.8</td>\n",
       "    </tr>\n",
       "    <tr>\n",
       "      <th>118</th>\n",
       "      <td>40</td>\n",
       "      <td>4.47</td>\n",
       "      <td>3.03</td>\n",
       "      <td>70.0</td>\n",
       "      <td>23.7</td>\n",
       "      <td>1.45</td>\n",
       "      <td>0.11</td>\n",
       "      <td>0.00</td>\n",
       "      <td>0.11</td>\n",
       "      <td>0.03</td>\n",
       "      <td>...</td>\n",
       "      <td>26.7</td>\n",
       "      <td>21.3</td>\n",
       "      <td>0.26</td>\n",
       "      <td>537.1</td>\n",
       "      <td>16.20</td>\n",
       "      <td>6.55</td>\n",
       "      <td>40.6</td>\n",
       "      <td>743.3</td>\n",
       "      <td>16.2</td>\n",
       "      <td>33.3</td>\n",
       "    </tr>\n",
       "    <tr>\n",
       "      <th>119</th>\n",
       "      <td>41</td>\n",
       "      <td>4.58</td>\n",
       "      <td>3.03</td>\n",
       "      <td>67.8</td>\n",
       "      <td>28.9</td>\n",
       "      <td>1.53</td>\n",
       "      <td>0.05</td>\n",
       "      <td>0.00</td>\n",
       "      <td>0.16</td>\n",
       "      <td>0.03</td>\n",
       "      <td>...</td>\n",
       "      <td>24.7</td>\n",
       "      <td>21.5</td>\n",
       "      <td>0.50</td>\n",
       "      <td>593.1</td>\n",
       "      <td>20.30</td>\n",
       "      <td>9.87</td>\n",
       "      <td>48.6</td>\n",
       "      <td>922.8</td>\n",
       "      <td>16.1</td>\n",
       "      <td>35.0</td>\n",
       "    </tr>\n",
       "  </tbody>\n",
       "</table>\n",
       "<p>120 rows × 51 columns</p>\n",
       "</div>"
      ],
      "text/plain": [
       "     Points  SoTA  Saves  Save%   CS%    GA   PKA    FK    CK    OG  ...  \\\n",
       "0        63  3.87   2.47   68.7  34.2  1.34  0.13  0.00  0.16  0.00  ...   \n",
       "1        44  4.47   2.87   65.3  15.8  1.61  0.05  0.05  0.18  0.03  ...   \n",
       "2        40  4.53   3.18   69.2  26.3  1.42  0.03  0.03  0.39  0.13  ...   \n",
       "3        54  4.21   3.18   77.5  31.6  1.03  0.08  0.00  0.11  0.03  ...   \n",
       "4        70  3.08   2.13   69.2  42.1  1.00  0.05  0.00  0.05  0.05  ...   \n",
       "..      ...   ...    ...    ...   ...   ...   ...   ...   ...   ...  ...   \n",
       "115      38  4.79   2.95   65.9  21.1  1.79  0.16  0.05  0.24  0.00  ...   \n",
       "116      25  3.95   2.13   52.7  10.5  1.92  0.05  0.03  0.21  0.13  ...   \n",
       "117      60  4.53   2.87   65.1  26.3  1.66  0.08  0.03  0.18  0.03  ...   \n",
       "118      40  4.47   3.03   70.0  23.7  1.45  0.11  0.00  0.11  0.03  ...   \n",
       "119      41  4.58   3.03   67.8  28.9  1.53  0.05  0.00  0.16  0.03  ...   \n",
       "\n",
       "     Tkl+Int   Clr   Err  Touches    Att   Succ  Succ%  PrgDist  PrgC  PrgR  \n",
       "0       27.6  23.1  0.87    767.0  14.40  10.10   70.0   1324.9  24.1  58.2  \n",
       "1       23.1  29.7  0.66    585.3  16.80   9.03   53.8    868.9  18.5  39.6  \n",
       "2       27.6  31.1  0.47    538.9  12.80   7.87   61.4    767.9  13.8  32.0  \n",
       "3       24.6  34.2  0.21    511.9   9.08   5.74   63.2    585.8  11.3  28.7  \n",
       "4       27.9  22.2  0.63    714.9  19.30  13.50   69.9   1359.4  27.5  51.8  \n",
       "..       ...   ...   ...      ...    ...    ...    ...      ...   ...   ...  \n",
       "115     26.5  24.8  0.18    471.4  15.00   6.68   44.6    631.8  11.4  22.3  \n",
       "116     30.0  22.4  0.29    555.1  20.00   9.50   47.6    784.8  15.5  29.3  \n",
       "117     25.2  20.1  0.53    627.3  17.50   8.05   45.9    969.5  18.2  37.8  \n",
       "118     26.7  21.3  0.26    537.1  16.20   6.55   40.6    743.3  16.2  33.3  \n",
       "119     24.7  21.5  0.50    593.1  20.30   9.87   48.6    922.8  16.1  35.0  \n",
       "\n",
       "[120 rows x 51 columns]"
      ]
     },
     "execution_count": 231,
     "metadata": {},
     "output_type": "execute_result"
    }
   ],
   "source": [
    "epl_advance_stats"
   ]
  },
  {
   "cell_type": "code",
   "execution_count": 232,
   "metadata": {},
   "outputs": [],
   "source": [
    "mean_values_large = epl_advance_stats[epl_advance_stats[:]>20].drop(\"Points\",axis = 1).mean().dropna()\n",
    "mean_values_small = epl_advance_stats[epl_advance_stats[:]<=20].drop(\"Points\",axis = 1).mean().dropna() #Some aspects appear twice?"
   ]
  },
  {
   "cell_type": "code",
   "execution_count": 233,
   "metadata": {},
   "outputs": [
    {
     "data": {
      "application/vnd.plotly.v1+json": {
       "config": {
        "plotlyServerURL": "https://plot.ly"
       },
       "data": [
        {
         "alignmentgroup": "True",
         "hovertemplate": "variable=0<br>index=%{x}<br>value=%{y}<extra></extra>",
         "legendgroup": "0",
         "marker": {
          "color": "#636efa",
          "pattern": {
           "shape": ""
          }
         },
         "name": "0",
         "offsetgroup": "0",
         "orientation": "v",
         "showlegend": true,
         "textposition": "auto",
         "type": "bar",
         "x": [
          "Save%",
          "CS%",
          "SoT%",
          "PAtt",
          "Cmp%",
          "PrgP",
          "SCA",
          "Tkl%",
          "Tkl+Int",
          "Clr",
          "Touches",
          "Att",
          "Succ%",
          "PrgDist",
          "PrgC",
          "PrgR"
         ],
         "xaxis": "x",
         "y": [
          69.84166666666667,
          31.093814432989696,
          33.02333333333333,
          503.1383333333333,
          77.26416666666665,
          38.464166666666664,
          24.57605633802817,
          42.3625,
          26.92016806722689,
          24.39,
          614.0025,
          20.822222222222223,
          56.270833333333336,
          941.2166666666667,
          24.345714285714283,
          38.08416666666667
         ],
         "yaxis": "y"
        }
       ],
       "layout": {
        "barmode": "relative",
        "legend": {
         "title": {
          "text": "variable"
         },
         "tracegroupgap": 0
        },
        "margin": {
         "t": 60
        },
        "template": {
         "data": {
          "bar": [
           {
            "error_x": {
             "color": "#2a3f5f"
            },
            "error_y": {
             "color": "#2a3f5f"
            },
            "marker": {
             "line": {
              "color": "#E5ECF6",
              "width": 0.5
             },
             "pattern": {
              "fillmode": "overlay",
              "size": 10,
              "solidity": 0.2
             }
            },
            "type": "bar"
           }
          ],
          "barpolar": [
           {
            "marker": {
             "line": {
              "color": "#E5ECF6",
              "width": 0.5
             },
             "pattern": {
              "fillmode": "overlay",
              "size": 10,
              "solidity": 0.2
             }
            },
            "type": "barpolar"
           }
          ],
          "carpet": [
           {
            "aaxis": {
             "endlinecolor": "#2a3f5f",
             "gridcolor": "white",
             "linecolor": "white",
             "minorgridcolor": "white",
             "startlinecolor": "#2a3f5f"
            },
            "baxis": {
             "endlinecolor": "#2a3f5f",
             "gridcolor": "white",
             "linecolor": "white",
             "minorgridcolor": "white",
             "startlinecolor": "#2a3f5f"
            },
            "type": "carpet"
           }
          ],
          "choropleth": [
           {
            "colorbar": {
             "outlinewidth": 0,
             "ticks": ""
            },
            "type": "choropleth"
           }
          ],
          "contour": [
           {
            "colorbar": {
             "outlinewidth": 0,
             "ticks": ""
            },
            "colorscale": [
             [
              0,
              "#0d0887"
             ],
             [
              0.1111111111111111,
              "#46039f"
             ],
             [
              0.2222222222222222,
              "#7201a8"
             ],
             [
              0.3333333333333333,
              "#9c179e"
             ],
             [
              0.4444444444444444,
              "#bd3786"
             ],
             [
              0.5555555555555556,
              "#d8576b"
             ],
             [
              0.6666666666666666,
              "#ed7953"
             ],
             [
              0.7777777777777778,
              "#fb9f3a"
             ],
             [
              0.8888888888888888,
              "#fdca26"
             ],
             [
              1,
              "#f0f921"
             ]
            ],
            "type": "contour"
           }
          ],
          "contourcarpet": [
           {
            "colorbar": {
             "outlinewidth": 0,
             "ticks": ""
            },
            "type": "contourcarpet"
           }
          ],
          "heatmap": [
           {
            "colorbar": {
             "outlinewidth": 0,
             "ticks": ""
            },
            "colorscale": [
             [
              0,
              "#0d0887"
             ],
             [
              0.1111111111111111,
              "#46039f"
             ],
             [
              0.2222222222222222,
              "#7201a8"
             ],
             [
              0.3333333333333333,
              "#9c179e"
             ],
             [
              0.4444444444444444,
              "#bd3786"
             ],
             [
              0.5555555555555556,
              "#d8576b"
             ],
             [
              0.6666666666666666,
              "#ed7953"
             ],
             [
              0.7777777777777778,
              "#fb9f3a"
             ],
             [
              0.8888888888888888,
              "#fdca26"
             ],
             [
              1,
              "#f0f921"
             ]
            ],
            "type": "heatmap"
           }
          ],
          "heatmapgl": [
           {
            "colorbar": {
             "outlinewidth": 0,
             "ticks": ""
            },
            "colorscale": [
             [
              0,
              "#0d0887"
             ],
             [
              0.1111111111111111,
              "#46039f"
             ],
             [
              0.2222222222222222,
              "#7201a8"
             ],
             [
              0.3333333333333333,
              "#9c179e"
             ],
             [
              0.4444444444444444,
              "#bd3786"
             ],
             [
              0.5555555555555556,
              "#d8576b"
             ],
             [
              0.6666666666666666,
              "#ed7953"
             ],
             [
              0.7777777777777778,
              "#fb9f3a"
             ],
             [
              0.8888888888888888,
              "#fdca26"
             ],
             [
              1,
              "#f0f921"
             ]
            ],
            "type": "heatmapgl"
           }
          ],
          "histogram": [
           {
            "marker": {
             "pattern": {
              "fillmode": "overlay",
              "size": 10,
              "solidity": 0.2
             }
            },
            "type": "histogram"
           }
          ],
          "histogram2d": [
           {
            "colorbar": {
             "outlinewidth": 0,
             "ticks": ""
            },
            "colorscale": [
             [
              0,
              "#0d0887"
             ],
             [
              0.1111111111111111,
              "#46039f"
             ],
             [
              0.2222222222222222,
              "#7201a8"
             ],
             [
              0.3333333333333333,
              "#9c179e"
             ],
             [
              0.4444444444444444,
              "#bd3786"
             ],
             [
              0.5555555555555556,
              "#d8576b"
             ],
             [
              0.6666666666666666,
              "#ed7953"
             ],
             [
              0.7777777777777778,
              "#fb9f3a"
             ],
             [
              0.8888888888888888,
              "#fdca26"
             ],
             [
              1,
              "#f0f921"
             ]
            ],
            "type": "histogram2d"
           }
          ],
          "histogram2dcontour": [
           {
            "colorbar": {
             "outlinewidth": 0,
             "ticks": ""
            },
            "colorscale": [
             [
              0,
              "#0d0887"
             ],
             [
              0.1111111111111111,
              "#46039f"
             ],
             [
              0.2222222222222222,
              "#7201a8"
             ],
             [
              0.3333333333333333,
              "#9c179e"
             ],
             [
              0.4444444444444444,
              "#bd3786"
             ],
             [
              0.5555555555555556,
              "#d8576b"
             ],
             [
              0.6666666666666666,
              "#ed7953"
             ],
             [
              0.7777777777777778,
              "#fb9f3a"
             ],
             [
              0.8888888888888888,
              "#fdca26"
             ],
             [
              1,
              "#f0f921"
             ]
            ],
            "type": "histogram2dcontour"
           }
          ],
          "mesh3d": [
           {
            "colorbar": {
             "outlinewidth": 0,
             "ticks": ""
            },
            "type": "mesh3d"
           }
          ],
          "parcoords": [
           {
            "line": {
             "colorbar": {
              "outlinewidth": 0,
              "ticks": ""
             }
            },
            "type": "parcoords"
           }
          ],
          "pie": [
           {
            "automargin": true,
            "type": "pie"
           }
          ],
          "scatter": [
           {
            "fillpattern": {
             "fillmode": "overlay",
             "size": 10,
             "solidity": 0.2
            },
            "type": "scatter"
           }
          ],
          "scatter3d": [
           {
            "line": {
             "colorbar": {
              "outlinewidth": 0,
              "ticks": ""
             }
            },
            "marker": {
             "colorbar": {
              "outlinewidth": 0,
              "ticks": ""
             }
            },
            "type": "scatter3d"
           }
          ],
          "scattercarpet": [
           {
            "marker": {
             "colorbar": {
              "outlinewidth": 0,
              "ticks": ""
             }
            },
            "type": "scattercarpet"
           }
          ],
          "scattergeo": [
           {
            "marker": {
             "colorbar": {
              "outlinewidth": 0,
              "ticks": ""
             }
            },
            "type": "scattergeo"
           }
          ],
          "scattergl": [
           {
            "marker": {
             "colorbar": {
              "outlinewidth": 0,
              "ticks": ""
             }
            },
            "type": "scattergl"
           }
          ],
          "scattermapbox": [
           {
            "marker": {
             "colorbar": {
              "outlinewidth": 0,
              "ticks": ""
             }
            },
            "type": "scattermapbox"
           }
          ],
          "scatterpolar": [
           {
            "marker": {
             "colorbar": {
              "outlinewidth": 0,
              "ticks": ""
             }
            },
            "type": "scatterpolar"
           }
          ],
          "scatterpolargl": [
           {
            "marker": {
             "colorbar": {
              "outlinewidth": 0,
              "ticks": ""
             }
            },
            "type": "scatterpolargl"
           }
          ],
          "scatterternary": [
           {
            "marker": {
             "colorbar": {
              "outlinewidth": 0,
              "ticks": ""
             }
            },
            "type": "scatterternary"
           }
          ],
          "surface": [
           {
            "colorbar": {
             "outlinewidth": 0,
             "ticks": ""
            },
            "colorscale": [
             [
              0,
              "#0d0887"
             ],
             [
              0.1111111111111111,
              "#46039f"
             ],
             [
              0.2222222222222222,
              "#7201a8"
             ],
             [
              0.3333333333333333,
              "#9c179e"
             ],
             [
              0.4444444444444444,
              "#bd3786"
             ],
             [
              0.5555555555555556,
              "#d8576b"
             ],
             [
              0.6666666666666666,
              "#ed7953"
             ],
             [
              0.7777777777777778,
              "#fb9f3a"
             ],
             [
              0.8888888888888888,
              "#fdca26"
             ],
             [
              1,
              "#f0f921"
             ]
            ],
            "type": "surface"
           }
          ],
          "table": [
           {
            "cells": {
             "fill": {
              "color": "#EBF0F8"
             },
             "line": {
              "color": "white"
             }
            },
            "header": {
             "fill": {
              "color": "#C8D4E3"
             },
             "line": {
              "color": "white"
             }
            },
            "type": "table"
           }
          ]
         },
         "layout": {
          "annotationdefaults": {
           "arrowcolor": "#2a3f5f",
           "arrowhead": 0,
           "arrowwidth": 1
          },
          "autotypenumbers": "strict",
          "coloraxis": {
           "colorbar": {
            "outlinewidth": 0,
            "ticks": ""
           }
          },
          "colorscale": {
           "diverging": [
            [
             0,
             "#8e0152"
            ],
            [
             0.1,
             "#c51b7d"
            ],
            [
             0.2,
             "#de77ae"
            ],
            [
             0.3,
             "#f1b6da"
            ],
            [
             0.4,
             "#fde0ef"
            ],
            [
             0.5,
             "#f7f7f7"
            ],
            [
             0.6,
             "#e6f5d0"
            ],
            [
             0.7,
             "#b8e186"
            ],
            [
             0.8,
             "#7fbc41"
            ],
            [
             0.9,
             "#4d9221"
            ],
            [
             1,
             "#276419"
            ]
           ],
           "sequential": [
            [
             0,
             "#0d0887"
            ],
            [
             0.1111111111111111,
             "#46039f"
            ],
            [
             0.2222222222222222,
             "#7201a8"
            ],
            [
             0.3333333333333333,
             "#9c179e"
            ],
            [
             0.4444444444444444,
             "#bd3786"
            ],
            [
             0.5555555555555556,
             "#d8576b"
            ],
            [
             0.6666666666666666,
             "#ed7953"
            ],
            [
             0.7777777777777778,
             "#fb9f3a"
            ],
            [
             0.8888888888888888,
             "#fdca26"
            ],
            [
             1,
             "#f0f921"
            ]
           ],
           "sequentialminus": [
            [
             0,
             "#0d0887"
            ],
            [
             0.1111111111111111,
             "#46039f"
            ],
            [
             0.2222222222222222,
             "#7201a8"
            ],
            [
             0.3333333333333333,
             "#9c179e"
            ],
            [
             0.4444444444444444,
             "#bd3786"
            ],
            [
             0.5555555555555556,
             "#d8576b"
            ],
            [
             0.6666666666666666,
             "#ed7953"
            ],
            [
             0.7777777777777778,
             "#fb9f3a"
            ],
            [
             0.8888888888888888,
             "#fdca26"
            ],
            [
             1,
             "#f0f921"
            ]
           ]
          },
          "colorway": [
           "#636efa",
           "#EF553B",
           "#00cc96",
           "#ab63fa",
           "#FFA15A",
           "#19d3f3",
           "#FF6692",
           "#B6E880",
           "#FF97FF",
           "#FECB52"
          ],
          "font": {
           "color": "#2a3f5f"
          },
          "geo": {
           "bgcolor": "white",
           "lakecolor": "white",
           "landcolor": "#E5ECF6",
           "showlakes": true,
           "showland": true,
           "subunitcolor": "white"
          },
          "hoverlabel": {
           "align": "left"
          },
          "hovermode": "closest",
          "mapbox": {
           "style": "light"
          },
          "paper_bgcolor": "white",
          "plot_bgcolor": "#E5ECF6",
          "polar": {
           "angularaxis": {
            "gridcolor": "white",
            "linecolor": "white",
            "ticks": ""
           },
           "bgcolor": "#E5ECF6",
           "radialaxis": {
            "gridcolor": "white",
            "linecolor": "white",
            "ticks": ""
           }
          },
          "scene": {
           "xaxis": {
            "backgroundcolor": "#E5ECF6",
            "gridcolor": "white",
            "gridwidth": 2,
            "linecolor": "white",
            "showbackground": true,
            "ticks": "",
            "zerolinecolor": "white"
           },
           "yaxis": {
            "backgroundcolor": "#E5ECF6",
            "gridcolor": "white",
            "gridwidth": 2,
            "linecolor": "white",
            "showbackground": true,
            "ticks": "",
            "zerolinecolor": "white"
           },
           "zaxis": {
            "backgroundcolor": "#E5ECF6",
            "gridcolor": "white",
            "gridwidth": 2,
            "linecolor": "white",
            "showbackground": true,
            "ticks": "",
            "zerolinecolor": "white"
           }
          },
          "shapedefaults": {
           "line": {
            "color": "#2a3f5f"
           }
          },
          "ternary": {
           "aaxis": {
            "gridcolor": "white",
            "linecolor": "white",
            "ticks": ""
           },
           "baxis": {
            "gridcolor": "white",
            "linecolor": "white",
            "ticks": ""
           },
           "bgcolor": "#E5ECF6",
           "caxis": {
            "gridcolor": "white",
            "linecolor": "white",
            "ticks": ""
           }
          },
          "title": {
           "x": 0.05
          },
          "xaxis": {
           "automargin": true,
           "gridcolor": "white",
           "linecolor": "white",
           "ticks": "",
           "title": {
            "standoff": 15
           },
           "zerolinecolor": "white",
           "zerolinewidth": 2
          },
          "yaxis": {
           "automargin": true,
           "gridcolor": "white",
           "linecolor": "white",
           "ticks": "",
           "title": {
            "standoff": 15
           },
           "zerolinecolor": "white",
           "zerolinewidth": 2
          }
         }
        },
        "xaxis": {
         "anchor": "y",
         "domain": [
          0,
          1
         ],
         "title": {
          "text": "index"
         }
        },
        "yaxis": {
         "anchor": "x",
         "domain": [
          0,
          1
         ],
         "title": {
          "text": "value"
         }
        }
       }
      }
     },
     "metadata": {},
     "output_type": "display_data"
    }
   ],
   "source": [
    "px.bar(mean_values_large)"
   ]
  },
  {
   "cell_type": "code",
   "execution_count": 234,
   "metadata": {},
   "outputs": [
    {
     "data": {
      "application/vnd.plotly.v1+json": {
       "config": {
        "plotlyServerURL": "https://plot.ly"
       },
       "data": [
        {
         "alignmentgroup": "True",
         "hovertemplate": "variable=0<br>index=%{x}<br>value=%{y}<extra></extra>",
         "legendgroup": "0",
         "marker": {
          "color": "#636efa",
          "pattern": {
           "shape": ""
          }
         },
         "name": "0",
         "offsetgroup": "0",
         "orientation": "v",
         "showlegend": true,
         "textposition": "auto",
         "type": "bar",
         "x": [
          "SoTA",
          "Saves",
          "CS%",
          "GA",
          "PKA",
          "FK",
          "CK",
          "OG",
          "PSxG",
          "PSxG/SoT",
          "PSxG+/-",
          "Gls",
          "Sh",
          "SoT",
          "G/Sh",
          "G/SoT",
          "xG",
          "npxG",
          "npxG/Sh",
          "Ast",
          "xAG",
          "xA",
          "KP",
          "PPA",
          "CrsPA",
          "SCA",
          "GCA",
          "TklW",
          "DC",
          "Lost",
          "Blocks",
          "Sh.1",
          "Pass",
          "Int",
          "Tkl+Int",
          "Clr",
          "Err",
          "Att",
          "Succ",
          "PrgC"
         ],
         "xaxis": "x",
         "y": [
          4.22725,
          2.8679166666666664,
          15.678260869565218,
          1.38225,
          0.10383333333333335,
          0.026500000000000003,
          0.17575000000000002,
          0.04716666666666667,
          1.2776666666666665,
          0.2789166666666667,
          -0.058499999999999996,
          1.33575,
          12.341083333333332,
          4.10275,
          0.0979166666666667,
          0.2946666666666667,
          1.3350833333333334,
          1.2331666666666667,
          0.10150000000000002,
          0.9494166666666667,
          0.9504166666666666,
          0.8519166666666667,
          9.23175,
          7.917,
          1.8669166666666663,
          17.971428571428568,
          2.3160000000000003,
          9.766416666666666,
          6.80625,
          9.263666666666666,
          11.168333333333333,
          3.3970833333333332,
          7.767833333333333,
          10.419333333333332,
          18.3,
          16.715,
          0.43424999999999997,
          16.138918918918918,
          9.262416666666669,
          15.69764705882353
         ],
         "yaxis": "y"
        }
       ],
       "layout": {
        "barmode": "relative",
        "legend": {
         "title": {
          "text": "variable"
         },
         "tracegroupgap": 0
        },
        "margin": {
         "t": 60
        },
        "template": {
         "data": {
          "bar": [
           {
            "error_x": {
             "color": "#2a3f5f"
            },
            "error_y": {
             "color": "#2a3f5f"
            },
            "marker": {
             "line": {
              "color": "#E5ECF6",
              "width": 0.5
             },
             "pattern": {
              "fillmode": "overlay",
              "size": 10,
              "solidity": 0.2
             }
            },
            "type": "bar"
           }
          ],
          "barpolar": [
           {
            "marker": {
             "line": {
              "color": "#E5ECF6",
              "width": 0.5
             },
             "pattern": {
              "fillmode": "overlay",
              "size": 10,
              "solidity": 0.2
             }
            },
            "type": "barpolar"
           }
          ],
          "carpet": [
           {
            "aaxis": {
             "endlinecolor": "#2a3f5f",
             "gridcolor": "white",
             "linecolor": "white",
             "minorgridcolor": "white",
             "startlinecolor": "#2a3f5f"
            },
            "baxis": {
             "endlinecolor": "#2a3f5f",
             "gridcolor": "white",
             "linecolor": "white",
             "minorgridcolor": "white",
             "startlinecolor": "#2a3f5f"
            },
            "type": "carpet"
           }
          ],
          "choropleth": [
           {
            "colorbar": {
             "outlinewidth": 0,
             "ticks": ""
            },
            "type": "choropleth"
           }
          ],
          "contour": [
           {
            "colorbar": {
             "outlinewidth": 0,
             "ticks": ""
            },
            "colorscale": [
             [
              0,
              "#0d0887"
             ],
             [
              0.1111111111111111,
              "#46039f"
             ],
             [
              0.2222222222222222,
              "#7201a8"
             ],
             [
              0.3333333333333333,
              "#9c179e"
             ],
             [
              0.4444444444444444,
              "#bd3786"
             ],
             [
              0.5555555555555556,
              "#d8576b"
             ],
             [
              0.6666666666666666,
              "#ed7953"
             ],
             [
              0.7777777777777778,
              "#fb9f3a"
             ],
             [
              0.8888888888888888,
              "#fdca26"
             ],
             [
              1,
              "#f0f921"
             ]
            ],
            "type": "contour"
           }
          ],
          "contourcarpet": [
           {
            "colorbar": {
             "outlinewidth": 0,
             "ticks": ""
            },
            "type": "contourcarpet"
           }
          ],
          "heatmap": [
           {
            "colorbar": {
             "outlinewidth": 0,
             "ticks": ""
            },
            "colorscale": [
             [
              0,
              "#0d0887"
             ],
             [
              0.1111111111111111,
              "#46039f"
             ],
             [
              0.2222222222222222,
              "#7201a8"
             ],
             [
              0.3333333333333333,
              "#9c179e"
             ],
             [
              0.4444444444444444,
              "#bd3786"
             ],
             [
              0.5555555555555556,
              "#d8576b"
             ],
             [
              0.6666666666666666,
              "#ed7953"
             ],
             [
              0.7777777777777778,
              "#fb9f3a"
             ],
             [
              0.8888888888888888,
              "#fdca26"
             ],
             [
              1,
              "#f0f921"
             ]
            ],
            "type": "heatmap"
           }
          ],
          "heatmapgl": [
           {
            "colorbar": {
             "outlinewidth": 0,
             "ticks": ""
            },
            "colorscale": [
             [
              0,
              "#0d0887"
             ],
             [
              0.1111111111111111,
              "#46039f"
             ],
             [
              0.2222222222222222,
              "#7201a8"
             ],
             [
              0.3333333333333333,
              "#9c179e"
             ],
             [
              0.4444444444444444,
              "#bd3786"
             ],
             [
              0.5555555555555556,
              "#d8576b"
             ],
             [
              0.6666666666666666,
              "#ed7953"
             ],
             [
              0.7777777777777778,
              "#fb9f3a"
             ],
             [
              0.8888888888888888,
              "#fdca26"
             ],
             [
              1,
              "#f0f921"
             ]
            ],
            "type": "heatmapgl"
           }
          ],
          "histogram": [
           {
            "marker": {
             "pattern": {
              "fillmode": "overlay",
              "size": 10,
              "solidity": 0.2
             }
            },
            "type": "histogram"
           }
          ],
          "histogram2d": [
           {
            "colorbar": {
             "outlinewidth": 0,
             "ticks": ""
            },
            "colorscale": [
             [
              0,
              "#0d0887"
             ],
             [
              0.1111111111111111,
              "#46039f"
             ],
             [
              0.2222222222222222,
              "#7201a8"
             ],
             [
              0.3333333333333333,
              "#9c179e"
             ],
             [
              0.4444444444444444,
              "#bd3786"
             ],
             [
              0.5555555555555556,
              "#d8576b"
             ],
             [
              0.6666666666666666,
              "#ed7953"
             ],
             [
              0.7777777777777778,
              "#fb9f3a"
             ],
             [
              0.8888888888888888,
              "#fdca26"
             ],
             [
              1,
              "#f0f921"
             ]
            ],
            "type": "histogram2d"
           }
          ],
          "histogram2dcontour": [
           {
            "colorbar": {
             "outlinewidth": 0,
             "ticks": ""
            },
            "colorscale": [
             [
              0,
              "#0d0887"
             ],
             [
              0.1111111111111111,
              "#46039f"
             ],
             [
              0.2222222222222222,
              "#7201a8"
             ],
             [
              0.3333333333333333,
              "#9c179e"
             ],
             [
              0.4444444444444444,
              "#bd3786"
             ],
             [
              0.5555555555555556,
              "#d8576b"
             ],
             [
              0.6666666666666666,
              "#ed7953"
             ],
             [
              0.7777777777777778,
              "#fb9f3a"
             ],
             [
              0.8888888888888888,
              "#fdca26"
             ],
             [
              1,
              "#f0f921"
             ]
            ],
            "type": "histogram2dcontour"
           }
          ],
          "mesh3d": [
           {
            "colorbar": {
             "outlinewidth": 0,
             "ticks": ""
            },
            "type": "mesh3d"
           }
          ],
          "parcoords": [
           {
            "line": {
             "colorbar": {
              "outlinewidth": 0,
              "ticks": ""
             }
            },
            "type": "parcoords"
           }
          ],
          "pie": [
           {
            "automargin": true,
            "type": "pie"
           }
          ],
          "scatter": [
           {
            "fillpattern": {
             "fillmode": "overlay",
             "size": 10,
             "solidity": 0.2
            },
            "type": "scatter"
           }
          ],
          "scatter3d": [
           {
            "line": {
             "colorbar": {
              "outlinewidth": 0,
              "ticks": ""
             }
            },
            "marker": {
             "colorbar": {
              "outlinewidth": 0,
              "ticks": ""
             }
            },
            "type": "scatter3d"
           }
          ],
          "scattercarpet": [
           {
            "marker": {
             "colorbar": {
              "outlinewidth": 0,
              "ticks": ""
             }
            },
            "type": "scattercarpet"
           }
          ],
          "scattergeo": [
           {
            "marker": {
             "colorbar": {
              "outlinewidth": 0,
              "ticks": ""
             }
            },
            "type": "scattergeo"
           }
          ],
          "scattergl": [
           {
            "marker": {
             "colorbar": {
              "outlinewidth": 0,
              "ticks": ""
             }
            },
            "type": "scattergl"
           }
          ],
          "scattermapbox": [
           {
            "marker": {
             "colorbar": {
              "outlinewidth": 0,
              "ticks": ""
             }
            },
            "type": "scattermapbox"
           }
          ],
          "scatterpolar": [
           {
            "marker": {
             "colorbar": {
              "outlinewidth": 0,
              "ticks": ""
             }
            },
            "type": "scatterpolar"
           }
          ],
          "scatterpolargl": [
           {
            "marker": {
             "colorbar": {
              "outlinewidth": 0,
              "ticks": ""
             }
            },
            "type": "scatterpolargl"
           }
          ],
          "scatterternary": [
           {
            "marker": {
             "colorbar": {
              "outlinewidth": 0,
              "ticks": ""
             }
            },
            "type": "scatterternary"
           }
          ],
          "surface": [
           {
            "colorbar": {
             "outlinewidth": 0,
             "ticks": ""
            },
            "colorscale": [
             [
              0,
              "#0d0887"
             ],
             [
              0.1111111111111111,
              "#46039f"
             ],
             [
              0.2222222222222222,
              "#7201a8"
             ],
             [
              0.3333333333333333,
              "#9c179e"
             ],
             [
              0.4444444444444444,
              "#bd3786"
             ],
             [
              0.5555555555555556,
              "#d8576b"
             ],
             [
              0.6666666666666666,
              "#ed7953"
             ],
             [
              0.7777777777777778,
              "#fb9f3a"
             ],
             [
              0.8888888888888888,
              "#fdca26"
             ],
             [
              1,
              "#f0f921"
             ]
            ],
            "type": "surface"
           }
          ],
          "table": [
           {
            "cells": {
             "fill": {
              "color": "#EBF0F8"
             },
             "line": {
              "color": "white"
             }
            },
            "header": {
             "fill": {
              "color": "#C8D4E3"
             },
             "line": {
              "color": "white"
             }
            },
            "type": "table"
           }
          ]
         },
         "layout": {
          "annotationdefaults": {
           "arrowcolor": "#2a3f5f",
           "arrowhead": 0,
           "arrowwidth": 1
          },
          "autotypenumbers": "strict",
          "coloraxis": {
           "colorbar": {
            "outlinewidth": 0,
            "ticks": ""
           }
          },
          "colorscale": {
           "diverging": [
            [
             0,
             "#8e0152"
            ],
            [
             0.1,
             "#c51b7d"
            ],
            [
             0.2,
             "#de77ae"
            ],
            [
             0.3,
             "#f1b6da"
            ],
            [
             0.4,
             "#fde0ef"
            ],
            [
             0.5,
             "#f7f7f7"
            ],
            [
             0.6,
             "#e6f5d0"
            ],
            [
             0.7,
             "#b8e186"
            ],
            [
             0.8,
             "#7fbc41"
            ],
            [
             0.9,
             "#4d9221"
            ],
            [
             1,
             "#276419"
            ]
           ],
           "sequential": [
            [
             0,
             "#0d0887"
            ],
            [
             0.1111111111111111,
             "#46039f"
            ],
            [
             0.2222222222222222,
             "#7201a8"
            ],
            [
             0.3333333333333333,
             "#9c179e"
            ],
            [
             0.4444444444444444,
             "#bd3786"
            ],
            [
             0.5555555555555556,
             "#d8576b"
            ],
            [
             0.6666666666666666,
             "#ed7953"
            ],
            [
             0.7777777777777778,
             "#fb9f3a"
            ],
            [
             0.8888888888888888,
             "#fdca26"
            ],
            [
             1,
             "#f0f921"
            ]
           ],
           "sequentialminus": [
            [
             0,
             "#0d0887"
            ],
            [
             0.1111111111111111,
             "#46039f"
            ],
            [
             0.2222222222222222,
             "#7201a8"
            ],
            [
             0.3333333333333333,
             "#9c179e"
            ],
            [
             0.4444444444444444,
             "#bd3786"
            ],
            [
             0.5555555555555556,
             "#d8576b"
            ],
            [
             0.6666666666666666,
             "#ed7953"
            ],
            [
             0.7777777777777778,
             "#fb9f3a"
            ],
            [
             0.8888888888888888,
             "#fdca26"
            ],
            [
             1,
             "#f0f921"
            ]
           ]
          },
          "colorway": [
           "#636efa",
           "#EF553B",
           "#00cc96",
           "#ab63fa",
           "#FFA15A",
           "#19d3f3",
           "#FF6692",
           "#B6E880",
           "#FF97FF",
           "#FECB52"
          ],
          "font": {
           "color": "#2a3f5f"
          },
          "geo": {
           "bgcolor": "white",
           "lakecolor": "white",
           "landcolor": "#E5ECF6",
           "showlakes": true,
           "showland": true,
           "subunitcolor": "white"
          },
          "hoverlabel": {
           "align": "left"
          },
          "hovermode": "closest",
          "mapbox": {
           "style": "light"
          },
          "paper_bgcolor": "white",
          "plot_bgcolor": "#E5ECF6",
          "polar": {
           "angularaxis": {
            "gridcolor": "white",
            "linecolor": "white",
            "ticks": ""
           },
           "bgcolor": "#E5ECF6",
           "radialaxis": {
            "gridcolor": "white",
            "linecolor": "white",
            "ticks": ""
           }
          },
          "scene": {
           "xaxis": {
            "backgroundcolor": "#E5ECF6",
            "gridcolor": "white",
            "gridwidth": 2,
            "linecolor": "white",
            "showbackground": true,
            "ticks": "",
            "zerolinecolor": "white"
           },
           "yaxis": {
            "backgroundcolor": "#E5ECF6",
            "gridcolor": "white",
            "gridwidth": 2,
            "linecolor": "white",
            "showbackground": true,
            "ticks": "",
            "zerolinecolor": "white"
           },
           "zaxis": {
            "backgroundcolor": "#E5ECF6",
            "gridcolor": "white",
            "gridwidth": 2,
            "linecolor": "white",
            "showbackground": true,
            "ticks": "",
            "zerolinecolor": "white"
           }
          },
          "shapedefaults": {
           "line": {
            "color": "#2a3f5f"
           }
          },
          "ternary": {
           "aaxis": {
            "gridcolor": "white",
            "linecolor": "white",
            "ticks": ""
           },
           "baxis": {
            "gridcolor": "white",
            "linecolor": "white",
            "ticks": ""
           },
           "bgcolor": "#E5ECF6",
           "caxis": {
            "gridcolor": "white",
            "linecolor": "white",
            "ticks": ""
           }
          },
          "title": {
           "x": 0.05
          },
          "xaxis": {
           "automargin": true,
           "gridcolor": "white",
           "linecolor": "white",
           "ticks": "",
           "title": {
            "standoff": 15
           },
           "zerolinecolor": "white",
           "zerolinewidth": 2
          },
          "yaxis": {
           "automargin": true,
           "gridcolor": "white",
           "linecolor": "white",
           "ticks": "",
           "title": {
            "standoff": 15
           },
           "zerolinecolor": "white",
           "zerolinewidth": 2
          }
         }
        },
        "xaxis": {
         "anchor": "y",
         "domain": [
          0,
          1
         ],
         "title": {
          "text": "index"
         }
        },
        "yaxis": {
         "anchor": "x",
         "domain": [
          0,
          1
         ],
         "title": {
          "text": "value"
         }
        }
       }
      }
     },
     "metadata": {},
     "output_type": "display_data"
    }
   ],
   "source": [
    "px.bar(mean_values_small)"
   ]
  },
  {
   "cell_type": "code",
   "execution_count": 235,
   "metadata": {},
   "outputs": [
    {
     "data": {
      "application/vnd.plotly.v1+json": {
       "config": {
        "plotlyServerURL": "https://plot.ly"
       },
       "data": [
        {
         "alignmentgroup": "True",
         "hovertemplate": "variable=0<br>index=%{x}<br>value=%{y}<extra></extra>",
         "legendgroup": "0",
         "marker": {
          "color": "#636efa",
          "pattern": {
           "shape": ""
          }
         },
         "name": "0",
         "offsetgroup": "0",
         "orientation": "v",
         "showlegend": true,
         "textposition": "auto",
         "type": "bar",
         "x": [
          "Points",
          "SoTA",
          "Saves",
          "Save%",
          "CS%",
          "GA",
          "PKA",
          "FK",
          "CK",
          "OG",
          "PSxG",
          "PSxG/SoT",
          "PSxG+/-",
          "Gls",
          "Sh",
          "SoT",
          "SoT%",
          "G/Sh",
          "G/SoT",
          "xG",
          "npxG",
          "npxG/Sh",
          "PAtt",
          "Cmp%",
          "Ast",
          "xAG",
          "xA",
          "KP",
          "PPA",
          "CrsPA",
          "PrgP",
          "SCA",
          "GCA",
          "TklW",
          "DC",
          "Tkl%",
          "Lost",
          "Blocks",
          "Sh.1",
          "Pass",
          "Int",
          "Tkl+Int",
          "Clr",
          "Err",
          "Touches",
          "Att",
          "Succ",
          "Succ%",
          "PrgDist",
          "PrgC",
          "PrgR"
         ],
         "xaxis": "x",
         "y": [
          1,
          -0.7827010627805394,
          -0.6232149360551719,
          0.4364149541563347,
          0.8404422485748826,
          -0.8574373392407235,
          -0.29300944491154945,
          -0.28023749905483564,
          -0.42667983438435503,
          -0.21633116925720172,
          -0.8069541495876394,
          -0.2535573433995856,
          0.425935106818572,
          0.918990889075731,
          0.7999189972091564,
          0.8579113348516344,
          0.5994478842693121,
          0.7463626982861079,
          0.6939348691389969,
          0.8664514125840256,
          0.8638387486658267,
          0.598220284358641,
          0.8009491066022632,
          0.7232203075854009,
          0.8964687184123552,
          0.8432421274895125,
          0.8506789658193183,
          0.7917794889742451,
          0.8249257441472293,
          0.03403065042935092,
          0.7877804987225359,
          0.8119406742935785,
          0.917324063474523,
          -0.30319170694189373,
          -0.328168040597483,
          -0.053736334888606005,
          -0.29457282370050974,
          -0.626414774777657,
          -0.6460055514288011,
          -0.3095915413373867,
          -0.49286323781764385,
          -0.529886267840278,
          -0.5521041052966809,
          0.04778443407783553,
          0.7918602207021158,
          0.3584927307490645,
          0.3938874757313376,
          0.1461501824628454,
          0.7756534635010297,
          0.7594128389904848,
          0.7875177570648156
         ],
         "yaxis": "y"
        }
       ],
       "layout": {
        "barmode": "relative",
        "legend": {
         "title": {
          "text": "variable"
         },
         "tracegroupgap": 0
        },
        "margin": {
         "t": 60
        },
        "template": {
         "data": {
          "bar": [
           {
            "error_x": {
             "color": "#2a3f5f"
            },
            "error_y": {
             "color": "#2a3f5f"
            },
            "marker": {
             "line": {
              "color": "#E5ECF6",
              "width": 0.5
             },
             "pattern": {
              "fillmode": "overlay",
              "size": 10,
              "solidity": 0.2
             }
            },
            "type": "bar"
           }
          ],
          "barpolar": [
           {
            "marker": {
             "line": {
              "color": "#E5ECF6",
              "width": 0.5
             },
             "pattern": {
              "fillmode": "overlay",
              "size": 10,
              "solidity": 0.2
             }
            },
            "type": "barpolar"
           }
          ],
          "carpet": [
           {
            "aaxis": {
             "endlinecolor": "#2a3f5f",
             "gridcolor": "white",
             "linecolor": "white",
             "minorgridcolor": "white",
             "startlinecolor": "#2a3f5f"
            },
            "baxis": {
             "endlinecolor": "#2a3f5f",
             "gridcolor": "white",
             "linecolor": "white",
             "minorgridcolor": "white",
             "startlinecolor": "#2a3f5f"
            },
            "type": "carpet"
           }
          ],
          "choropleth": [
           {
            "colorbar": {
             "outlinewidth": 0,
             "ticks": ""
            },
            "type": "choropleth"
           }
          ],
          "contour": [
           {
            "colorbar": {
             "outlinewidth": 0,
             "ticks": ""
            },
            "colorscale": [
             [
              0,
              "#0d0887"
             ],
             [
              0.1111111111111111,
              "#46039f"
             ],
             [
              0.2222222222222222,
              "#7201a8"
             ],
             [
              0.3333333333333333,
              "#9c179e"
             ],
             [
              0.4444444444444444,
              "#bd3786"
             ],
             [
              0.5555555555555556,
              "#d8576b"
             ],
             [
              0.6666666666666666,
              "#ed7953"
             ],
             [
              0.7777777777777778,
              "#fb9f3a"
             ],
             [
              0.8888888888888888,
              "#fdca26"
             ],
             [
              1,
              "#f0f921"
             ]
            ],
            "type": "contour"
           }
          ],
          "contourcarpet": [
           {
            "colorbar": {
             "outlinewidth": 0,
             "ticks": ""
            },
            "type": "contourcarpet"
           }
          ],
          "heatmap": [
           {
            "colorbar": {
             "outlinewidth": 0,
             "ticks": ""
            },
            "colorscale": [
             [
              0,
              "#0d0887"
             ],
             [
              0.1111111111111111,
              "#46039f"
             ],
             [
              0.2222222222222222,
              "#7201a8"
             ],
             [
              0.3333333333333333,
              "#9c179e"
             ],
             [
              0.4444444444444444,
              "#bd3786"
             ],
             [
              0.5555555555555556,
              "#d8576b"
             ],
             [
              0.6666666666666666,
              "#ed7953"
             ],
             [
              0.7777777777777778,
              "#fb9f3a"
             ],
             [
              0.8888888888888888,
              "#fdca26"
             ],
             [
              1,
              "#f0f921"
             ]
            ],
            "type": "heatmap"
           }
          ],
          "heatmapgl": [
           {
            "colorbar": {
             "outlinewidth": 0,
             "ticks": ""
            },
            "colorscale": [
             [
              0,
              "#0d0887"
             ],
             [
              0.1111111111111111,
              "#46039f"
             ],
             [
              0.2222222222222222,
              "#7201a8"
             ],
             [
              0.3333333333333333,
              "#9c179e"
             ],
             [
              0.4444444444444444,
              "#bd3786"
             ],
             [
              0.5555555555555556,
              "#d8576b"
             ],
             [
              0.6666666666666666,
              "#ed7953"
             ],
             [
              0.7777777777777778,
              "#fb9f3a"
             ],
             [
              0.8888888888888888,
              "#fdca26"
             ],
             [
              1,
              "#f0f921"
             ]
            ],
            "type": "heatmapgl"
           }
          ],
          "histogram": [
           {
            "marker": {
             "pattern": {
              "fillmode": "overlay",
              "size": 10,
              "solidity": 0.2
             }
            },
            "type": "histogram"
           }
          ],
          "histogram2d": [
           {
            "colorbar": {
             "outlinewidth": 0,
             "ticks": ""
            },
            "colorscale": [
             [
              0,
              "#0d0887"
             ],
             [
              0.1111111111111111,
              "#46039f"
             ],
             [
              0.2222222222222222,
              "#7201a8"
             ],
             [
              0.3333333333333333,
              "#9c179e"
             ],
             [
              0.4444444444444444,
              "#bd3786"
             ],
             [
              0.5555555555555556,
              "#d8576b"
             ],
             [
              0.6666666666666666,
              "#ed7953"
             ],
             [
              0.7777777777777778,
              "#fb9f3a"
             ],
             [
              0.8888888888888888,
              "#fdca26"
             ],
             [
              1,
              "#f0f921"
             ]
            ],
            "type": "histogram2d"
           }
          ],
          "histogram2dcontour": [
           {
            "colorbar": {
             "outlinewidth": 0,
             "ticks": ""
            },
            "colorscale": [
             [
              0,
              "#0d0887"
             ],
             [
              0.1111111111111111,
              "#46039f"
             ],
             [
              0.2222222222222222,
              "#7201a8"
             ],
             [
              0.3333333333333333,
              "#9c179e"
             ],
             [
              0.4444444444444444,
              "#bd3786"
             ],
             [
              0.5555555555555556,
              "#d8576b"
             ],
             [
              0.6666666666666666,
              "#ed7953"
             ],
             [
              0.7777777777777778,
              "#fb9f3a"
             ],
             [
              0.8888888888888888,
              "#fdca26"
             ],
             [
              1,
              "#f0f921"
             ]
            ],
            "type": "histogram2dcontour"
           }
          ],
          "mesh3d": [
           {
            "colorbar": {
             "outlinewidth": 0,
             "ticks": ""
            },
            "type": "mesh3d"
           }
          ],
          "parcoords": [
           {
            "line": {
             "colorbar": {
              "outlinewidth": 0,
              "ticks": ""
             }
            },
            "type": "parcoords"
           }
          ],
          "pie": [
           {
            "automargin": true,
            "type": "pie"
           }
          ],
          "scatter": [
           {
            "fillpattern": {
             "fillmode": "overlay",
             "size": 10,
             "solidity": 0.2
            },
            "type": "scatter"
           }
          ],
          "scatter3d": [
           {
            "line": {
             "colorbar": {
              "outlinewidth": 0,
              "ticks": ""
             }
            },
            "marker": {
             "colorbar": {
              "outlinewidth": 0,
              "ticks": ""
             }
            },
            "type": "scatter3d"
           }
          ],
          "scattercarpet": [
           {
            "marker": {
             "colorbar": {
              "outlinewidth": 0,
              "ticks": ""
             }
            },
            "type": "scattercarpet"
           }
          ],
          "scattergeo": [
           {
            "marker": {
             "colorbar": {
              "outlinewidth": 0,
              "ticks": ""
             }
            },
            "type": "scattergeo"
           }
          ],
          "scattergl": [
           {
            "marker": {
             "colorbar": {
              "outlinewidth": 0,
              "ticks": ""
             }
            },
            "type": "scattergl"
           }
          ],
          "scattermapbox": [
           {
            "marker": {
             "colorbar": {
              "outlinewidth": 0,
              "ticks": ""
             }
            },
            "type": "scattermapbox"
           }
          ],
          "scatterpolar": [
           {
            "marker": {
             "colorbar": {
              "outlinewidth": 0,
              "ticks": ""
             }
            },
            "type": "scatterpolar"
           }
          ],
          "scatterpolargl": [
           {
            "marker": {
             "colorbar": {
              "outlinewidth": 0,
              "ticks": ""
             }
            },
            "type": "scatterpolargl"
           }
          ],
          "scatterternary": [
           {
            "marker": {
             "colorbar": {
              "outlinewidth": 0,
              "ticks": ""
             }
            },
            "type": "scatterternary"
           }
          ],
          "surface": [
           {
            "colorbar": {
             "outlinewidth": 0,
             "ticks": ""
            },
            "colorscale": [
             [
              0,
              "#0d0887"
             ],
             [
              0.1111111111111111,
              "#46039f"
             ],
             [
              0.2222222222222222,
              "#7201a8"
             ],
             [
              0.3333333333333333,
              "#9c179e"
             ],
             [
              0.4444444444444444,
              "#bd3786"
             ],
             [
              0.5555555555555556,
              "#d8576b"
             ],
             [
              0.6666666666666666,
              "#ed7953"
             ],
             [
              0.7777777777777778,
              "#fb9f3a"
             ],
             [
              0.8888888888888888,
              "#fdca26"
             ],
             [
              1,
              "#f0f921"
             ]
            ],
            "type": "surface"
           }
          ],
          "table": [
           {
            "cells": {
             "fill": {
              "color": "#EBF0F8"
             },
             "line": {
              "color": "white"
             }
            },
            "header": {
             "fill": {
              "color": "#C8D4E3"
             },
             "line": {
              "color": "white"
             }
            },
            "type": "table"
           }
          ]
         },
         "layout": {
          "annotationdefaults": {
           "arrowcolor": "#2a3f5f",
           "arrowhead": 0,
           "arrowwidth": 1
          },
          "autotypenumbers": "strict",
          "coloraxis": {
           "colorbar": {
            "outlinewidth": 0,
            "ticks": ""
           }
          },
          "colorscale": {
           "diverging": [
            [
             0,
             "#8e0152"
            ],
            [
             0.1,
             "#c51b7d"
            ],
            [
             0.2,
             "#de77ae"
            ],
            [
             0.3,
             "#f1b6da"
            ],
            [
             0.4,
             "#fde0ef"
            ],
            [
             0.5,
             "#f7f7f7"
            ],
            [
             0.6,
             "#e6f5d0"
            ],
            [
             0.7,
             "#b8e186"
            ],
            [
             0.8,
             "#7fbc41"
            ],
            [
             0.9,
             "#4d9221"
            ],
            [
             1,
             "#276419"
            ]
           ],
           "sequential": [
            [
             0,
             "#0d0887"
            ],
            [
             0.1111111111111111,
             "#46039f"
            ],
            [
             0.2222222222222222,
             "#7201a8"
            ],
            [
             0.3333333333333333,
             "#9c179e"
            ],
            [
             0.4444444444444444,
             "#bd3786"
            ],
            [
             0.5555555555555556,
             "#d8576b"
            ],
            [
             0.6666666666666666,
             "#ed7953"
            ],
            [
             0.7777777777777778,
             "#fb9f3a"
            ],
            [
             0.8888888888888888,
             "#fdca26"
            ],
            [
             1,
             "#f0f921"
            ]
           ],
           "sequentialminus": [
            [
             0,
             "#0d0887"
            ],
            [
             0.1111111111111111,
             "#46039f"
            ],
            [
             0.2222222222222222,
             "#7201a8"
            ],
            [
             0.3333333333333333,
             "#9c179e"
            ],
            [
             0.4444444444444444,
             "#bd3786"
            ],
            [
             0.5555555555555556,
             "#d8576b"
            ],
            [
             0.6666666666666666,
             "#ed7953"
            ],
            [
             0.7777777777777778,
             "#fb9f3a"
            ],
            [
             0.8888888888888888,
             "#fdca26"
            ],
            [
             1,
             "#f0f921"
            ]
           ]
          },
          "colorway": [
           "#636efa",
           "#EF553B",
           "#00cc96",
           "#ab63fa",
           "#FFA15A",
           "#19d3f3",
           "#FF6692",
           "#B6E880",
           "#FF97FF",
           "#FECB52"
          ],
          "font": {
           "color": "#2a3f5f"
          },
          "geo": {
           "bgcolor": "white",
           "lakecolor": "white",
           "landcolor": "#E5ECF6",
           "showlakes": true,
           "showland": true,
           "subunitcolor": "white"
          },
          "hoverlabel": {
           "align": "left"
          },
          "hovermode": "closest",
          "mapbox": {
           "style": "light"
          },
          "paper_bgcolor": "white",
          "plot_bgcolor": "#E5ECF6",
          "polar": {
           "angularaxis": {
            "gridcolor": "white",
            "linecolor": "white",
            "ticks": ""
           },
           "bgcolor": "#E5ECF6",
           "radialaxis": {
            "gridcolor": "white",
            "linecolor": "white",
            "ticks": ""
           }
          },
          "scene": {
           "xaxis": {
            "backgroundcolor": "#E5ECF6",
            "gridcolor": "white",
            "gridwidth": 2,
            "linecolor": "white",
            "showbackground": true,
            "ticks": "",
            "zerolinecolor": "white"
           },
           "yaxis": {
            "backgroundcolor": "#E5ECF6",
            "gridcolor": "white",
            "gridwidth": 2,
            "linecolor": "white",
            "showbackground": true,
            "ticks": "",
            "zerolinecolor": "white"
           },
           "zaxis": {
            "backgroundcolor": "#E5ECF6",
            "gridcolor": "white",
            "gridwidth": 2,
            "linecolor": "white",
            "showbackground": true,
            "ticks": "",
            "zerolinecolor": "white"
           }
          },
          "shapedefaults": {
           "line": {
            "color": "#2a3f5f"
           }
          },
          "ternary": {
           "aaxis": {
            "gridcolor": "white",
            "linecolor": "white",
            "ticks": ""
           },
           "baxis": {
            "gridcolor": "white",
            "linecolor": "white",
            "ticks": ""
           },
           "bgcolor": "#E5ECF6",
           "caxis": {
            "gridcolor": "white",
            "linecolor": "white",
            "ticks": ""
           }
          },
          "title": {
           "x": 0.05
          },
          "xaxis": {
           "automargin": true,
           "gridcolor": "white",
           "linecolor": "white",
           "ticks": "",
           "title": {
            "standoff": 15
           },
           "zerolinecolor": "white",
           "zerolinewidth": 2
          },
          "yaxis": {
           "automargin": true,
           "gridcolor": "white",
           "linecolor": "white",
           "ticks": "",
           "title": {
            "standoff": 15
           },
           "zerolinecolor": "white",
           "zerolinewidth": 2
          }
         }
        },
        "xaxis": {
         "anchor": "y",
         "domain": [
          0,
          1
         ],
         "title": {
          "text": "index"
         }
        },
        "yaxis": {
         "anchor": "x",
         "domain": [
          0,
          1
         ],
         "title": {
          "text": "value"
         }
        }
       }
      }
     },
     "metadata": {},
     "output_type": "display_data"
    }
   ],
   "source": [
    "correlation=epl_advance_stats.corrwith(epl_data[\"Points\"])\n",
    "px.bar(correlation)"
   ]
  },
  {
   "cell_type": "code",
   "execution_count": 236,
   "metadata": {},
   "outputs": [
    {
     "data": {
      "application/vnd.plotly.v1+json": {
       "config": {
        "plotlyServerURL": "https://plot.ly"
       },
       "data": [
        {
         "hovertemplate": "x=%{x}<br>y=%{y}<extra></extra>",
         "legendgroup": "",
         "marker": {
          "color": "#636efa",
          "symbol": "circle"
         },
         "mode": "markers",
         "name": "",
         "orientation": "v",
         "showlegend": false,
         "type": "scatter",
         "x": [
          63,
          44,
          40,
          54,
          70,
          44,
          49,
          37,
          47,
          75,
          100,
          81,
          44,
          36,
          33,
          33,
          77,
          41,
          31,
          42,
          70,
          45,
          36,
          40,
          34,
          72,
          49,
          54,
          26,
          16,
          52,
          97,
          98,
          66,
          45,
          39,
          71,
          50,
          52,
          57,
          56,
          35,
          34,
          41,
          54,
          66,
          43,
          49,
          62,
          99,
          81,
          66,
          44,
          21,
          54,
          52,
          59,
          34,
          39,
          59,
          61,
          55,
          41,
          39,
          67,
          44,
          59,
          28,
          59,
          66,
          69,
          86,
          74,
          45,
          23,
          43,
          62,
          26,
          65,
          45,
          69,
          45,
          46,
          51,
          35,
          74,
          48,
          39,
          38,
          52,
          92,
          93,
          58,
          49,
          22,
          40,
          71,
          23,
          56,
          51,
          84,
          61,
          39,
          59,
          62,
          44,
          45,
          36,
          52,
          31,
          34,
          67,
          89,
          75,
          71,
          38,
          25,
          60,
          40,
          41
         ],
         "xaxis": "x",
         "y": [
          3.45,
          2.18,
          1.58,
          1.53,
          2.89,
          2.05,
          1.87,
          1.18,
          2.47,
          3.79,
          5.08,
          3.08,
          1.66,
          1.71,
          1.63,
          1.05,
          3,
          1.82,
          1.34,
          2.08,
          3.05,
          2.61,
          1.45,
          1.82,
          1.32,
          3,
          2.26,
          2.45,
          1.55,
          0.87,
          2.24,
          3.92,
          4.42,
          3.11,
          1.79,
          2.03,
          3.03,
          2.18,
          2.32,
          2.16,
          2.24,
          1.89,
          1.66,
          1.71,
          1.87,
          3.24,
          1.39,
          1.76,
          3.05,
          3.89,
          4.55,
          2.95,
          1.63,
          1.13,
          1.66,
          2.03,
          2.47,
          1.53,
          2.34,
          2.18,
          2.5,
          2.47,
          1.66,
          1.37,
          2.5,
          1.84,
          2.11,
          1.24,
          2.84,
          3,
          2.89,
          3.71,
          3.34,
          1.97,
          0.71,
          2.18,
          3.16,
          1.39,
          2.79,
          1.66,
          2.61,
          2.45,
          2.05,
          1.89,
          1.58,
          3.55,
          2.13,
          1.79,
          1.74,
          2.76,
          4.29,
          4.16,
          2.74,
          1.84,
          0.92,
          1.87,
          3.08,
          1.5,
          2.68,
          1.53,
          3.95,
          2.21,
          1.68,
          2.58,
          3.03,
          1.79,
          1.76,
          1.55,
          2.37,
          1.82,
          2.29,
          3.39,
          4.42,
          2.61,
          2.79,
          1.42,
          1.61,
          3.05,
          1.76,
          1.16
         ],
         "yaxis": "y"
        }
       ],
       "layout": {
        "legend": {
         "tracegroupgap": 0
        },
        "margin": {
         "t": 60
        },
        "template": {
         "data": {
          "bar": [
           {
            "error_x": {
             "color": "#2a3f5f"
            },
            "error_y": {
             "color": "#2a3f5f"
            },
            "marker": {
             "line": {
              "color": "#E5ECF6",
              "width": 0.5
             },
             "pattern": {
              "fillmode": "overlay",
              "size": 10,
              "solidity": 0.2
             }
            },
            "type": "bar"
           }
          ],
          "barpolar": [
           {
            "marker": {
             "line": {
              "color": "#E5ECF6",
              "width": 0.5
             },
             "pattern": {
              "fillmode": "overlay",
              "size": 10,
              "solidity": 0.2
             }
            },
            "type": "barpolar"
           }
          ],
          "carpet": [
           {
            "aaxis": {
             "endlinecolor": "#2a3f5f",
             "gridcolor": "white",
             "linecolor": "white",
             "minorgridcolor": "white",
             "startlinecolor": "#2a3f5f"
            },
            "baxis": {
             "endlinecolor": "#2a3f5f",
             "gridcolor": "white",
             "linecolor": "white",
             "minorgridcolor": "white",
             "startlinecolor": "#2a3f5f"
            },
            "type": "carpet"
           }
          ],
          "choropleth": [
           {
            "colorbar": {
             "outlinewidth": 0,
             "ticks": ""
            },
            "type": "choropleth"
           }
          ],
          "contour": [
           {
            "colorbar": {
             "outlinewidth": 0,
             "ticks": ""
            },
            "colorscale": [
             [
              0,
              "#0d0887"
             ],
             [
              0.1111111111111111,
              "#46039f"
             ],
             [
              0.2222222222222222,
              "#7201a8"
             ],
             [
              0.3333333333333333,
              "#9c179e"
             ],
             [
              0.4444444444444444,
              "#bd3786"
             ],
             [
              0.5555555555555556,
              "#d8576b"
             ],
             [
              0.6666666666666666,
              "#ed7953"
             ],
             [
              0.7777777777777778,
              "#fb9f3a"
             ],
             [
              0.8888888888888888,
              "#fdca26"
             ],
             [
              1,
              "#f0f921"
             ]
            ],
            "type": "contour"
           }
          ],
          "contourcarpet": [
           {
            "colorbar": {
             "outlinewidth": 0,
             "ticks": ""
            },
            "type": "contourcarpet"
           }
          ],
          "heatmap": [
           {
            "colorbar": {
             "outlinewidth": 0,
             "ticks": ""
            },
            "colorscale": [
             [
              0,
              "#0d0887"
             ],
             [
              0.1111111111111111,
              "#46039f"
             ],
             [
              0.2222222222222222,
              "#7201a8"
             ],
             [
              0.3333333333333333,
              "#9c179e"
             ],
             [
              0.4444444444444444,
              "#bd3786"
             ],
             [
              0.5555555555555556,
              "#d8576b"
             ],
             [
              0.6666666666666666,
              "#ed7953"
             ],
             [
              0.7777777777777778,
              "#fb9f3a"
             ],
             [
              0.8888888888888888,
              "#fdca26"
             ],
             [
              1,
              "#f0f921"
             ]
            ],
            "type": "heatmap"
           }
          ],
          "heatmapgl": [
           {
            "colorbar": {
             "outlinewidth": 0,
             "ticks": ""
            },
            "colorscale": [
             [
              0,
              "#0d0887"
             ],
             [
              0.1111111111111111,
              "#46039f"
             ],
             [
              0.2222222222222222,
              "#7201a8"
             ],
             [
              0.3333333333333333,
              "#9c179e"
             ],
             [
              0.4444444444444444,
              "#bd3786"
             ],
             [
              0.5555555555555556,
              "#d8576b"
             ],
             [
              0.6666666666666666,
              "#ed7953"
             ],
             [
              0.7777777777777778,
              "#fb9f3a"
             ],
             [
              0.8888888888888888,
              "#fdca26"
             ],
             [
              1,
              "#f0f921"
             ]
            ],
            "type": "heatmapgl"
           }
          ],
          "histogram": [
           {
            "marker": {
             "pattern": {
              "fillmode": "overlay",
              "size": 10,
              "solidity": 0.2
             }
            },
            "type": "histogram"
           }
          ],
          "histogram2d": [
           {
            "colorbar": {
             "outlinewidth": 0,
             "ticks": ""
            },
            "colorscale": [
             [
              0,
              "#0d0887"
             ],
             [
              0.1111111111111111,
              "#46039f"
             ],
             [
              0.2222222222222222,
              "#7201a8"
             ],
             [
              0.3333333333333333,
              "#9c179e"
             ],
             [
              0.4444444444444444,
              "#bd3786"
             ],
             [
              0.5555555555555556,
              "#d8576b"
             ],
             [
              0.6666666666666666,
              "#ed7953"
             ],
             [
              0.7777777777777778,
              "#fb9f3a"
             ],
             [
              0.8888888888888888,
              "#fdca26"
             ],
             [
              1,
              "#f0f921"
             ]
            ],
            "type": "histogram2d"
           }
          ],
          "histogram2dcontour": [
           {
            "colorbar": {
             "outlinewidth": 0,
             "ticks": ""
            },
            "colorscale": [
             [
              0,
              "#0d0887"
             ],
             [
              0.1111111111111111,
              "#46039f"
             ],
             [
              0.2222222222222222,
              "#7201a8"
             ],
             [
              0.3333333333333333,
              "#9c179e"
             ],
             [
              0.4444444444444444,
              "#bd3786"
             ],
             [
              0.5555555555555556,
              "#d8576b"
             ],
             [
              0.6666666666666666,
              "#ed7953"
             ],
             [
              0.7777777777777778,
              "#fb9f3a"
             ],
             [
              0.8888888888888888,
              "#fdca26"
             ],
             [
              1,
              "#f0f921"
             ]
            ],
            "type": "histogram2dcontour"
           }
          ],
          "mesh3d": [
           {
            "colorbar": {
             "outlinewidth": 0,
             "ticks": ""
            },
            "type": "mesh3d"
           }
          ],
          "parcoords": [
           {
            "line": {
             "colorbar": {
              "outlinewidth": 0,
              "ticks": ""
             }
            },
            "type": "parcoords"
           }
          ],
          "pie": [
           {
            "automargin": true,
            "type": "pie"
           }
          ],
          "scatter": [
           {
            "fillpattern": {
             "fillmode": "overlay",
             "size": 10,
             "solidity": 0.2
            },
            "type": "scatter"
           }
          ],
          "scatter3d": [
           {
            "line": {
             "colorbar": {
              "outlinewidth": 0,
              "ticks": ""
             }
            },
            "marker": {
             "colorbar": {
              "outlinewidth": 0,
              "ticks": ""
             }
            },
            "type": "scatter3d"
           }
          ],
          "scattercarpet": [
           {
            "marker": {
             "colorbar": {
              "outlinewidth": 0,
              "ticks": ""
             }
            },
            "type": "scattercarpet"
           }
          ],
          "scattergeo": [
           {
            "marker": {
             "colorbar": {
              "outlinewidth": 0,
              "ticks": ""
             }
            },
            "type": "scattergeo"
           }
          ],
          "scattergl": [
           {
            "marker": {
             "colorbar": {
              "outlinewidth": 0,
              "ticks": ""
             }
            },
            "type": "scattergl"
           }
          ],
          "scattermapbox": [
           {
            "marker": {
             "colorbar": {
              "outlinewidth": 0,
              "ticks": ""
             }
            },
            "type": "scattermapbox"
           }
          ],
          "scatterpolar": [
           {
            "marker": {
             "colorbar": {
              "outlinewidth": 0,
              "ticks": ""
             }
            },
            "type": "scatterpolar"
           }
          ],
          "scatterpolargl": [
           {
            "marker": {
             "colorbar": {
              "outlinewidth": 0,
              "ticks": ""
             }
            },
            "type": "scatterpolargl"
           }
          ],
          "scatterternary": [
           {
            "marker": {
             "colorbar": {
              "outlinewidth": 0,
              "ticks": ""
             }
            },
            "type": "scatterternary"
           }
          ],
          "surface": [
           {
            "colorbar": {
             "outlinewidth": 0,
             "ticks": ""
            },
            "colorscale": [
             [
              0,
              "#0d0887"
             ],
             [
              0.1111111111111111,
              "#46039f"
             ],
             [
              0.2222222222222222,
              "#7201a8"
             ],
             [
              0.3333333333333333,
              "#9c179e"
             ],
             [
              0.4444444444444444,
              "#bd3786"
             ],
             [
              0.5555555555555556,
              "#d8576b"
             ],
             [
              0.6666666666666666,
              "#ed7953"
             ],
             [
              0.7777777777777778,
              "#fb9f3a"
             ],
             [
              0.8888888888888888,
              "#fdca26"
             ],
             [
              1,
              "#f0f921"
             ]
            ],
            "type": "surface"
           }
          ],
          "table": [
           {
            "cells": {
             "fill": {
              "color": "#EBF0F8"
             },
             "line": {
              "color": "white"
             }
            },
            "header": {
             "fill": {
              "color": "#C8D4E3"
             },
             "line": {
              "color": "white"
             }
            },
            "type": "table"
           }
          ]
         },
         "layout": {
          "annotationdefaults": {
           "arrowcolor": "#2a3f5f",
           "arrowhead": 0,
           "arrowwidth": 1
          },
          "autotypenumbers": "strict",
          "coloraxis": {
           "colorbar": {
            "outlinewidth": 0,
            "ticks": ""
           }
          },
          "colorscale": {
           "diverging": [
            [
             0,
             "#8e0152"
            ],
            [
             0.1,
             "#c51b7d"
            ],
            [
             0.2,
             "#de77ae"
            ],
            [
             0.3,
             "#f1b6da"
            ],
            [
             0.4,
             "#fde0ef"
            ],
            [
             0.5,
             "#f7f7f7"
            ],
            [
             0.6,
             "#e6f5d0"
            ],
            [
             0.7,
             "#b8e186"
            ],
            [
             0.8,
             "#7fbc41"
            ],
            [
             0.9,
             "#4d9221"
            ],
            [
             1,
             "#276419"
            ]
           ],
           "sequential": [
            [
             0,
             "#0d0887"
            ],
            [
             0.1111111111111111,
             "#46039f"
            ],
            [
             0.2222222222222222,
             "#7201a8"
            ],
            [
             0.3333333333333333,
             "#9c179e"
            ],
            [
             0.4444444444444444,
             "#bd3786"
            ],
            [
             0.5555555555555556,
             "#d8576b"
            ],
            [
             0.6666666666666666,
             "#ed7953"
            ],
            [
             0.7777777777777778,
             "#fb9f3a"
            ],
            [
             0.8888888888888888,
             "#fdca26"
            ],
            [
             1,
             "#f0f921"
            ]
           ],
           "sequentialminus": [
            [
             0,
             "#0d0887"
            ],
            [
             0.1111111111111111,
             "#46039f"
            ],
            [
             0.2222222222222222,
             "#7201a8"
            ],
            [
             0.3333333333333333,
             "#9c179e"
            ],
            [
             0.4444444444444444,
             "#bd3786"
            ],
            [
             0.5555555555555556,
             "#d8576b"
            ],
            [
             0.6666666666666666,
             "#ed7953"
            ],
            [
             0.7777777777777778,
             "#fb9f3a"
            ],
            [
             0.8888888888888888,
             "#fdca26"
            ],
            [
             1,
             "#f0f921"
            ]
           ]
          },
          "colorway": [
           "#636efa",
           "#EF553B",
           "#00cc96",
           "#ab63fa",
           "#FFA15A",
           "#19d3f3",
           "#FF6692",
           "#B6E880",
           "#FF97FF",
           "#FECB52"
          ],
          "font": {
           "color": "#2a3f5f"
          },
          "geo": {
           "bgcolor": "white",
           "lakecolor": "white",
           "landcolor": "#E5ECF6",
           "showlakes": true,
           "showland": true,
           "subunitcolor": "white"
          },
          "hoverlabel": {
           "align": "left"
          },
          "hovermode": "closest",
          "mapbox": {
           "style": "light"
          },
          "paper_bgcolor": "white",
          "plot_bgcolor": "#E5ECF6",
          "polar": {
           "angularaxis": {
            "gridcolor": "white",
            "linecolor": "white",
            "ticks": ""
           },
           "bgcolor": "#E5ECF6",
           "radialaxis": {
            "gridcolor": "white",
            "linecolor": "white",
            "ticks": ""
           }
          },
          "scene": {
           "xaxis": {
            "backgroundcolor": "#E5ECF6",
            "gridcolor": "white",
            "gridwidth": 2,
            "linecolor": "white",
            "showbackground": true,
            "ticks": "",
            "zerolinecolor": "white"
           },
           "yaxis": {
            "backgroundcolor": "#E5ECF6",
            "gridcolor": "white",
            "gridwidth": 2,
            "linecolor": "white",
            "showbackground": true,
            "ticks": "",
            "zerolinecolor": "white"
           },
           "zaxis": {
            "backgroundcolor": "#E5ECF6",
            "gridcolor": "white",
            "gridwidth": 2,
            "linecolor": "white",
            "showbackground": true,
            "ticks": "",
            "zerolinecolor": "white"
           }
          },
          "shapedefaults": {
           "line": {
            "color": "#2a3f5f"
           }
          },
          "ternary": {
           "aaxis": {
            "gridcolor": "white",
            "linecolor": "white",
            "ticks": ""
           },
           "baxis": {
            "gridcolor": "white",
            "linecolor": "white",
            "ticks": ""
           },
           "bgcolor": "#E5ECF6",
           "caxis": {
            "gridcolor": "white",
            "linecolor": "white",
            "ticks": ""
           }
          },
          "title": {
           "x": 0.05
          },
          "xaxis": {
           "automargin": true,
           "gridcolor": "white",
           "linecolor": "white",
           "ticks": "",
           "title": {
            "standoff": 15
           },
           "zerolinecolor": "white",
           "zerolinewidth": 2
          },
          "yaxis": {
           "automargin": true,
           "gridcolor": "white",
           "linecolor": "white",
           "ticks": "",
           "title": {
            "standoff": 15
           },
           "zerolinecolor": "white",
           "zerolinewidth": 2
          }
         }
        },
        "xaxis": {
         "anchor": "y",
         "domain": [
          0,
          1
         ],
         "title": {
          "text": "x"
         }
        },
        "yaxis": {
         "anchor": "x",
         "domain": [
          0,
          1
         ],
         "title": {
          "text": "y"
         }
        }
       }
      }
     },
     "metadata": {},
     "output_type": "display_data"
    }
   ],
   "source": [
    "px.scatter(x=epl_data[\"Points\"], y=epl_data[\"GCA\"])"
   ]
  },
  {
   "cell_type": "code",
   "execution_count": 237,
   "metadata": {},
   "outputs": [
    {
     "data": {
      "application/vnd.plotly.v1+json": {
       "config": {
        "plotlyServerURL": "https://plot.ly"
       },
       "data": [
        {
         "alignmentgroup": "True",
         "hovertemplate": "variable=count<br>Points=%{x}<br>value=%{y}<extra></extra>",
         "legendgroup": "count",
         "marker": {
          "color": "#636efa",
          "pattern": {
           "shape": ""
          }
         },
         "name": "count",
         "offsetgroup": "count",
         "orientation": "v",
         "showlegend": true,
         "textposition": "auto",
         "type": "bar",
         "x": [
          16,
          21,
          22,
          23,
          25,
          26,
          28,
          31,
          33,
          34,
          35,
          36,
          37,
          38,
          39,
          40,
          41,
          42,
          43,
          44,
          45,
          46,
          47,
          48,
          49,
          50,
          51,
          52,
          54,
          55,
          56,
          57,
          58,
          59,
          60,
          61,
          62,
          63,
          65,
          66,
          67,
          69,
          70,
          71,
          72,
          74,
          75,
          77,
          81,
          84,
          86,
          89,
          92,
          93,
          97,
          98,
          99,
          100
         ],
         "xaxis": "x",
         "y": [
          1,
          1,
          1,
          2,
          1,
          2,
          1,
          2,
          2,
          4,
          2,
          3,
          1,
          2,
          5,
          4,
          4,
          1,
          2,
          6,
          6,
          1,
          1,
          1,
          4,
          1,
          2,
          5,
          4,
          1,
          2,
          1,
          1,
          5,
          1,
          2,
          3,
          1,
          1,
          4,
          2,
          2,
          2,
          3,
          1,
          2,
          2,
          1,
          2,
          1,
          1,
          1,
          1,
          1,
          1,
          1,
          1,
          1
         ],
         "yaxis": "y"
        }
       ],
       "layout": {
        "barmode": "relative",
        "legend": {
         "title": {
          "text": "variable"
         },
         "tracegroupgap": 0
        },
        "margin": {
         "t": 60
        },
        "template": {
         "data": {
          "bar": [
           {
            "error_x": {
             "color": "#2a3f5f"
            },
            "error_y": {
             "color": "#2a3f5f"
            },
            "marker": {
             "line": {
              "color": "#E5ECF6",
              "width": 0.5
             },
             "pattern": {
              "fillmode": "overlay",
              "size": 10,
              "solidity": 0.2
             }
            },
            "type": "bar"
           }
          ],
          "barpolar": [
           {
            "marker": {
             "line": {
              "color": "#E5ECF6",
              "width": 0.5
             },
             "pattern": {
              "fillmode": "overlay",
              "size": 10,
              "solidity": 0.2
             }
            },
            "type": "barpolar"
           }
          ],
          "carpet": [
           {
            "aaxis": {
             "endlinecolor": "#2a3f5f",
             "gridcolor": "white",
             "linecolor": "white",
             "minorgridcolor": "white",
             "startlinecolor": "#2a3f5f"
            },
            "baxis": {
             "endlinecolor": "#2a3f5f",
             "gridcolor": "white",
             "linecolor": "white",
             "minorgridcolor": "white",
             "startlinecolor": "#2a3f5f"
            },
            "type": "carpet"
           }
          ],
          "choropleth": [
           {
            "colorbar": {
             "outlinewidth": 0,
             "ticks": ""
            },
            "type": "choropleth"
           }
          ],
          "contour": [
           {
            "colorbar": {
             "outlinewidth": 0,
             "ticks": ""
            },
            "colorscale": [
             [
              0,
              "#0d0887"
             ],
             [
              0.1111111111111111,
              "#46039f"
             ],
             [
              0.2222222222222222,
              "#7201a8"
             ],
             [
              0.3333333333333333,
              "#9c179e"
             ],
             [
              0.4444444444444444,
              "#bd3786"
             ],
             [
              0.5555555555555556,
              "#d8576b"
             ],
             [
              0.6666666666666666,
              "#ed7953"
             ],
             [
              0.7777777777777778,
              "#fb9f3a"
             ],
             [
              0.8888888888888888,
              "#fdca26"
             ],
             [
              1,
              "#f0f921"
             ]
            ],
            "type": "contour"
           }
          ],
          "contourcarpet": [
           {
            "colorbar": {
             "outlinewidth": 0,
             "ticks": ""
            },
            "type": "contourcarpet"
           }
          ],
          "heatmap": [
           {
            "colorbar": {
             "outlinewidth": 0,
             "ticks": ""
            },
            "colorscale": [
             [
              0,
              "#0d0887"
             ],
             [
              0.1111111111111111,
              "#46039f"
             ],
             [
              0.2222222222222222,
              "#7201a8"
             ],
             [
              0.3333333333333333,
              "#9c179e"
             ],
             [
              0.4444444444444444,
              "#bd3786"
             ],
             [
              0.5555555555555556,
              "#d8576b"
             ],
             [
              0.6666666666666666,
              "#ed7953"
             ],
             [
              0.7777777777777778,
              "#fb9f3a"
             ],
             [
              0.8888888888888888,
              "#fdca26"
             ],
             [
              1,
              "#f0f921"
             ]
            ],
            "type": "heatmap"
           }
          ],
          "heatmapgl": [
           {
            "colorbar": {
             "outlinewidth": 0,
             "ticks": ""
            },
            "colorscale": [
             [
              0,
              "#0d0887"
             ],
             [
              0.1111111111111111,
              "#46039f"
             ],
             [
              0.2222222222222222,
              "#7201a8"
             ],
             [
              0.3333333333333333,
              "#9c179e"
             ],
             [
              0.4444444444444444,
              "#bd3786"
             ],
             [
              0.5555555555555556,
              "#d8576b"
             ],
             [
              0.6666666666666666,
              "#ed7953"
             ],
             [
              0.7777777777777778,
              "#fb9f3a"
             ],
             [
              0.8888888888888888,
              "#fdca26"
             ],
             [
              1,
              "#f0f921"
             ]
            ],
            "type": "heatmapgl"
           }
          ],
          "histogram": [
           {
            "marker": {
             "pattern": {
              "fillmode": "overlay",
              "size": 10,
              "solidity": 0.2
             }
            },
            "type": "histogram"
           }
          ],
          "histogram2d": [
           {
            "colorbar": {
             "outlinewidth": 0,
             "ticks": ""
            },
            "colorscale": [
             [
              0,
              "#0d0887"
             ],
             [
              0.1111111111111111,
              "#46039f"
             ],
             [
              0.2222222222222222,
              "#7201a8"
             ],
             [
              0.3333333333333333,
              "#9c179e"
             ],
             [
              0.4444444444444444,
              "#bd3786"
             ],
             [
              0.5555555555555556,
              "#d8576b"
             ],
             [
              0.6666666666666666,
              "#ed7953"
             ],
             [
              0.7777777777777778,
              "#fb9f3a"
             ],
             [
              0.8888888888888888,
              "#fdca26"
             ],
             [
              1,
              "#f0f921"
             ]
            ],
            "type": "histogram2d"
           }
          ],
          "histogram2dcontour": [
           {
            "colorbar": {
             "outlinewidth": 0,
             "ticks": ""
            },
            "colorscale": [
             [
              0,
              "#0d0887"
             ],
             [
              0.1111111111111111,
              "#46039f"
             ],
             [
              0.2222222222222222,
              "#7201a8"
             ],
             [
              0.3333333333333333,
              "#9c179e"
             ],
             [
              0.4444444444444444,
              "#bd3786"
             ],
             [
              0.5555555555555556,
              "#d8576b"
             ],
             [
              0.6666666666666666,
              "#ed7953"
             ],
             [
              0.7777777777777778,
              "#fb9f3a"
             ],
             [
              0.8888888888888888,
              "#fdca26"
             ],
             [
              1,
              "#f0f921"
             ]
            ],
            "type": "histogram2dcontour"
           }
          ],
          "mesh3d": [
           {
            "colorbar": {
             "outlinewidth": 0,
             "ticks": ""
            },
            "type": "mesh3d"
           }
          ],
          "parcoords": [
           {
            "line": {
             "colorbar": {
              "outlinewidth": 0,
              "ticks": ""
             }
            },
            "type": "parcoords"
           }
          ],
          "pie": [
           {
            "automargin": true,
            "type": "pie"
           }
          ],
          "scatter": [
           {
            "fillpattern": {
             "fillmode": "overlay",
             "size": 10,
             "solidity": 0.2
            },
            "type": "scatter"
           }
          ],
          "scatter3d": [
           {
            "line": {
             "colorbar": {
              "outlinewidth": 0,
              "ticks": ""
             }
            },
            "marker": {
             "colorbar": {
              "outlinewidth": 0,
              "ticks": ""
             }
            },
            "type": "scatter3d"
           }
          ],
          "scattercarpet": [
           {
            "marker": {
             "colorbar": {
              "outlinewidth": 0,
              "ticks": ""
             }
            },
            "type": "scattercarpet"
           }
          ],
          "scattergeo": [
           {
            "marker": {
             "colorbar": {
              "outlinewidth": 0,
              "ticks": ""
             }
            },
            "type": "scattergeo"
           }
          ],
          "scattergl": [
           {
            "marker": {
             "colorbar": {
              "outlinewidth": 0,
              "ticks": ""
             }
            },
            "type": "scattergl"
           }
          ],
          "scattermapbox": [
           {
            "marker": {
             "colorbar": {
              "outlinewidth": 0,
              "ticks": ""
             }
            },
            "type": "scattermapbox"
           }
          ],
          "scatterpolar": [
           {
            "marker": {
             "colorbar": {
              "outlinewidth": 0,
              "ticks": ""
             }
            },
            "type": "scatterpolar"
           }
          ],
          "scatterpolargl": [
           {
            "marker": {
             "colorbar": {
              "outlinewidth": 0,
              "ticks": ""
             }
            },
            "type": "scatterpolargl"
           }
          ],
          "scatterternary": [
           {
            "marker": {
             "colorbar": {
              "outlinewidth": 0,
              "ticks": ""
             }
            },
            "type": "scatterternary"
           }
          ],
          "surface": [
           {
            "colorbar": {
             "outlinewidth": 0,
             "ticks": ""
            },
            "colorscale": [
             [
              0,
              "#0d0887"
             ],
             [
              0.1111111111111111,
              "#46039f"
             ],
             [
              0.2222222222222222,
              "#7201a8"
             ],
             [
              0.3333333333333333,
              "#9c179e"
             ],
             [
              0.4444444444444444,
              "#bd3786"
             ],
             [
              0.5555555555555556,
              "#d8576b"
             ],
             [
              0.6666666666666666,
              "#ed7953"
             ],
             [
              0.7777777777777778,
              "#fb9f3a"
             ],
             [
              0.8888888888888888,
              "#fdca26"
             ],
             [
              1,
              "#f0f921"
             ]
            ],
            "type": "surface"
           }
          ],
          "table": [
           {
            "cells": {
             "fill": {
              "color": "#EBF0F8"
             },
             "line": {
              "color": "white"
             }
            },
            "header": {
             "fill": {
              "color": "#C8D4E3"
             },
             "line": {
              "color": "white"
             }
            },
            "type": "table"
           }
          ]
         },
         "layout": {
          "annotationdefaults": {
           "arrowcolor": "#2a3f5f",
           "arrowhead": 0,
           "arrowwidth": 1
          },
          "autotypenumbers": "strict",
          "coloraxis": {
           "colorbar": {
            "outlinewidth": 0,
            "ticks": ""
           }
          },
          "colorscale": {
           "diverging": [
            [
             0,
             "#8e0152"
            ],
            [
             0.1,
             "#c51b7d"
            ],
            [
             0.2,
             "#de77ae"
            ],
            [
             0.3,
             "#f1b6da"
            ],
            [
             0.4,
             "#fde0ef"
            ],
            [
             0.5,
             "#f7f7f7"
            ],
            [
             0.6,
             "#e6f5d0"
            ],
            [
             0.7,
             "#b8e186"
            ],
            [
             0.8,
             "#7fbc41"
            ],
            [
             0.9,
             "#4d9221"
            ],
            [
             1,
             "#276419"
            ]
           ],
           "sequential": [
            [
             0,
             "#0d0887"
            ],
            [
             0.1111111111111111,
             "#46039f"
            ],
            [
             0.2222222222222222,
             "#7201a8"
            ],
            [
             0.3333333333333333,
             "#9c179e"
            ],
            [
             0.4444444444444444,
             "#bd3786"
            ],
            [
             0.5555555555555556,
             "#d8576b"
            ],
            [
             0.6666666666666666,
             "#ed7953"
            ],
            [
             0.7777777777777778,
             "#fb9f3a"
            ],
            [
             0.8888888888888888,
             "#fdca26"
            ],
            [
             1,
             "#f0f921"
            ]
           ],
           "sequentialminus": [
            [
             0,
             "#0d0887"
            ],
            [
             0.1111111111111111,
             "#46039f"
            ],
            [
             0.2222222222222222,
             "#7201a8"
            ],
            [
             0.3333333333333333,
             "#9c179e"
            ],
            [
             0.4444444444444444,
             "#bd3786"
            ],
            [
             0.5555555555555556,
             "#d8576b"
            ],
            [
             0.6666666666666666,
             "#ed7953"
            ],
            [
             0.7777777777777778,
             "#fb9f3a"
            ],
            [
             0.8888888888888888,
             "#fdca26"
            ],
            [
             1,
             "#f0f921"
            ]
           ]
          },
          "colorway": [
           "#636efa",
           "#EF553B",
           "#00cc96",
           "#ab63fa",
           "#FFA15A",
           "#19d3f3",
           "#FF6692",
           "#B6E880",
           "#FF97FF",
           "#FECB52"
          ],
          "font": {
           "color": "#2a3f5f"
          },
          "geo": {
           "bgcolor": "white",
           "lakecolor": "white",
           "landcolor": "#E5ECF6",
           "showlakes": true,
           "showland": true,
           "subunitcolor": "white"
          },
          "hoverlabel": {
           "align": "left"
          },
          "hovermode": "closest",
          "mapbox": {
           "style": "light"
          },
          "paper_bgcolor": "white",
          "plot_bgcolor": "#E5ECF6",
          "polar": {
           "angularaxis": {
            "gridcolor": "white",
            "linecolor": "white",
            "ticks": ""
           },
           "bgcolor": "#E5ECF6",
           "radialaxis": {
            "gridcolor": "white",
            "linecolor": "white",
            "ticks": ""
           }
          },
          "scene": {
           "xaxis": {
            "backgroundcolor": "#E5ECF6",
            "gridcolor": "white",
            "gridwidth": 2,
            "linecolor": "white",
            "showbackground": true,
            "ticks": "",
            "zerolinecolor": "white"
           },
           "yaxis": {
            "backgroundcolor": "#E5ECF6",
            "gridcolor": "white",
            "gridwidth": 2,
            "linecolor": "white",
            "showbackground": true,
            "ticks": "",
            "zerolinecolor": "white"
           },
           "zaxis": {
            "backgroundcolor": "#E5ECF6",
            "gridcolor": "white",
            "gridwidth": 2,
            "linecolor": "white",
            "showbackground": true,
            "ticks": "",
            "zerolinecolor": "white"
           }
          },
          "shapedefaults": {
           "line": {
            "color": "#2a3f5f"
           }
          },
          "ternary": {
           "aaxis": {
            "gridcolor": "white",
            "linecolor": "white",
            "ticks": ""
           },
           "baxis": {
            "gridcolor": "white",
            "linecolor": "white",
            "ticks": ""
           },
           "bgcolor": "#E5ECF6",
           "caxis": {
            "gridcolor": "white",
            "linecolor": "white",
            "ticks": ""
           }
          },
          "title": {
           "x": 0.05
          },
          "xaxis": {
           "automargin": true,
           "gridcolor": "white",
           "linecolor": "white",
           "ticks": "",
           "title": {
            "standoff": 15
           },
           "zerolinecolor": "white",
           "zerolinewidth": 2
          },
          "yaxis": {
           "automargin": true,
           "gridcolor": "white",
           "linecolor": "white",
           "ticks": "",
           "title": {
            "standoff": 15
           },
           "zerolinecolor": "white",
           "zerolinewidth": 2
          }
         }
        },
        "xaxis": {
         "anchor": "y",
         "domain": [
          0,
          1
         ],
         "title": {
          "text": "Points"
         }
        },
        "yaxis": {
         "anchor": "x",
         "domain": [
          0,
          1
         ],
         "range": [
          0,
          8
         ],
         "title": {
          "text": "value"
         }
        }
       }
      }
     },
     "metadata": {},
     "output_type": "display_data"
    },
    {
     "name": "stdout",
     "output_type": "stream",
     "text": [
      "52.666666666666664\n"
     ]
    }
   ],
   "source": [
    "points_tally = pd.DataFrame(epl_data[\"Points\"].value_counts().sort_index())\n",
    "point_fig = px.bar(points_tally)\n",
    "point_fig.update_layout(yaxis_range=[0,8]).show()\n",
    "print(epl_advance_stats.Points.mean())"
   ]
  },
  {
   "cell_type": "code",
   "execution_count": 238,
   "metadata": {},
   "outputs": [],
   "source": [
    "X = epl_advance_stats.drop(\"Points\", axis = 1)\n",
    "y = epl_advance_stats[\"Points\"]\n",
    "X_train, X_test, y_train, y_test = train_test_split(X,y,test_size = 0.2, random_state=0)"
   ]
  },
  {
   "cell_type": "code",
   "execution_count": 239,
   "metadata": {},
   "outputs": [],
   "source": [
    "std = RobustScaler()\n",
    "X_train_std = std.fit_transform(X_train)\n",
    "X_test_std =  std.transform(X_test)"
   ]
  },
  {
   "cell_type": "code",
   "execution_count": 240,
   "metadata": {},
   "outputs": [
    {
     "data": {
      "text/html": [
       "<style>#sk-container-id-10 {\n",
       "  /* Definition of color scheme common for light and dark mode */\n",
       "  --sklearn-color-text: black;\n",
       "  --sklearn-color-line: gray;\n",
       "  /* Definition of color scheme for unfitted estimators */\n",
       "  --sklearn-color-unfitted-level-0: #fff5e6;\n",
       "  --sklearn-color-unfitted-level-1: #f6e4d2;\n",
       "  --sklearn-color-unfitted-level-2: #ffe0b3;\n",
       "  --sklearn-color-unfitted-level-3: chocolate;\n",
       "  /* Definition of color scheme for fitted estimators */\n",
       "  --sklearn-color-fitted-level-0: #f0f8ff;\n",
       "  --sklearn-color-fitted-level-1: #d4ebff;\n",
       "  --sklearn-color-fitted-level-2: #b3dbfd;\n",
       "  --sklearn-color-fitted-level-3: cornflowerblue;\n",
       "\n",
       "  /* Specific color for light theme */\n",
       "  --sklearn-color-text-on-default-background: var(--sg-text-color, var(--theme-code-foreground, var(--jp-content-font-color1, black)));\n",
       "  --sklearn-color-background: var(--sg-background-color, var(--theme-background, var(--jp-layout-color0, white)));\n",
       "  --sklearn-color-border-box: var(--sg-text-color, var(--theme-code-foreground, var(--jp-content-font-color1, black)));\n",
       "  --sklearn-color-icon: #696969;\n",
       "\n",
       "  @media (prefers-color-scheme: dark) {\n",
       "    /* Redefinition of color scheme for dark theme */\n",
       "    --sklearn-color-text-on-default-background: var(--sg-text-color, var(--theme-code-foreground, var(--jp-content-font-color1, white)));\n",
       "    --sklearn-color-background: var(--sg-background-color, var(--theme-background, var(--jp-layout-color0, #111)));\n",
       "    --sklearn-color-border-box: var(--sg-text-color, var(--theme-code-foreground, var(--jp-content-font-color1, white)));\n",
       "    --sklearn-color-icon: #878787;\n",
       "  }\n",
       "}\n",
       "\n",
       "#sk-container-id-10 {\n",
       "  color: var(--sklearn-color-text);\n",
       "}\n",
       "\n",
       "#sk-container-id-10 pre {\n",
       "  padding: 0;\n",
       "}\n",
       "\n",
       "#sk-container-id-10 input.sk-hidden--visually {\n",
       "  border: 0;\n",
       "  clip: rect(1px 1px 1px 1px);\n",
       "  clip: rect(1px, 1px, 1px, 1px);\n",
       "  height: 1px;\n",
       "  margin: -1px;\n",
       "  overflow: hidden;\n",
       "  padding: 0;\n",
       "  position: absolute;\n",
       "  width: 1px;\n",
       "}\n",
       "\n",
       "#sk-container-id-10 div.sk-dashed-wrapped {\n",
       "  border: 1px dashed var(--sklearn-color-line);\n",
       "  margin: 0 0.4em 0.5em 0.4em;\n",
       "  box-sizing: border-box;\n",
       "  padding-bottom: 0.4em;\n",
       "  background-color: var(--sklearn-color-background);\n",
       "}\n",
       "\n",
       "#sk-container-id-10 div.sk-container {\n",
       "  /* jupyter's `normalize.less` sets `[hidden] { display: none; }`\n",
       "     but bootstrap.min.css set `[hidden] { display: none !important; }`\n",
       "     so we also need the `!important` here to be able to override the\n",
       "     default hidden behavior on the sphinx rendered scikit-learn.org.\n",
       "     See: https://github.com/scikit-learn/scikit-learn/issues/21755 */\n",
       "  display: inline-block !important;\n",
       "  position: relative;\n",
       "}\n",
       "\n",
       "#sk-container-id-10 div.sk-text-repr-fallback {\n",
       "  display: none;\n",
       "}\n",
       "\n",
       "div.sk-parallel-item,\n",
       "div.sk-serial,\n",
       "div.sk-item {\n",
       "  /* draw centered vertical line to link estimators */\n",
       "  background-image: linear-gradient(var(--sklearn-color-text-on-default-background), var(--sklearn-color-text-on-default-background));\n",
       "  background-size: 2px 100%;\n",
       "  background-repeat: no-repeat;\n",
       "  background-position: center center;\n",
       "}\n",
       "\n",
       "/* Parallel-specific style estimator block */\n",
       "\n",
       "#sk-container-id-10 div.sk-parallel-item::after {\n",
       "  content: \"\";\n",
       "  width: 100%;\n",
       "  border-bottom: 2px solid var(--sklearn-color-text-on-default-background);\n",
       "  flex-grow: 1;\n",
       "}\n",
       "\n",
       "#sk-container-id-10 div.sk-parallel {\n",
       "  display: flex;\n",
       "  align-items: stretch;\n",
       "  justify-content: center;\n",
       "  background-color: var(--sklearn-color-background);\n",
       "  position: relative;\n",
       "}\n",
       "\n",
       "#sk-container-id-10 div.sk-parallel-item {\n",
       "  display: flex;\n",
       "  flex-direction: column;\n",
       "}\n",
       "\n",
       "#sk-container-id-10 div.sk-parallel-item:first-child::after {\n",
       "  align-self: flex-end;\n",
       "  width: 50%;\n",
       "}\n",
       "\n",
       "#sk-container-id-10 div.sk-parallel-item:last-child::after {\n",
       "  align-self: flex-start;\n",
       "  width: 50%;\n",
       "}\n",
       "\n",
       "#sk-container-id-10 div.sk-parallel-item:only-child::after {\n",
       "  width: 0;\n",
       "}\n",
       "\n",
       "/* Serial-specific style estimator block */\n",
       "\n",
       "#sk-container-id-10 div.sk-serial {\n",
       "  display: flex;\n",
       "  flex-direction: column;\n",
       "  align-items: center;\n",
       "  background-color: var(--sklearn-color-background);\n",
       "  padding-right: 1em;\n",
       "  padding-left: 1em;\n",
       "}\n",
       "\n",
       "\n",
       "/* Toggleable style: style used for estimator/Pipeline/ColumnTransformer box that is\n",
       "clickable and can be expanded/collapsed.\n",
       "- Pipeline and ColumnTransformer use this feature and define the default style\n",
       "- Estimators will overwrite some part of the style using the `sk-estimator` class\n",
       "*/\n",
       "\n",
       "/* Pipeline and ColumnTransformer style (default) */\n",
       "\n",
       "#sk-container-id-10 div.sk-toggleable {\n",
       "  /* Default theme specific background. It is overwritten whether we have a\n",
       "  specific estimator or a Pipeline/ColumnTransformer */\n",
       "  background-color: var(--sklearn-color-background);\n",
       "}\n",
       "\n",
       "/* Toggleable label */\n",
       "#sk-container-id-10 label.sk-toggleable__label {\n",
       "  cursor: pointer;\n",
       "  display: block;\n",
       "  width: 100%;\n",
       "  margin-bottom: 0;\n",
       "  padding: 0.5em;\n",
       "  box-sizing: border-box;\n",
       "  text-align: center;\n",
       "}\n",
       "\n",
       "#sk-container-id-10 label.sk-toggleable__label-arrow:before {\n",
       "  /* Arrow on the left of the label */\n",
       "  content: \"▸\";\n",
       "  float: left;\n",
       "  margin-right: 0.25em;\n",
       "  color: var(--sklearn-color-icon);\n",
       "}\n",
       "\n",
       "#sk-container-id-10 label.sk-toggleable__label-arrow:hover:before {\n",
       "  color: var(--sklearn-color-text);\n",
       "}\n",
       "\n",
       "/* Toggleable content - dropdown */\n",
       "\n",
       "#sk-container-id-10 div.sk-toggleable__content {\n",
       "  max-height: 0;\n",
       "  max-width: 0;\n",
       "  overflow: hidden;\n",
       "  text-align: left;\n",
       "  /* unfitted */\n",
       "  background-color: var(--sklearn-color-unfitted-level-0);\n",
       "}\n",
       "\n",
       "#sk-container-id-10 div.sk-toggleable__content.fitted {\n",
       "  /* fitted */\n",
       "  background-color: var(--sklearn-color-fitted-level-0);\n",
       "}\n",
       "\n",
       "#sk-container-id-10 div.sk-toggleable__content pre {\n",
       "  margin: 0.2em;\n",
       "  border-radius: 0.25em;\n",
       "  color: var(--sklearn-color-text);\n",
       "  /* unfitted */\n",
       "  background-color: var(--sklearn-color-unfitted-level-0);\n",
       "}\n",
       "\n",
       "#sk-container-id-10 div.sk-toggleable__content.fitted pre {\n",
       "  /* unfitted */\n",
       "  background-color: var(--sklearn-color-fitted-level-0);\n",
       "}\n",
       "\n",
       "#sk-container-id-10 input.sk-toggleable__control:checked~div.sk-toggleable__content {\n",
       "  /* Expand drop-down */\n",
       "  max-height: 200px;\n",
       "  max-width: 100%;\n",
       "  overflow: auto;\n",
       "}\n",
       "\n",
       "#sk-container-id-10 input.sk-toggleable__control:checked~label.sk-toggleable__label-arrow:before {\n",
       "  content: \"▾\";\n",
       "}\n",
       "\n",
       "/* Pipeline/ColumnTransformer-specific style */\n",
       "\n",
       "#sk-container-id-10 div.sk-label input.sk-toggleable__control:checked~label.sk-toggleable__label {\n",
       "  color: var(--sklearn-color-text);\n",
       "  background-color: var(--sklearn-color-unfitted-level-2);\n",
       "}\n",
       "\n",
       "#sk-container-id-10 div.sk-label.fitted input.sk-toggleable__control:checked~label.sk-toggleable__label {\n",
       "  background-color: var(--sklearn-color-fitted-level-2);\n",
       "}\n",
       "\n",
       "/* Estimator-specific style */\n",
       "\n",
       "/* Colorize estimator box */\n",
       "#sk-container-id-10 div.sk-estimator input.sk-toggleable__control:checked~label.sk-toggleable__label {\n",
       "  /* unfitted */\n",
       "  background-color: var(--sklearn-color-unfitted-level-2);\n",
       "}\n",
       "\n",
       "#sk-container-id-10 div.sk-estimator.fitted input.sk-toggleable__control:checked~label.sk-toggleable__label {\n",
       "  /* fitted */\n",
       "  background-color: var(--sklearn-color-fitted-level-2);\n",
       "}\n",
       "\n",
       "#sk-container-id-10 div.sk-label label.sk-toggleable__label,\n",
       "#sk-container-id-10 div.sk-label label {\n",
       "  /* The background is the default theme color */\n",
       "  color: var(--sklearn-color-text-on-default-background);\n",
       "}\n",
       "\n",
       "/* On hover, darken the color of the background */\n",
       "#sk-container-id-10 div.sk-label:hover label.sk-toggleable__label {\n",
       "  color: var(--sklearn-color-text);\n",
       "  background-color: var(--sklearn-color-unfitted-level-2);\n",
       "}\n",
       "\n",
       "/* Label box, darken color on hover, fitted */\n",
       "#sk-container-id-10 div.sk-label.fitted:hover label.sk-toggleable__label.fitted {\n",
       "  color: var(--sklearn-color-text);\n",
       "  background-color: var(--sklearn-color-fitted-level-2);\n",
       "}\n",
       "\n",
       "/* Estimator label */\n",
       "\n",
       "#sk-container-id-10 div.sk-label label {\n",
       "  font-family: monospace;\n",
       "  font-weight: bold;\n",
       "  display: inline-block;\n",
       "  line-height: 1.2em;\n",
       "}\n",
       "\n",
       "#sk-container-id-10 div.sk-label-container {\n",
       "  text-align: center;\n",
       "}\n",
       "\n",
       "/* Estimator-specific */\n",
       "#sk-container-id-10 div.sk-estimator {\n",
       "  font-family: monospace;\n",
       "  border: 1px dotted var(--sklearn-color-border-box);\n",
       "  border-radius: 0.25em;\n",
       "  box-sizing: border-box;\n",
       "  margin-bottom: 0.5em;\n",
       "  /* unfitted */\n",
       "  background-color: var(--sklearn-color-unfitted-level-0);\n",
       "}\n",
       "\n",
       "#sk-container-id-10 div.sk-estimator.fitted {\n",
       "  /* fitted */\n",
       "  background-color: var(--sklearn-color-fitted-level-0);\n",
       "}\n",
       "\n",
       "/* on hover */\n",
       "#sk-container-id-10 div.sk-estimator:hover {\n",
       "  /* unfitted */\n",
       "  background-color: var(--sklearn-color-unfitted-level-2);\n",
       "}\n",
       "\n",
       "#sk-container-id-10 div.sk-estimator.fitted:hover {\n",
       "  /* fitted */\n",
       "  background-color: var(--sklearn-color-fitted-level-2);\n",
       "}\n",
       "\n",
       "/* Specification for estimator info (e.g. \"i\" and \"?\") */\n",
       "\n",
       "/* Common style for \"i\" and \"?\" */\n",
       "\n",
       ".sk-estimator-doc-link,\n",
       "a:link.sk-estimator-doc-link,\n",
       "a:visited.sk-estimator-doc-link {\n",
       "  float: right;\n",
       "  font-size: smaller;\n",
       "  line-height: 1em;\n",
       "  font-family: monospace;\n",
       "  background-color: var(--sklearn-color-background);\n",
       "  border-radius: 1em;\n",
       "  height: 1em;\n",
       "  width: 1em;\n",
       "  text-decoration: none !important;\n",
       "  margin-left: 1ex;\n",
       "  /* unfitted */\n",
       "  border: var(--sklearn-color-unfitted-level-1) 1pt solid;\n",
       "  color: var(--sklearn-color-unfitted-level-1);\n",
       "}\n",
       "\n",
       ".sk-estimator-doc-link.fitted,\n",
       "a:link.sk-estimator-doc-link.fitted,\n",
       "a:visited.sk-estimator-doc-link.fitted {\n",
       "  /* fitted */\n",
       "  border: var(--sklearn-color-fitted-level-1) 1pt solid;\n",
       "  color: var(--sklearn-color-fitted-level-1);\n",
       "}\n",
       "\n",
       "/* On hover */\n",
       "div.sk-estimator:hover .sk-estimator-doc-link:hover,\n",
       ".sk-estimator-doc-link:hover,\n",
       "div.sk-label-container:hover .sk-estimator-doc-link:hover,\n",
       ".sk-estimator-doc-link:hover {\n",
       "  /* unfitted */\n",
       "  background-color: var(--sklearn-color-unfitted-level-3);\n",
       "  color: var(--sklearn-color-background);\n",
       "  text-decoration: none;\n",
       "}\n",
       "\n",
       "div.sk-estimator.fitted:hover .sk-estimator-doc-link.fitted:hover,\n",
       ".sk-estimator-doc-link.fitted:hover,\n",
       "div.sk-label-container:hover .sk-estimator-doc-link.fitted:hover,\n",
       ".sk-estimator-doc-link.fitted:hover {\n",
       "  /* fitted */\n",
       "  background-color: var(--sklearn-color-fitted-level-3);\n",
       "  color: var(--sklearn-color-background);\n",
       "  text-decoration: none;\n",
       "}\n",
       "\n",
       "/* Span, style for the box shown on hovering the info icon */\n",
       ".sk-estimator-doc-link span {\n",
       "  display: none;\n",
       "  z-index: 9999;\n",
       "  position: relative;\n",
       "  font-weight: normal;\n",
       "  right: .2ex;\n",
       "  padding: .5ex;\n",
       "  margin: .5ex;\n",
       "  width: min-content;\n",
       "  min-width: 20ex;\n",
       "  max-width: 50ex;\n",
       "  color: var(--sklearn-color-text);\n",
       "  box-shadow: 2pt 2pt 4pt #999;\n",
       "  /* unfitted */\n",
       "  background: var(--sklearn-color-unfitted-level-0);\n",
       "  border: .5pt solid var(--sklearn-color-unfitted-level-3);\n",
       "}\n",
       "\n",
       ".sk-estimator-doc-link.fitted span {\n",
       "  /* fitted */\n",
       "  background: var(--sklearn-color-fitted-level-0);\n",
       "  border: var(--sklearn-color-fitted-level-3);\n",
       "}\n",
       "\n",
       ".sk-estimator-doc-link:hover span {\n",
       "  display: block;\n",
       "}\n",
       "\n",
       "/* \"?\"-specific style due to the `<a>` HTML tag */\n",
       "\n",
       "#sk-container-id-10 a.estimator_doc_link {\n",
       "  float: right;\n",
       "  font-size: 1rem;\n",
       "  line-height: 1em;\n",
       "  font-family: monospace;\n",
       "  background-color: var(--sklearn-color-background);\n",
       "  border-radius: 1rem;\n",
       "  height: 1rem;\n",
       "  width: 1rem;\n",
       "  text-decoration: none;\n",
       "  /* unfitted */\n",
       "  color: var(--sklearn-color-unfitted-level-1);\n",
       "  border: var(--sklearn-color-unfitted-level-1) 1pt solid;\n",
       "}\n",
       "\n",
       "#sk-container-id-10 a.estimator_doc_link.fitted {\n",
       "  /* fitted */\n",
       "  border: var(--sklearn-color-fitted-level-1) 1pt solid;\n",
       "  color: var(--sklearn-color-fitted-level-1);\n",
       "}\n",
       "\n",
       "/* On hover */\n",
       "#sk-container-id-10 a.estimator_doc_link:hover {\n",
       "  /* unfitted */\n",
       "  background-color: var(--sklearn-color-unfitted-level-3);\n",
       "  color: var(--sklearn-color-background);\n",
       "  text-decoration: none;\n",
       "}\n",
       "\n",
       "#sk-container-id-10 a.estimator_doc_link.fitted:hover {\n",
       "  /* fitted */\n",
       "  background-color: var(--sklearn-color-fitted-level-3);\n",
       "}\n",
       "</style><div id=\"sk-container-id-10\" class=\"sk-top-container\"><div class=\"sk-text-repr-fallback\"><pre>LinearRegression()</pre><b>In a Jupyter environment, please rerun this cell to show the HTML representation or trust the notebook. <br />On GitHub, the HTML representation is unable to render, please try loading this page with nbviewer.org.</b></div><div class=\"sk-container\" hidden><div class=\"sk-item\"><div class=\"sk-estimator fitted sk-toggleable\"><input class=\"sk-toggleable__control sk-hidden--visually\" id=\"sk-estimator-id-10\" type=\"checkbox\" checked><label for=\"sk-estimator-id-10\" class=\"sk-toggleable__label fitted sk-toggleable__label-arrow fitted\">&nbsp;&nbsp;LinearRegression<a class=\"sk-estimator-doc-link fitted\" rel=\"noreferrer\" target=\"_blank\" href=\"https://scikit-learn.org/1.4/modules/generated/sklearn.linear_model.LinearRegression.html\">?<span>Documentation for LinearRegression</span></a><span class=\"sk-estimator-doc-link fitted\">i<span>Fitted</span></span></label><div class=\"sk-toggleable__content fitted\"><pre>LinearRegression()</pre></div> </div></div></div></div>"
      ],
      "text/plain": [
       "LinearRegression()"
      ]
     },
     "execution_count": 240,
     "metadata": {},
     "output_type": "execute_result"
    }
   ],
   "source": [
    "model = LinearRegression()\n",
    "model.fit(X_train_std, y_train)"
   ]
  },
  {
   "cell_type": "code",
   "execution_count": 241,
   "metadata": {},
   "outputs": [
    {
     "data": {
      "text/html": [
       "<div>\n",
       "<style scoped>\n",
       "    .dataframe tbody tr th:only-of-type {\n",
       "        vertical-align: middle;\n",
       "    }\n",
       "\n",
       "    .dataframe tbody tr th {\n",
       "        vertical-align: top;\n",
       "    }\n",
       "\n",
       "    .dataframe thead th {\n",
       "        text-align: right;\n",
       "    }\n",
       "</style>\n",
       "<table border=\"1\" class=\"dataframe\">\n",
       "  <thead>\n",
       "    <tr style=\"text-align: right;\">\n",
       "      <th></th>\n",
       "      <th>Predict</th>\n",
       "      <th>Actual</th>\n",
       "    </tr>\n",
       "  </thead>\n",
       "  <tbody>\n",
       "    <tr>\n",
       "      <th>48</th>\n",
       "      <td>66.562544</td>\n",
       "      <td>62</td>\n",
       "    </tr>\n",
       "    <tr>\n",
       "      <th>94</th>\n",
       "      <td>14.459240</td>\n",
       "      <td>22</td>\n",
       "    </tr>\n",
       "    <tr>\n",
       "      <th>95</th>\n",
       "      <td>47.370009</td>\n",
       "      <td>40</td>\n",
       "    </tr>\n",
       "    <tr>\n",
       "      <th>8</th>\n",
       "      <td>43.303700</td>\n",
       "      <td>47</td>\n",
       "    </tr>\n",
       "    <tr>\n",
       "      <th>97</th>\n",
       "      <td>25.421538</td>\n",
       "      <td>23</td>\n",
       "    </tr>\n",
       "    <tr>\n",
       "      <th>22</th>\n",
       "      <td>36.310250</td>\n",
       "      <td>36</td>\n",
       "    </tr>\n",
       "    <tr>\n",
       "      <th>7</th>\n",
       "      <td>33.361286</td>\n",
       "      <td>37</td>\n",
       "    </tr>\n",
       "    <tr>\n",
       "      <th>10</th>\n",
       "      <td>98.002507</td>\n",
       "      <td>100</td>\n",
       "    </tr>\n",
       "    <tr>\n",
       "      <th>45</th>\n",
       "      <td>61.593178</td>\n",
       "      <td>66</td>\n",
       "    </tr>\n",
       "    <tr>\n",
       "      <th>89</th>\n",
       "      <td>63.125756</td>\n",
       "      <td>52</td>\n",
       "    </tr>\n",
       "    <tr>\n",
       "      <th>33</th>\n",
       "      <td>56.095891</td>\n",
       "      <td>66</td>\n",
       "    </tr>\n",
       "    <tr>\n",
       "      <th>50</th>\n",
       "      <td>92.728521</td>\n",
       "      <td>81</td>\n",
       "    </tr>\n",
       "    <tr>\n",
       "      <th>2</th>\n",
       "      <td>36.859898</td>\n",
       "      <td>40</td>\n",
       "    </tr>\n",
       "    <tr>\n",
       "      <th>60</th>\n",
       "      <td>60.463024</td>\n",
       "      <td>61</td>\n",
       "    </tr>\n",
       "    <tr>\n",
       "      <th>119</th>\n",
       "      <td>30.393914</td>\n",
       "      <td>41</td>\n",
       "    </tr>\n",
       "    <tr>\n",
       "      <th>74</th>\n",
       "      <td>25.482862</td>\n",
       "      <td>23</td>\n",
       "    </tr>\n",
       "    <tr>\n",
       "      <th>30</th>\n",
       "      <td>51.232475</td>\n",
       "      <td>52</td>\n",
       "    </tr>\n",
       "    <tr>\n",
       "      <th>43</th>\n",
       "      <td>41.704267</td>\n",
       "      <td>41</td>\n",
       "    </tr>\n",
       "    <tr>\n",
       "      <th>111</th>\n",
       "      <td>72.770605</td>\n",
       "      <td>67</td>\n",
       "    </tr>\n",
       "    <tr>\n",
       "      <th>76</th>\n",
       "      <td>68.675297</td>\n",
       "      <td>62</td>\n",
       "    </tr>\n",
       "    <tr>\n",
       "      <th>63</th>\n",
       "      <td>39.053764</td>\n",
       "      <td>39</td>\n",
       "    </tr>\n",
       "    <tr>\n",
       "      <th>59</th>\n",
       "      <td>62.506937</td>\n",
       "      <td>59</td>\n",
       "    </tr>\n",
       "    <tr>\n",
       "      <th>16</th>\n",
       "      <td>69.322321</td>\n",
       "      <td>77</td>\n",
       "    </tr>\n",
       "    <tr>\n",
       "      <th>24</th>\n",
       "      <td>33.028865</td>\n",
       "      <td>34</td>\n",
       "    </tr>\n",
       "  </tbody>\n",
       "</table>\n",
       "</div>"
      ],
      "text/plain": [
       "       Predict  Actual\n",
       "48   66.562544      62\n",
       "94   14.459240      22\n",
       "95   47.370009      40\n",
       "8    43.303700      47\n",
       "97   25.421538      23\n",
       "22   36.310250      36\n",
       "7    33.361286      37\n",
       "10   98.002507     100\n",
       "45   61.593178      66\n",
       "89   63.125756      52\n",
       "33   56.095891      66\n",
       "50   92.728521      81\n",
       "2    36.859898      40\n",
       "60   60.463024      61\n",
       "119  30.393914      41\n",
       "74   25.482862      23\n",
       "30   51.232475      52\n",
       "43   41.704267      41\n",
       "111  72.770605      67\n",
       "76   68.675297      62\n",
       "63   39.053764      39\n",
       "59   62.506937      59\n",
       "16   69.322321      77\n",
       "24   33.028865      34"
      ]
     },
     "execution_count": 241,
     "metadata": {},
     "output_type": "execute_result"
    }
   ],
   "source": [
    "pred = model.predict(X_test_std)\n",
    "results = pd.DataFrame({'Predict':pred, 'Actual':y_test})\n",
    "results"
   ]
  },
  {
   "cell_type": "code",
   "execution_count": 242,
   "metadata": {},
   "outputs": [
    {
     "name": "stdout",
     "output_type": "stream",
     "text": [
      "Mean absolute error:  4.649835617889637\n",
      "Mean squared error:  34.48500689761375\n",
      "Root mean squared error:  5.872393625908753\n"
     ]
    }
   ],
   "source": [
    "mae = metrics.mean_absolute_error(y_test, pred)\n",
    "mse = metrics.mean_squared_error(y_test, pred)\n",
    "rmse = np.sqrt(mse)\n",
    "print('Mean absolute error: ', mae)\n",
    "print('Mean squared error: ', mse)\n",
    "print('Root mean squared error: ', rmse)"
   ]
  },
  {
   "cell_type": "code",
   "execution_count": 243,
   "metadata": {},
   "outputs": [
    {
     "data": {
      "application/vnd.plotly.v1+json": {
       "config": {
        "plotlyServerURL": "https://plot.ly"
       },
       "data": [
        {
         "hovertemplate": "Predict=%{x}<br>Actual=%{y}<extra></extra>",
         "legendgroup": "",
         "marker": {
          "color": "#636efa",
          "opacity": 0.65,
          "symbol": "circle"
         },
         "mode": "markers",
         "name": "",
         "orientation": "v",
         "showlegend": false,
         "type": "scatter",
         "x": [
          66.5625435455758,
          14.459239555141608,
          47.370009292537894,
          43.30369963806803,
          25.42153795899292,
          36.31024984430836,
          33.36128550088464,
          98.00250667674331,
          61.593177639387,
          63.12575561887107,
          56.09589062988506,
          92.728521463714,
          36.85989837311506,
          60.46302377902413,
          30.393913515398907,
          25.482862108456874,
          51.23247476946142,
          41.70426699558233,
          72.77060529577332,
          68.67529673280154,
          39.0537644052416,
          62.506936762319036,
          69.32232055676332,
          33.028864560951
         ],
         "xaxis": "x",
         "y": [
          62,
          22,
          40,
          47,
          23,
          36,
          37,
          100,
          66,
          52,
          66,
          81,
          40,
          61,
          41,
          23,
          52,
          41,
          67,
          62,
          39,
          59,
          77,
          34
         ],
         "yaxis": "y"
        },
        {
         "hovertemplate": "<b>OLS trendline</b><br>Actual = 0.889944 * Predict + 5.56342<br>R<sup>2</sup>=0.920159<br><br>Predict=%{x}<br>Actual=%{y} <b>(trend)</b><extra></extra>",
         "legendgroup": "",
         "line": {
          "color": "darkblue"
         },
         "marker": {
          "color": "#636efa",
          "symbol": "circle"
         },
         "mode": "lines",
         "name": "",
         "showlegend": false,
         "type": "scatter",
         "x": [
          14.459239555141608,
          25.42153795899292,
          25.482862108456874,
          30.393913515398907,
          33.028864560951,
          33.36128550088464,
          36.31024984430836,
          36.85989837311506,
          39.0537644052416,
          41.70426699558233,
          43.30369963806803,
          47.370009292537894,
          51.23247476946142,
          56.09589062988506,
          60.46302377902413,
          61.593177639387,
          62.506936762319036,
          63.12575561887107,
          66.5625435455758,
          68.67529673280154,
          69.32232055676332,
          72.77060529577332,
          92.728521463714,
          98.00250667674331
         ],
         "xaxis": "x",
         "y": [
          18.43132197369281,
          28.187148355540582,
          28.241723384712806,
          32.61228173966721,
          34.95723933688454,
          35.25307519686659,
          37.87748689237326,
          38.36664303650745,
          40.319059886147336,
          42.67785747980867,
          44.10126218881281,
          47.72004809870031,
          51.15742420456406,
          55.48558961377685,
          59.37209144212014,
          60.377864541911116,
          61.19105854829052,
          61.741772377081595,
          64.8003195073424,
          66.68055050662156,
          67.2563651632699,
          70.32514380709318,
          88.08656188794902,
          92.78011083026482
         ],
         "yaxis": "y"
        }
       ],
       "layout": {
        "legend": {
         "tracegroupgap": 0
        },
        "margin": {
         "t": 60
        },
        "template": {
         "data": {
          "bar": [
           {
            "error_x": {
             "color": "#2a3f5f"
            },
            "error_y": {
             "color": "#2a3f5f"
            },
            "marker": {
             "line": {
              "color": "#E5ECF6",
              "width": 0.5
             },
             "pattern": {
              "fillmode": "overlay",
              "size": 10,
              "solidity": 0.2
             }
            },
            "type": "bar"
           }
          ],
          "barpolar": [
           {
            "marker": {
             "line": {
              "color": "#E5ECF6",
              "width": 0.5
             },
             "pattern": {
              "fillmode": "overlay",
              "size": 10,
              "solidity": 0.2
             }
            },
            "type": "barpolar"
           }
          ],
          "carpet": [
           {
            "aaxis": {
             "endlinecolor": "#2a3f5f",
             "gridcolor": "white",
             "linecolor": "white",
             "minorgridcolor": "white",
             "startlinecolor": "#2a3f5f"
            },
            "baxis": {
             "endlinecolor": "#2a3f5f",
             "gridcolor": "white",
             "linecolor": "white",
             "minorgridcolor": "white",
             "startlinecolor": "#2a3f5f"
            },
            "type": "carpet"
           }
          ],
          "choropleth": [
           {
            "colorbar": {
             "outlinewidth": 0,
             "ticks": ""
            },
            "type": "choropleth"
           }
          ],
          "contour": [
           {
            "colorbar": {
             "outlinewidth": 0,
             "ticks": ""
            },
            "colorscale": [
             [
              0,
              "#0d0887"
             ],
             [
              0.1111111111111111,
              "#46039f"
             ],
             [
              0.2222222222222222,
              "#7201a8"
             ],
             [
              0.3333333333333333,
              "#9c179e"
             ],
             [
              0.4444444444444444,
              "#bd3786"
             ],
             [
              0.5555555555555556,
              "#d8576b"
             ],
             [
              0.6666666666666666,
              "#ed7953"
             ],
             [
              0.7777777777777778,
              "#fb9f3a"
             ],
             [
              0.8888888888888888,
              "#fdca26"
             ],
             [
              1,
              "#f0f921"
             ]
            ],
            "type": "contour"
           }
          ],
          "contourcarpet": [
           {
            "colorbar": {
             "outlinewidth": 0,
             "ticks": ""
            },
            "type": "contourcarpet"
           }
          ],
          "heatmap": [
           {
            "colorbar": {
             "outlinewidth": 0,
             "ticks": ""
            },
            "colorscale": [
             [
              0,
              "#0d0887"
             ],
             [
              0.1111111111111111,
              "#46039f"
             ],
             [
              0.2222222222222222,
              "#7201a8"
             ],
             [
              0.3333333333333333,
              "#9c179e"
             ],
             [
              0.4444444444444444,
              "#bd3786"
             ],
             [
              0.5555555555555556,
              "#d8576b"
             ],
             [
              0.6666666666666666,
              "#ed7953"
             ],
             [
              0.7777777777777778,
              "#fb9f3a"
             ],
             [
              0.8888888888888888,
              "#fdca26"
             ],
             [
              1,
              "#f0f921"
             ]
            ],
            "type": "heatmap"
           }
          ],
          "heatmapgl": [
           {
            "colorbar": {
             "outlinewidth": 0,
             "ticks": ""
            },
            "colorscale": [
             [
              0,
              "#0d0887"
             ],
             [
              0.1111111111111111,
              "#46039f"
             ],
             [
              0.2222222222222222,
              "#7201a8"
             ],
             [
              0.3333333333333333,
              "#9c179e"
             ],
             [
              0.4444444444444444,
              "#bd3786"
             ],
             [
              0.5555555555555556,
              "#d8576b"
             ],
             [
              0.6666666666666666,
              "#ed7953"
             ],
             [
              0.7777777777777778,
              "#fb9f3a"
             ],
             [
              0.8888888888888888,
              "#fdca26"
             ],
             [
              1,
              "#f0f921"
             ]
            ],
            "type": "heatmapgl"
           }
          ],
          "histogram": [
           {
            "marker": {
             "pattern": {
              "fillmode": "overlay",
              "size": 10,
              "solidity": 0.2
             }
            },
            "type": "histogram"
           }
          ],
          "histogram2d": [
           {
            "colorbar": {
             "outlinewidth": 0,
             "ticks": ""
            },
            "colorscale": [
             [
              0,
              "#0d0887"
             ],
             [
              0.1111111111111111,
              "#46039f"
             ],
             [
              0.2222222222222222,
              "#7201a8"
             ],
             [
              0.3333333333333333,
              "#9c179e"
             ],
             [
              0.4444444444444444,
              "#bd3786"
             ],
             [
              0.5555555555555556,
              "#d8576b"
             ],
             [
              0.6666666666666666,
              "#ed7953"
             ],
             [
              0.7777777777777778,
              "#fb9f3a"
             ],
             [
              0.8888888888888888,
              "#fdca26"
             ],
             [
              1,
              "#f0f921"
             ]
            ],
            "type": "histogram2d"
           }
          ],
          "histogram2dcontour": [
           {
            "colorbar": {
             "outlinewidth": 0,
             "ticks": ""
            },
            "colorscale": [
             [
              0,
              "#0d0887"
             ],
             [
              0.1111111111111111,
              "#46039f"
             ],
             [
              0.2222222222222222,
              "#7201a8"
             ],
             [
              0.3333333333333333,
              "#9c179e"
             ],
             [
              0.4444444444444444,
              "#bd3786"
             ],
             [
              0.5555555555555556,
              "#d8576b"
             ],
             [
              0.6666666666666666,
              "#ed7953"
             ],
             [
              0.7777777777777778,
              "#fb9f3a"
             ],
             [
              0.8888888888888888,
              "#fdca26"
             ],
             [
              1,
              "#f0f921"
             ]
            ],
            "type": "histogram2dcontour"
           }
          ],
          "mesh3d": [
           {
            "colorbar": {
             "outlinewidth": 0,
             "ticks": ""
            },
            "type": "mesh3d"
           }
          ],
          "parcoords": [
           {
            "line": {
             "colorbar": {
              "outlinewidth": 0,
              "ticks": ""
             }
            },
            "type": "parcoords"
           }
          ],
          "pie": [
           {
            "automargin": true,
            "type": "pie"
           }
          ],
          "scatter": [
           {
            "fillpattern": {
             "fillmode": "overlay",
             "size": 10,
             "solidity": 0.2
            },
            "type": "scatter"
           }
          ],
          "scatter3d": [
           {
            "line": {
             "colorbar": {
              "outlinewidth": 0,
              "ticks": ""
             }
            },
            "marker": {
             "colorbar": {
              "outlinewidth": 0,
              "ticks": ""
             }
            },
            "type": "scatter3d"
           }
          ],
          "scattercarpet": [
           {
            "marker": {
             "colorbar": {
              "outlinewidth": 0,
              "ticks": ""
             }
            },
            "type": "scattercarpet"
           }
          ],
          "scattergeo": [
           {
            "marker": {
             "colorbar": {
              "outlinewidth": 0,
              "ticks": ""
             }
            },
            "type": "scattergeo"
           }
          ],
          "scattergl": [
           {
            "marker": {
             "colorbar": {
              "outlinewidth": 0,
              "ticks": ""
             }
            },
            "type": "scattergl"
           }
          ],
          "scattermapbox": [
           {
            "marker": {
             "colorbar": {
              "outlinewidth": 0,
              "ticks": ""
             }
            },
            "type": "scattermapbox"
           }
          ],
          "scatterpolar": [
           {
            "marker": {
             "colorbar": {
              "outlinewidth": 0,
              "ticks": ""
             }
            },
            "type": "scatterpolar"
           }
          ],
          "scatterpolargl": [
           {
            "marker": {
             "colorbar": {
              "outlinewidth": 0,
              "ticks": ""
             }
            },
            "type": "scatterpolargl"
           }
          ],
          "scatterternary": [
           {
            "marker": {
             "colorbar": {
              "outlinewidth": 0,
              "ticks": ""
             }
            },
            "type": "scatterternary"
           }
          ],
          "surface": [
           {
            "colorbar": {
             "outlinewidth": 0,
             "ticks": ""
            },
            "colorscale": [
             [
              0,
              "#0d0887"
             ],
             [
              0.1111111111111111,
              "#46039f"
             ],
             [
              0.2222222222222222,
              "#7201a8"
             ],
             [
              0.3333333333333333,
              "#9c179e"
             ],
             [
              0.4444444444444444,
              "#bd3786"
             ],
             [
              0.5555555555555556,
              "#d8576b"
             ],
             [
              0.6666666666666666,
              "#ed7953"
             ],
             [
              0.7777777777777778,
              "#fb9f3a"
             ],
             [
              0.8888888888888888,
              "#fdca26"
             ],
             [
              1,
              "#f0f921"
             ]
            ],
            "type": "surface"
           }
          ],
          "table": [
           {
            "cells": {
             "fill": {
              "color": "#EBF0F8"
             },
             "line": {
              "color": "white"
             }
            },
            "header": {
             "fill": {
              "color": "#C8D4E3"
             },
             "line": {
              "color": "white"
             }
            },
            "type": "table"
           }
          ]
         },
         "layout": {
          "annotationdefaults": {
           "arrowcolor": "#2a3f5f",
           "arrowhead": 0,
           "arrowwidth": 1
          },
          "autotypenumbers": "strict",
          "coloraxis": {
           "colorbar": {
            "outlinewidth": 0,
            "ticks": ""
           }
          },
          "colorscale": {
           "diverging": [
            [
             0,
             "#8e0152"
            ],
            [
             0.1,
             "#c51b7d"
            ],
            [
             0.2,
             "#de77ae"
            ],
            [
             0.3,
             "#f1b6da"
            ],
            [
             0.4,
             "#fde0ef"
            ],
            [
             0.5,
             "#f7f7f7"
            ],
            [
             0.6,
             "#e6f5d0"
            ],
            [
             0.7,
             "#b8e186"
            ],
            [
             0.8,
             "#7fbc41"
            ],
            [
             0.9,
             "#4d9221"
            ],
            [
             1,
             "#276419"
            ]
           ],
           "sequential": [
            [
             0,
             "#0d0887"
            ],
            [
             0.1111111111111111,
             "#46039f"
            ],
            [
             0.2222222222222222,
             "#7201a8"
            ],
            [
             0.3333333333333333,
             "#9c179e"
            ],
            [
             0.4444444444444444,
             "#bd3786"
            ],
            [
             0.5555555555555556,
             "#d8576b"
            ],
            [
             0.6666666666666666,
             "#ed7953"
            ],
            [
             0.7777777777777778,
             "#fb9f3a"
            ],
            [
             0.8888888888888888,
             "#fdca26"
            ],
            [
             1,
             "#f0f921"
            ]
           ],
           "sequentialminus": [
            [
             0,
             "#0d0887"
            ],
            [
             0.1111111111111111,
             "#46039f"
            ],
            [
             0.2222222222222222,
             "#7201a8"
            ],
            [
             0.3333333333333333,
             "#9c179e"
            ],
            [
             0.4444444444444444,
             "#bd3786"
            ],
            [
             0.5555555555555556,
             "#d8576b"
            ],
            [
             0.6666666666666666,
             "#ed7953"
            ],
            [
             0.7777777777777778,
             "#fb9f3a"
            ],
            [
             0.8888888888888888,
             "#fdca26"
            ],
            [
             1,
             "#f0f921"
            ]
           ]
          },
          "colorway": [
           "#636efa",
           "#EF553B",
           "#00cc96",
           "#ab63fa",
           "#FFA15A",
           "#19d3f3",
           "#FF6692",
           "#B6E880",
           "#FF97FF",
           "#FECB52"
          ],
          "font": {
           "color": "#2a3f5f"
          },
          "geo": {
           "bgcolor": "white",
           "lakecolor": "white",
           "landcolor": "#E5ECF6",
           "showlakes": true,
           "showland": true,
           "subunitcolor": "white"
          },
          "hoverlabel": {
           "align": "left"
          },
          "hovermode": "closest",
          "mapbox": {
           "style": "light"
          },
          "paper_bgcolor": "white",
          "plot_bgcolor": "#E5ECF6",
          "polar": {
           "angularaxis": {
            "gridcolor": "white",
            "linecolor": "white",
            "ticks": ""
           },
           "bgcolor": "#E5ECF6",
           "radialaxis": {
            "gridcolor": "white",
            "linecolor": "white",
            "ticks": ""
           }
          },
          "scene": {
           "xaxis": {
            "backgroundcolor": "#E5ECF6",
            "gridcolor": "white",
            "gridwidth": 2,
            "linecolor": "white",
            "showbackground": true,
            "ticks": "",
            "zerolinecolor": "white"
           },
           "yaxis": {
            "backgroundcolor": "#E5ECF6",
            "gridcolor": "white",
            "gridwidth": 2,
            "linecolor": "white",
            "showbackground": true,
            "ticks": "",
            "zerolinecolor": "white"
           },
           "zaxis": {
            "backgroundcolor": "#E5ECF6",
            "gridcolor": "white",
            "gridwidth": 2,
            "linecolor": "white",
            "showbackground": true,
            "ticks": "",
            "zerolinecolor": "white"
           }
          },
          "shapedefaults": {
           "line": {
            "color": "#2a3f5f"
           }
          },
          "ternary": {
           "aaxis": {
            "gridcolor": "white",
            "linecolor": "white",
            "ticks": ""
           },
           "baxis": {
            "gridcolor": "white",
            "linecolor": "white",
            "ticks": ""
           },
           "bgcolor": "#E5ECF6",
           "caxis": {
            "gridcolor": "white",
            "linecolor": "white",
            "ticks": ""
           }
          },
          "title": {
           "x": 0.05
          },
          "xaxis": {
           "automargin": true,
           "gridcolor": "white",
           "linecolor": "white",
           "ticks": "",
           "title": {
            "standoff": 15
           },
           "zerolinecolor": "white",
           "zerolinewidth": 2
          },
          "yaxis": {
           "automargin": true,
           "gridcolor": "white",
           "linecolor": "white",
           "ticks": "",
           "title": {
            "standoff": 15
           },
           "zerolinecolor": "white",
           "zerolinewidth": 2
          }
         }
        },
        "xaxis": {
         "anchor": "y",
         "domain": [
          0,
          1
         ],
         "title": {
          "text": "Predict"
         }
        },
        "yaxis": {
         "anchor": "x",
         "domain": [
          0,
          1
         ],
         "title": {
          "text": "Actual"
         }
        }
       }
      }
     },
     "metadata": {},
     "output_type": "display_data"
    }
   ],
   "source": [
    "fig = px.scatter(\n",
    "    results, x='Predict',y=\"Actual\", opacity=0.65,\n",
    "    trendline='ols', trendline_color_override='darkblue'\n",
    ")\n",
    "fig.show()"
   ]
  },
  {
   "cell_type": "code",
   "execution_count": 244,
   "metadata": {},
   "outputs": [
    {
     "name": "stdout",
     "output_type": "stream",
     "text": [
      "PrgP        58.295882\n",
      "PSxG        56.255957\n",
      "Saves       16.020596\n",
      "KP          14.326991\n",
      "SoT         13.961681\n",
      "Gls          5.983098\n",
      "GCA          5.648049\n",
      "OG           5.511263\n",
      "PrgC         5.385023\n",
      "G/SoT        4.770692\n",
      "Touches      4.641483\n",
      "npxG/Sh      2.249889\n",
      "Lost         2.010840\n",
      "PPA          1.639814\n",
      "Int          1.638939\n",
      "Tkl%         1.545918\n",
      "Cmp%         1.539391\n",
      "Blocks       1.355291\n",
      "Err          1.243288\n",
      "PSxG/SoT     1.238529\n",
      "CS%          1.206739\n",
      "Sh           1.086171\n",
      "CK           0.841823\n",
      "DC           0.715802\n",
      "Succ%        0.337488\n",
      "TklW         0.285255\n",
      "Save%        0.082087\n",
      "Att         -0.572200\n",
      "Clr         -0.582026\n",
      "Ast         -0.835620\n",
      "xAG         -0.980711\n",
      "npxG        -1.163223\n",
      "PKA         -1.186733\n",
      "FK          -1.313464\n",
      "xG          -1.492150\n",
      "SoT%        -1.646966\n",
      "PAtt        -1.674456\n",
      "CrsPA       -1.724010\n",
      "xA          -2.047179\n",
      "Sh.1        -2.118578\n",
      "Succ        -2.310475\n",
      "PrgDist     -2.477681\n",
      "Pass        -2.832771\n",
      "Tkl+Int     -2.841438\n",
      "G/Sh        -2.880628\n",
      "SCA        -18.356912\n",
      "SoTA       -22.183082\n",
      "PSxG+/-    -28.862813\n",
      "PrgR       -67.457610\n",
      "GA         -75.662491\n",
      "dtype: float64\n"
     ]
    }
   ],
   "source": [
    "feature_importance = pd.Series(model.coef_, index=X.columns).sort_values(ascending=False)\n",
    "print(feature_importance)"
   ]
  },
  {
   "cell_type": "code",
   "execution_count": 245,
   "metadata": {},
   "outputs": [
    {
     "data": {
      "text/html": [
       "<div>\n",
       "<style scoped>\n",
       "    .dataframe tbody tr th:only-of-type {\n",
       "        vertical-align: middle;\n",
       "    }\n",
       "\n",
       "    .dataframe tbody tr th {\n",
       "        vertical-align: top;\n",
       "    }\n",
       "\n",
       "    .dataframe thead th {\n",
       "        text-align: right;\n",
       "    }\n",
       "</style>\n",
       "<table border=\"1\" class=\"dataframe\">\n",
       "  <thead>\n",
       "    <tr style=\"text-align: right;\">\n",
       "      <th></th>\n",
       "      <th>SoTA</th>\n",
       "      <th>Saves</th>\n",
       "      <th>Save%</th>\n",
       "      <th>CS%</th>\n",
       "      <th>GA</th>\n",
       "      <th>PKA</th>\n",
       "      <th>FK</th>\n",
       "      <th>CK</th>\n",
       "      <th>OG</th>\n",
       "      <th>PSxG</th>\n",
       "      <th>...</th>\n",
       "      <th>Tkl+Int</th>\n",
       "      <th>Clr</th>\n",
       "      <th>Err</th>\n",
       "      <th>Touches</th>\n",
       "      <th>Att</th>\n",
       "      <th>Succ</th>\n",
       "      <th>Succ%</th>\n",
       "      <th>PrgDist</th>\n",
       "      <th>PrgC</th>\n",
       "      <th>PrgR</th>\n",
       "    </tr>\n",
       "  </thead>\n",
       "  <tbody>\n",
       "    <tr>\n",
       "      <th>0</th>\n",
       "      <td>2.22</td>\n",
       "      <td>1.41</td>\n",
       "      <td>64.8</td>\n",
       "      <td>43.8</td>\n",
       "      <td>0.81</td>\n",
       "      <td>0.03</td>\n",
       "      <td>0.00</td>\n",
       "      <td>0.19</td>\n",
       "      <td>0.03</td>\n",
       "      <td>0.67</td>\n",
       "      <td>...</td>\n",
       "      <td>22.9</td>\n",
       "      <td>13.5</td>\n",
       "      <td>0.47</td>\n",
       "      <td>709.7</td>\n",
       "      <td>17.8</td>\n",
       "      <td>7.44</td>\n",
       "      <td>41.7</td>\n",
       "      <td>1108.2</td>\n",
       "      <td>21.9</td>\n",
       "      <td>55.6</td>\n",
       "    </tr>\n",
       "    <tr>\n",
       "      <th>1</th>\n",
       "      <td>4.21</td>\n",
       "      <td>2.82</td>\n",
       "      <td>64.7</td>\n",
       "      <td>24.2</td>\n",
       "      <td>1.48</td>\n",
       "      <td>0.00</td>\n",
       "      <td>0.03</td>\n",
       "      <td>0.30</td>\n",
       "      <td>0.09</td>\n",
       "      <td>1.54</td>\n",
       "      <td>...</td>\n",
       "      <td>21.2</td>\n",
       "      <td>15.8</td>\n",
       "      <td>0.30</td>\n",
       "      <td>618.3</td>\n",
       "      <td>20.3</td>\n",
       "      <td>9.30</td>\n",
       "      <td>45.9</td>\n",
       "      <td>1120.4</td>\n",
       "      <td>21.3</td>\n",
       "      <td>39.8</td>\n",
       "    </tr>\n",
       "    <tr>\n",
       "      <th>2</th>\n",
       "      <td>5.16</td>\n",
       "      <td>3.38</td>\n",
       "      <td>68.5</td>\n",
       "      <td>21.9</td>\n",
       "      <td>1.78</td>\n",
       "      <td>0.16</td>\n",
       "      <td>0.03</td>\n",
       "      <td>0.19</td>\n",
       "      <td>0.03</td>\n",
       "      <td>1.69</td>\n",
       "      <td>...</td>\n",
       "      <td>27.9</td>\n",
       "      <td>21.5</td>\n",
       "      <td>0.41</td>\n",
       "      <td>555.1</td>\n",
       "      <td>23.4</td>\n",
       "      <td>10.30</td>\n",
       "      <td>44.1</td>\n",
       "      <td>914.6</td>\n",
       "      <td>18.5</td>\n",
       "      <td>35.3</td>\n",
       "    </tr>\n",
       "    <tr>\n",
       "      <th>3</th>\n",
       "      <td>5.03</td>\n",
       "      <td>3.27</td>\n",
       "      <td>66.3</td>\n",
       "      <td>18.2</td>\n",
       "      <td>1.76</td>\n",
       "      <td>0.06</td>\n",
       "      <td>0.00</td>\n",
       "      <td>0.15</td>\n",
       "      <td>0.00</td>\n",
       "      <td>1.55</td>\n",
       "      <td>...</td>\n",
       "      <td>27.9</td>\n",
       "      <td>24.1</td>\n",
       "      <td>0.42</td>\n",
       "      <td>553.0</td>\n",
       "      <td>14.8</td>\n",
       "      <td>6.21</td>\n",
       "      <td>41.9</td>\n",
       "      <td>726.5</td>\n",
       "      <td>12.5</td>\n",
       "      <td>33.4</td>\n",
       "    </tr>\n",
       "    <tr>\n",
       "      <th>4</th>\n",
       "      <td>4.22</td>\n",
       "      <td>2.72</td>\n",
       "      <td>67.4</td>\n",
       "      <td>15.6</td>\n",
       "      <td>1.56</td>\n",
       "      <td>0.19</td>\n",
       "      <td>0.00</td>\n",
       "      <td>0.22</td>\n",
       "      <td>0.06</td>\n",
       "      <td>1.37</td>\n",
       "      <td>...</td>\n",
       "      <td>24.1</td>\n",
       "      <td>15.8</td>\n",
       "      <td>0.59</td>\n",
       "      <td>787.2</td>\n",
       "      <td>19.3</td>\n",
       "      <td>7.91</td>\n",
       "      <td>40.9</td>\n",
       "      <td>1322.5</td>\n",
       "      <td>22.8</td>\n",
       "      <td>48.9</td>\n",
       "    </tr>\n",
       "    <tr>\n",
       "      <th>5</th>\n",
       "      <td>5.97</td>\n",
       "      <td>4.00</td>\n",
       "      <td>68.5</td>\n",
       "      <td>6.1</td>\n",
       "      <td>2.06</td>\n",
       "      <td>0.18</td>\n",
       "      <td>0.00</td>\n",
       "      <td>0.33</td>\n",
       "      <td>0.09</td>\n",
       "      <td>1.87</td>\n",
       "      <td>...</td>\n",
       "      <td>23.1</td>\n",
       "      <td>21.9</td>\n",
       "      <td>0.55</td>\n",
       "      <td>577.2</td>\n",
       "      <td>18.7</td>\n",
       "      <td>8.21</td>\n",
       "      <td>43.9</td>\n",
       "      <td>908.4</td>\n",
       "      <td>18.3</td>\n",
       "      <td>29.8</td>\n",
       "    </tr>\n",
       "    <tr>\n",
       "      <th>6</th>\n",
       "      <td>5.03</td>\n",
       "      <td>3.35</td>\n",
       "      <td>68.6</td>\n",
       "      <td>19.4</td>\n",
       "      <td>1.68</td>\n",
       "      <td>0.10</td>\n",
       "      <td>0.00</td>\n",
       "      <td>0.23</td>\n",
       "      <td>0.03</td>\n",
       "      <td>1.46</td>\n",
       "      <td>...</td>\n",
       "      <td>25.4</td>\n",
       "      <td>19.8</td>\n",
       "      <td>0.65</td>\n",
       "      <td>731.4</td>\n",
       "      <td>22.5</td>\n",
       "      <td>10.00</td>\n",
       "      <td>44.7</td>\n",
       "      <td>1176.6</td>\n",
       "      <td>22.9</td>\n",
       "      <td>42.4</td>\n",
       "    </tr>\n",
       "    <tr>\n",
       "      <th>7</th>\n",
       "      <td>4.28</td>\n",
       "      <td>2.63</td>\n",
       "      <td>62.8</td>\n",
       "      <td>21.9</td>\n",
       "      <td>1.69</td>\n",
       "      <td>0.09</td>\n",
       "      <td>0.00</td>\n",
       "      <td>0.22</td>\n",
       "      <td>0.03</td>\n",
       "      <td>1.36</td>\n",
       "      <td>...</td>\n",
       "      <td>28.6</td>\n",
       "      <td>25.9</td>\n",
       "      <td>0.16</td>\n",
       "      <td>548.0</td>\n",
       "      <td>18.5</td>\n",
       "      <td>8.72</td>\n",
       "      <td>47.1</td>\n",
       "      <td>693.6</td>\n",
       "      <td>12.8</td>\n",
       "      <td>28.9</td>\n",
       "    </tr>\n",
       "    <tr>\n",
       "      <th>8</th>\n",
       "      <td>4.38</td>\n",
       "      <td>2.97</td>\n",
       "      <td>71.4</td>\n",
       "      <td>28.1</td>\n",
       "      <td>1.50</td>\n",
       "      <td>0.25</td>\n",
       "      <td>0.00</td>\n",
       "      <td>0.28</td>\n",
       "      <td>0.09</td>\n",
       "      <td>1.43</td>\n",
       "      <td>...</td>\n",
       "      <td>29.3</td>\n",
       "      <td>22.0</td>\n",
       "      <td>0.31</td>\n",
       "      <td>526.0</td>\n",
       "      <td>15.0</td>\n",
       "      <td>6.66</td>\n",
       "      <td>44.5</td>\n",
       "      <td>683.4</td>\n",
       "      <td>13.3</td>\n",
       "      <td>30.3</td>\n",
       "    </tr>\n",
       "    <tr>\n",
       "      <th>9</th>\n",
       "      <td>4.91</td>\n",
       "      <td>3.48</td>\n",
       "      <td>72.2</td>\n",
       "      <td>27.3</td>\n",
       "      <td>1.55</td>\n",
       "      <td>0.18</td>\n",
       "      <td>0.00</td>\n",
       "      <td>0.06</td>\n",
       "      <td>0.12</td>\n",
       "      <td>1.40</td>\n",
       "      <td>...</td>\n",
       "      <td>27.9</td>\n",
       "      <td>19.3</td>\n",
       "      <td>0.36</td>\n",
       "      <td>646.6</td>\n",
       "      <td>14.9</td>\n",
       "      <td>7.36</td>\n",
       "      <td>49.3</td>\n",
       "      <td>1006.1</td>\n",
       "      <td>17.8</td>\n",
       "      <td>39.8</td>\n",
       "    </tr>\n",
       "    <tr>\n",
       "      <th>10</th>\n",
       "      <td>3.59</td>\n",
       "      <td>2.69</td>\n",
       "      <td>73.9</td>\n",
       "      <td>28.1</td>\n",
       "      <td>0.97</td>\n",
       "      <td>0.03</td>\n",
       "      <td>0.00</td>\n",
       "      <td>0.16</td>\n",
       "      <td>0.06</td>\n",
       "      <td>0.98</td>\n",
       "      <td>...</td>\n",
       "      <td>25.3</td>\n",
       "      <td>15.8</td>\n",
       "      <td>0.41</td>\n",
       "      <td>754.0</td>\n",
       "      <td>20.0</td>\n",
       "      <td>8.81</td>\n",
       "      <td>44.1</td>\n",
       "      <td>1274.4</td>\n",
       "      <td>24.2</td>\n",
       "      <td>53.8</td>\n",
       "    </tr>\n",
       "    <tr>\n",
       "      <th>11</th>\n",
       "      <td>5.76</td>\n",
       "      <td>3.76</td>\n",
       "      <td>64.7</td>\n",
       "      <td>6.1</td>\n",
       "      <td>2.12</td>\n",
       "      <td>0.09</td>\n",
       "      <td>0.00</td>\n",
       "      <td>0.30</td>\n",
       "      <td>0.12</td>\n",
       "      <td>1.98</td>\n",
       "      <td>...</td>\n",
       "      <td>25.8</td>\n",
       "      <td>24.2</td>\n",
       "      <td>0.48</td>\n",
       "      <td>514.8</td>\n",
       "      <td>20.2</td>\n",
       "      <td>9.24</td>\n",
       "      <td>45.7</td>\n",
       "      <td>785.6</td>\n",
       "      <td>17.9</td>\n",
       "      <td>28.0</td>\n",
       "    </tr>\n",
       "    <tr>\n",
       "      <th>12</th>\n",
       "      <td>2.97</td>\n",
       "      <td>2.00</td>\n",
       "      <td>69.5</td>\n",
       "      <td>28.1</td>\n",
       "      <td>1.00</td>\n",
       "      <td>0.09</td>\n",
       "      <td>0.00</td>\n",
       "      <td>0.06</td>\n",
       "      <td>0.03</td>\n",
       "      <td>1.00</td>\n",
       "      <td>...</td>\n",
       "      <td>19.4</td>\n",
       "      <td>12.6</td>\n",
       "      <td>0.50</td>\n",
       "      <td>826.8</td>\n",
       "      <td>19.8</td>\n",
       "      <td>10.50</td>\n",
       "      <td>53.2</td>\n",
       "      <td>1571.1</td>\n",
       "      <td>31.1</td>\n",
       "      <td>55.1</td>\n",
       "    </tr>\n",
       "    <tr>\n",
       "      <th>13</th>\n",
       "      <td>5.25</td>\n",
       "      <td>3.78</td>\n",
       "      <td>75.0</td>\n",
       "      <td>25.0</td>\n",
       "      <td>1.50</td>\n",
       "      <td>0.19</td>\n",
       "      <td>0.03</td>\n",
       "      <td>0.28</td>\n",
       "      <td>0.03</td>\n",
       "      <td>1.55</td>\n",
       "      <td>...</td>\n",
       "      <td>25.9</td>\n",
       "      <td>24.1</td>\n",
       "      <td>0.28</td>\n",
       "      <td>625.2</td>\n",
       "      <td>18.3</td>\n",
       "      <td>8.00</td>\n",
       "      <td>43.8</td>\n",
       "      <td>1026.6</td>\n",
       "      <td>19.4</td>\n",
       "      <td>39.0</td>\n",
       "    </tr>\n",
       "    <tr>\n",
       "      <th>14</th>\n",
       "      <td>5.06</td>\n",
       "      <td>3.44</td>\n",
       "      <td>70.4</td>\n",
       "      <td>31.3</td>\n",
       "      <td>1.63</td>\n",
       "      <td>0.13</td>\n",
       "      <td>0.03</td>\n",
       "      <td>0.13</td>\n",
       "      <td>0.03</td>\n",
       "      <td>1.67</td>\n",
       "      <td>...</td>\n",
       "      <td>24.6</td>\n",
       "      <td>18.4</td>\n",
       "      <td>0.44</td>\n",
       "      <td>628.1</td>\n",
       "      <td>18.8</td>\n",
       "      <td>9.06</td>\n",
       "      <td>48.2</td>\n",
       "      <td>950.9</td>\n",
       "      <td>18.7</td>\n",
       "      <td>40.0</td>\n",
       "    </tr>\n",
       "    <tr>\n",
       "      <th>15</th>\n",
       "      <td>4.27</td>\n",
       "      <td>2.58</td>\n",
       "      <td>61.0</td>\n",
       "      <td>12.1</td>\n",
       "      <td>1.76</td>\n",
       "      <td>0.09</td>\n",
       "      <td>0.03</td>\n",
       "      <td>0.42</td>\n",
       "      <td>0.06</td>\n",
       "      <td>1.22</td>\n",
       "      <td>...</td>\n",
       "      <td>27.6</td>\n",
       "      <td>26.1</td>\n",
       "      <td>0.33</td>\n",
       "      <td>530.8</td>\n",
       "      <td>16.5</td>\n",
       "      <td>7.55</td>\n",
       "      <td>45.6</td>\n",
       "      <td>750.9</td>\n",
       "      <td>15.2</td>\n",
       "      <td>29.0</td>\n",
       "    </tr>\n",
       "    <tr>\n",
       "      <th>16</th>\n",
       "      <td>6.72</td>\n",
       "      <td>4.28</td>\n",
       "      <td>62.3</td>\n",
       "      <td>3.1</td>\n",
       "      <td>2.63</td>\n",
       "      <td>0.09</td>\n",
       "      <td>0.00</td>\n",
       "      <td>0.38</td>\n",
       "      <td>0.19</td>\n",
       "      <td>2.13</td>\n",
       "      <td>...</td>\n",
       "      <td>28.1</td>\n",
       "      <td>29.1</td>\n",
       "      <td>0.56</td>\n",
       "      <td>463.6</td>\n",
       "      <td>15.1</td>\n",
       "      <td>6.50</td>\n",
       "      <td>43.2</td>\n",
       "      <td>504.1</td>\n",
       "      <td>8.5</td>\n",
       "      <td>21.5</td>\n",
       "    </tr>\n",
       "    <tr>\n",
       "      <th>17</th>\n",
       "      <td>4.34</td>\n",
       "      <td>2.88</td>\n",
       "      <td>69.1</td>\n",
       "      <td>18.8</td>\n",
       "      <td>1.53</td>\n",
       "      <td>0.19</td>\n",
       "      <td>0.03</td>\n",
       "      <td>0.22</td>\n",
       "      <td>0.06</td>\n",
       "      <td>1.62</td>\n",
       "      <td>...</td>\n",
       "      <td>28.9</td>\n",
       "      <td>19.7</td>\n",
       "      <td>0.63</td>\n",
       "      <td>752.2</td>\n",
       "      <td>21.8</td>\n",
       "      <td>9.75</td>\n",
       "      <td>44.7</td>\n",
       "      <td>1235.8</td>\n",
       "      <td>25.4</td>\n",
       "      <td>54.7</td>\n",
       "    </tr>\n",
       "    <tr>\n",
       "      <th>18</th>\n",
       "      <td>6.03</td>\n",
       "      <td>4.27</td>\n",
       "      <td>74.9</td>\n",
       "      <td>15.2</td>\n",
       "      <td>1.76</td>\n",
       "      <td>0.24</td>\n",
       "      <td>0.00</td>\n",
       "      <td>0.12</td>\n",
       "      <td>0.06</td>\n",
       "      <td>1.85</td>\n",
       "      <td>...</td>\n",
       "      <td>27.5</td>\n",
       "      <td>24.0</td>\n",
       "      <td>0.27</td>\n",
       "      <td>556.2</td>\n",
       "      <td>19.6</td>\n",
       "      <td>9.21</td>\n",
       "      <td>47.1</td>\n",
       "      <td>775.4</td>\n",
       "      <td>14.9</td>\n",
       "      <td>32.6</td>\n",
       "    </tr>\n",
       "    <tr>\n",
       "      <th>19</th>\n",
       "      <td>4.81</td>\n",
       "      <td>3.25</td>\n",
       "      <td>70.8</td>\n",
       "      <td>15.6</td>\n",
       "      <td>1.59</td>\n",
       "      <td>0.19</td>\n",
       "      <td>0.03</td>\n",
       "      <td>0.16</td>\n",
       "      <td>0.03</td>\n",
       "      <td>1.74</td>\n",
       "      <td>...</td>\n",
       "      <td>27.1</td>\n",
       "      <td>22.4</td>\n",
       "      <td>0.47</td>\n",
       "      <td>616.0</td>\n",
       "      <td>22.2</td>\n",
       "      <td>11.10</td>\n",
       "      <td>50.1</td>\n",
       "      <td>995.2</td>\n",
       "      <td>18.6</td>\n",
       "      <td>31.1</td>\n",
       "    </tr>\n",
       "  </tbody>\n",
       "</table>\n",
       "<p>20 rows × 50 columns</p>\n",
       "</div>"
      ],
      "text/plain": [
       "    SoTA  Saves  Save%   CS%    GA   PKA    FK    CK    OG  PSxG  ...  \\\n",
       "0   2.22   1.41   64.8  43.8  0.81  0.03  0.00  0.19  0.03  0.67  ...   \n",
       "1   4.21   2.82   64.7  24.2  1.48  0.00  0.03  0.30  0.09  1.54  ...   \n",
       "2   5.16   3.38   68.5  21.9  1.78  0.16  0.03  0.19  0.03  1.69  ...   \n",
       "3   5.03   3.27   66.3  18.2  1.76  0.06  0.00  0.15  0.00  1.55  ...   \n",
       "4   4.22   2.72   67.4  15.6  1.56  0.19  0.00  0.22  0.06  1.37  ...   \n",
       "5   5.97   4.00   68.5   6.1  2.06  0.18  0.00  0.33  0.09  1.87  ...   \n",
       "6   5.03   3.35   68.6  19.4  1.68  0.10  0.00  0.23  0.03  1.46  ...   \n",
       "7   4.28   2.63   62.8  21.9  1.69  0.09  0.00  0.22  0.03  1.36  ...   \n",
       "8   4.38   2.97   71.4  28.1  1.50  0.25  0.00  0.28  0.09  1.43  ...   \n",
       "9   4.91   3.48   72.2  27.3  1.55  0.18  0.00  0.06  0.12  1.40  ...   \n",
       "10  3.59   2.69   73.9  28.1  0.97  0.03  0.00  0.16  0.06  0.98  ...   \n",
       "11  5.76   3.76   64.7   6.1  2.12  0.09  0.00  0.30  0.12  1.98  ...   \n",
       "12  2.97   2.00   69.5  28.1  1.00  0.09  0.00  0.06  0.03  1.00  ...   \n",
       "13  5.25   3.78   75.0  25.0  1.50  0.19  0.03  0.28  0.03  1.55  ...   \n",
       "14  5.06   3.44   70.4  31.3  1.63  0.13  0.03  0.13  0.03  1.67  ...   \n",
       "15  4.27   2.58   61.0  12.1  1.76  0.09  0.03  0.42  0.06  1.22  ...   \n",
       "16  6.72   4.28   62.3   3.1  2.63  0.09  0.00  0.38  0.19  2.13  ...   \n",
       "17  4.34   2.88   69.1  18.8  1.53  0.19  0.03  0.22  0.06  1.62  ...   \n",
       "18  6.03   4.27   74.9  15.2  1.76  0.24  0.00  0.12  0.06  1.85  ...   \n",
       "19  4.81   3.25   70.8  15.6  1.59  0.19  0.03  0.16  0.03  1.74  ...   \n",
       "\n",
       "    Tkl+Int   Clr   Err  Touches   Att   Succ  Succ%  PrgDist  PrgC  PrgR  \n",
       "0      22.9  13.5  0.47    709.7  17.8   7.44   41.7   1108.2  21.9  55.6  \n",
       "1      21.2  15.8  0.30    618.3  20.3   9.30   45.9   1120.4  21.3  39.8  \n",
       "2      27.9  21.5  0.41    555.1  23.4  10.30   44.1    914.6  18.5  35.3  \n",
       "3      27.9  24.1  0.42    553.0  14.8   6.21   41.9    726.5  12.5  33.4  \n",
       "4      24.1  15.8  0.59    787.2  19.3   7.91   40.9   1322.5  22.8  48.9  \n",
       "5      23.1  21.9  0.55    577.2  18.7   8.21   43.9    908.4  18.3  29.8  \n",
       "6      25.4  19.8  0.65    731.4  22.5  10.00   44.7   1176.6  22.9  42.4  \n",
       "7      28.6  25.9  0.16    548.0  18.5   8.72   47.1    693.6  12.8  28.9  \n",
       "8      29.3  22.0  0.31    526.0  15.0   6.66   44.5    683.4  13.3  30.3  \n",
       "9      27.9  19.3  0.36    646.6  14.9   7.36   49.3   1006.1  17.8  39.8  \n",
       "10     25.3  15.8  0.41    754.0  20.0   8.81   44.1   1274.4  24.2  53.8  \n",
       "11     25.8  24.2  0.48    514.8  20.2   9.24   45.7    785.6  17.9  28.0  \n",
       "12     19.4  12.6  0.50    826.8  19.8  10.50   53.2   1571.1  31.1  55.1  \n",
       "13     25.9  24.1  0.28    625.2  18.3   8.00   43.8   1026.6  19.4  39.0  \n",
       "14     24.6  18.4  0.44    628.1  18.8   9.06   48.2    950.9  18.7  40.0  \n",
       "15     27.6  26.1  0.33    530.8  16.5   7.55   45.6    750.9  15.2  29.0  \n",
       "16     28.1  29.1  0.56    463.6  15.1   6.50   43.2    504.1   8.5  21.5  \n",
       "17     28.9  19.7  0.63    752.2  21.8   9.75   44.7   1235.8  25.4  54.7  \n",
       "18     27.5  24.0  0.27    556.2  19.6   9.21   47.1    775.4  14.9  32.6  \n",
       "19     27.1  22.4  0.47    616.0  22.2  11.10   50.1    995.2  18.6  31.1  \n",
       "\n",
       "[20 rows x 50 columns]"
      ]
     },
     "execution_count": 245,
     "metadata": {},
     "output_type": "execute_result"
    }
   ],
   "source": [
    "input_predict = pd.read_csv(\"prem_2023-2024.csv\")\n",
    "prem_23_24 = input_predict.drop([\"Points\", \"Season\", \"Squad\"], axis = 1)\n",
    "prem_23_24"
   ]
  },
  {
   "cell_type": "code",
   "execution_count": 246,
   "metadata": {},
   "outputs": [
    {
     "name": "stdout",
     "output_type": "stream",
     "text": [
      "Number of rows:  20\n",
      "Number of columns:  50\n",
      "Duplicated values:  0 \n",
      "\n",
      "Data Types:  SoTA        float64\n",
      "Saves       float64\n",
      "Save%       float64\n",
      "CS%         float64\n",
      "GA          float64\n",
      "PKA         float64\n",
      "FK          float64\n",
      "CK          float64\n",
      "OG          float64\n",
      "PSxG        float64\n",
      "PSxG/SoT    float64\n",
      "PSxG+/-     float64\n",
      "Gls         float64\n",
      "Sh          float64\n",
      "SoT         float64\n",
      "SoT%        float64\n",
      "G/Sh        float64\n",
      "G/SoT       float64\n",
      "xG          float64\n",
      "npxG        float64\n",
      "npxG/Sh     float64\n",
      "PAtt        float64\n",
      "Cmp%        float64\n",
      "Ast         float64\n",
      "xAG         float64\n",
      "xA          float64\n",
      "KP          float64\n",
      "PPA         float64\n",
      "CrsPA       float64\n",
      "PrgP        float64\n",
      "SCA         float64\n",
      "GCA         float64\n",
      "TklW        float64\n",
      "DC          float64\n",
      "Tkl%        float64\n",
      "Lost        float64\n",
      "Blocks      float64\n",
      "Sh.1        float64\n",
      "Pass        float64\n",
      "Int         float64\n",
      "Tkl+Int     float64\n",
      "Clr         float64\n",
      "Err         float64\n",
      "Touches     float64\n",
      "Att         float64\n",
      "Succ        float64\n",
      "Succ%       float64\n",
      "PrgDist     float64\n",
      "PrgC        float64\n",
      "PrgR        float64\n",
      "dtype: object \n",
      "\n"
     ]
    }
   ],
   "source": [
    "print(\"Number of rows: \", prem_23_24.shape[0])\n",
    "print(\"Number of columns: \", prem_23_24.shape[1])\n",
    "print(\"Duplicated values: \", epl_data[epl_data.columns.tolist()].duplicated().sum(), \"\\n\")\n",
    "print(\"Data Types: \",prem_23_24.dtypes, \"\\n\")"
   ]
  },
  {
   "cell_type": "code",
   "execution_count": 247,
   "metadata": {},
   "outputs": [
    {
     "name": "stdout",
     "output_type": "stream",
     "text": [
      "SoTA        0\n",
      "Saves       0\n",
      "Save%       0\n",
      "CS%         0\n",
      "GA          0\n",
      "PKA         0\n",
      "FK          0\n",
      "CK          0\n",
      "OG          0\n",
      "PSxG        0\n",
      "PSxG/SoT    0\n",
      "PSxG+/-     0\n",
      "Gls         0\n",
      "Sh          0\n",
      "SoT         0\n",
      "SoT%        0\n",
      "G/Sh        0\n",
      "G/SoT       0\n",
      "xG          0\n",
      "npxG        0\n",
      "npxG/Sh     0\n",
      "PAtt        0\n",
      "Cmp%        0\n",
      "Ast         0\n",
      "xAG         0\n",
      "xA          0\n",
      "KP          0\n",
      "PPA         0\n",
      "CrsPA       0\n",
      "PrgP        0\n",
      "SCA         0\n",
      "GCA         0\n",
      "TklW        0\n",
      "DC          0\n",
      "Tkl%        0\n",
      "Lost        0\n",
      "Blocks      0\n",
      "Sh.1        0\n",
      "Pass        0\n",
      "Int         0\n",
      "Tkl+Int     0\n",
      "Clr         0\n",
      "Err         0\n",
      "Touches     0\n",
      "Att         0\n",
      "Succ        0\n",
      "Succ%       0\n",
      "PrgDist     0\n",
      "PrgC        0\n",
      "PrgR        0\n",
      "dtype: int64\n"
     ]
    }
   ],
   "source": [
    "print(prem_23_24[prem_23_24.columns.tolist()].isnull().sum())"
   ]
  },
  {
   "cell_type": "code",
   "execution_count": 248,
   "metadata": {},
   "outputs": [],
   "source": [
    "prem_23_24_std = std.transform(prem_23_24)"
   ]
  },
  {
   "cell_type": "code",
   "execution_count": 249,
   "metadata": {},
   "outputs": [
    {
     "data": {
      "text/html": [
       "<style type=\"text/css\">\n",
       "</style>\n",
       "<table id=\"T_f8ad4\">\n",
       "  <thead>\n",
       "    <tr>\n",
       "      <th class=\"blank level0\" >&nbsp;</th>\n",
       "      <th id=\"T_f8ad4_level0_col0\" class=\"col_heading level0 col0\" >Squad</th>\n",
       "      <th id=\"T_f8ad4_level0_col1\" class=\"col_heading level0 col1\" >Points</th>\n",
       "    </tr>\n",
       "  </thead>\n",
       "  <tbody>\n",
       "    <tr>\n",
       "      <th id=\"T_f8ad4_level0_row0\" class=\"row_heading level0 row0\" >1</th>\n",
       "      <td id=\"T_f8ad4_row0_col0\" class=\"data row0 col0\" >Manchester City</td>\n",
       "      <td id=\"T_f8ad4_row0_col1\" class=\"data row0 col1\" >98.433868</td>\n",
       "    </tr>\n",
       "    <tr>\n",
       "      <th id=\"T_f8ad4_level0_row1\" class=\"row_heading level0 row1\" >2</th>\n",
       "      <td id=\"T_f8ad4_row1_col0\" class=\"data row1 col0\" >Arsenal</td>\n",
       "      <td id=\"T_f8ad4_row1_col1\" class=\"data row1 col1\" >89.952899</td>\n",
       "    </tr>\n",
       "    <tr>\n",
       "      <th id=\"T_f8ad4_level0_row2\" class=\"row_heading level0 row2\" >3</th>\n",
       "      <td id=\"T_f8ad4_row2_col0\" class=\"data row2 col0\" >Liverpool</td>\n",
       "      <td id=\"T_f8ad4_row2_col1\" class=\"data row2 col1\" >88.242768</td>\n",
       "    </tr>\n",
       "    <tr>\n",
       "      <th id=\"T_f8ad4_level0_row3\" class=\"row_heading level0 row3\" >4</th>\n",
       "      <td id=\"T_f8ad4_row3_col0\" class=\"data row3 col0\" >Aston Villa</td>\n",
       "      <td id=\"T_f8ad4_row3_col1\" class=\"data row3 col1\" >80.002493</td>\n",
       "    </tr>\n",
       "    <tr>\n",
       "      <th id=\"T_f8ad4_level0_row4\" class=\"row_heading level0 row4\" >5</th>\n",
       "      <td id=\"T_f8ad4_row4_col0\" class=\"data row4 col0\" >Newcastle Utd</td>\n",
       "      <td id=\"T_f8ad4_row4_col1\" class=\"data row4 col1\" >71.485717</td>\n",
       "    </tr>\n",
       "    <tr>\n",
       "      <th id=\"T_f8ad4_level0_row5\" class=\"row_heading level0 row5\" >6</th>\n",
       "      <td id=\"T_f8ad4_row5_col0\" class=\"data row5 col0\" >Chelsea</td>\n",
       "      <td id=\"T_f8ad4_row5_col1\" class=\"data row5 col1\" >69.553485</td>\n",
       "    </tr>\n",
       "    <tr>\n",
       "      <th id=\"T_f8ad4_level0_row6\" class=\"row_heading level0 row6\" >7</th>\n",
       "      <td id=\"T_f8ad4_row6_col0\" class=\"data row6 col0\" >Tottenham</td>\n",
       "      <td id=\"T_f8ad4_row6_col1\" class=\"data row6 col1\" >67.161170</td>\n",
       "    </tr>\n",
       "    <tr>\n",
       "      <th id=\"T_f8ad4_level0_row7\" class=\"row_heading level0 row7\" >8</th>\n",
       "      <td id=\"T_f8ad4_row7_col0\" class=\"data row7 col0\" >Manchester Utd</td>\n",
       "      <td id=\"T_f8ad4_row7_col1\" class=\"data row7 col1\" >62.505181</td>\n",
       "    </tr>\n",
       "    <tr>\n",
       "      <th id=\"T_f8ad4_level0_row8\" class=\"row_heading level0 row8\" >9</th>\n",
       "      <td id=\"T_f8ad4_row8_col0\" class=\"data row8 col0\" >Brighton</td>\n",
       "      <td id=\"T_f8ad4_row8_col1\" class=\"data row8 col1\" >60.272908</td>\n",
       "    </tr>\n",
       "    <tr>\n",
       "      <th id=\"T_f8ad4_level0_row9\" class=\"row_heading level0 row9\" >10</th>\n",
       "      <td id=\"T_f8ad4_row9_col0\" class=\"data row9 col0\" >Wolves</td>\n",
       "      <td id=\"T_f8ad4_row9_col1\" class=\"data row9 col1\" >57.925249</td>\n",
       "    </tr>\n",
       "    <tr>\n",
       "      <th id=\"T_f8ad4_level0_row10\" class=\"row_heading level0 row10\" >11</th>\n",
       "      <td id=\"T_f8ad4_row10_col0\" class=\"data row10 col0\" >Fulham</td>\n",
       "      <td id=\"T_f8ad4_row10_col1\" class=\"data row10 col1\" >56.450585</td>\n",
       "    </tr>\n",
       "    <tr>\n",
       "      <th id=\"T_f8ad4_level0_row11\" class=\"row_heading level0 row11\" >12</th>\n",
       "      <td id=\"T_f8ad4_row11_col0\" class=\"data row11 col0\" >Nott'ham Forest</td>\n",
       "      <td id=\"T_f8ad4_row11_col1\" class=\"data row11 col1\" >49.720655</td>\n",
       "    </tr>\n",
       "    <tr>\n",
       "      <th id=\"T_f8ad4_level0_row12\" class=\"row_heading level0 row12\" >13</th>\n",
       "      <td id=\"T_f8ad4_row12_col0\" class=\"data row12 col0\" >Bournemouth</td>\n",
       "      <td id=\"T_f8ad4_row12_col1\" class=\"data row12 col1\" >49.353624</td>\n",
       "    </tr>\n",
       "    <tr>\n",
       "      <th id=\"T_f8ad4_level0_row13\" class=\"row_heading level0 row13\" >14</th>\n",
       "      <td id=\"T_f8ad4_row13_col0\" class=\"data row13 col0\" >Crystal Palace</td>\n",
       "      <td id=\"T_f8ad4_row13_col1\" class=\"data row13 col1\" >48.652032</td>\n",
       "    </tr>\n",
       "    <tr>\n",
       "      <th id=\"T_f8ad4_level0_row14\" class=\"row_heading level0 row14\" >15</th>\n",
       "      <td id=\"T_f8ad4_row14_col0\" class=\"data row14 col0\" >Brentford</td>\n",
       "      <td id=\"T_f8ad4_row14_col1\" class=\"data row14 col1\" >48.122414</td>\n",
       "    </tr>\n",
       "    <tr>\n",
       "      <th id=\"T_f8ad4_level0_row15\" class=\"row_heading level0 row15\" >16</th>\n",
       "      <td id=\"T_f8ad4_row15_col0\" class=\"data row15 col0\" >West Ham</td>\n",
       "      <td id=\"T_f8ad4_row15_col1\" class=\"data row15 col1\" >45.404493</td>\n",
       "    </tr>\n",
       "    <tr>\n",
       "      <th id=\"T_f8ad4_level0_row16\" class=\"row_heading level0 row16\" >17</th>\n",
       "      <td id=\"T_f8ad4_row16_col0\" class=\"data row16 col0\" >Luton Town</td>\n",
       "      <td id=\"T_f8ad4_row16_col1\" class=\"data row16 col1\" >44.607663</td>\n",
       "    </tr>\n",
       "    <tr>\n",
       "      <th id=\"T_f8ad4_level0_row17\" class=\"row_heading level0 row17\" >18</th>\n",
       "      <td id=\"T_f8ad4_row17_col0\" class=\"data row17 col0\" >Everton</td>\n",
       "      <td id=\"T_f8ad4_row17_col1\" class=\"data row17 col1\" >44.263521</td>\n",
       "    </tr>\n",
       "    <tr>\n",
       "      <th id=\"T_f8ad4_level0_row18\" class=\"row_heading level0 row18\" >19</th>\n",
       "      <td id=\"T_f8ad4_row18_col0\" class=\"data row18 col0\" >Burnley</td>\n",
       "      <td id=\"T_f8ad4_row18_col1\" class=\"data row18 col1\" >41.239023</td>\n",
       "    </tr>\n",
       "    <tr>\n",
       "      <th id=\"T_f8ad4_level0_row19\" class=\"row_heading level0 row19\" >20</th>\n",
       "      <td id=\"T_f8ad4_row19_col0\" class=\"data row19 col0\" >Sheffield Utd</td>\n",
       "      <td id=\"T_f8ad4_row19_col1\" class=\"data row19 col1\" >15.856260</td>\n",
       "    </tr>\n",
       "  </tbody>\n",
       "</table>\n"
      ],
      "text/plain": [
       "<pandas.io.formats.style.Styler at 0x2450ea724b0>"
      ]
     },
     "execution_count": 249,
     "metadata": {},
     "output_type": "execute_result"
    }
   ],
   "source": [
    "prem_23_24_pred = model.predict(prem_23_24_std)\n",
    "pred_table_23_24 = pd.DataFrame({\"Squad\": input_predict[\"Squad\"],\"Points\": prem_23_24_pred}).sort_values(\"Points\", ascending = False)\n",
    "pred_table_23_24.style.relabel_index(range(1,21), axis=0)"
   ]
  },
  {
   "cell_type": "code",
   "execution_count": 250,
   "metadata": {},
   "outputs": [
    {
     "name": "stdout",
     "output_type": "stream",
     "text": [
      "Predicted EPL Winners: Manchester City \n",
      "\n"
     ]
    }
   ],
   "source": [
    "print(\"Predicted EPL Winners:\",pred_table_23_24.iloc[0,0], \"\\n\")"
   ]
  },
  {
   "cell_type": "code",
   "execution_count": 251,
   "metadata": {},
   "outputs": [
    {
     "name": "stdout",
     "output_type": "stream",
     "text": [
      "Qualified for Europe:\n"
     ]
    },
    {
     "data": {
      "text/html": [
       "<style type=\"text/css\">\n",
       "</style>\n",
       "<table id=\"T_a6671\">\n",
       "  <thead>\n",
       "    <tr>\n",
       "      <th class=\"blank level0\" >&nbsp;</th>\n",
       "      <th id=\"T_a6671_level0_col0\" class=\"col_heading level0 col0\" >Squad</th>\n",
       "    </tr>\n",
       "  </thead>\n",
       "  <tbody>\n",
       "    <tr>\n",
       "      <th id=\"T_a6671_level0_row0\" class=\"row_heading level0 row0\" >1</th>\n",
       "      <td id=\"T_a6671_row0_col0\" class=\"data row0 col0\" >Manchester City</td>\n",
       "    </tr>\n",
       "    <tr>\n",
       "      <th id=\"T_a6671_level0_row1\" class=\"row_heading level0 row1\" >2</th>\n",
       "      <td id=\"T_a6671_row1_col0\" class=\"data row1 col0\" >Arsenal</td>\n",
       "    </tr>\n",
       "    <tr>\n",
       "      <th id=\"T_a6671_level0_row2\" class=\"row_heading level0 row2\" >3</th>\n",
       "      <td id=\"T_a6671_row2_col0\" class=\"data row2 col0\" >Liverpool</td>\n",
       "    </tr>\n",
       "    <tr>\n",
       "      <th id=\"T_a6671_level0_row3\" class=\"row_heading level0 row3\" >4</th>\n",
       "      <td id=\"T_a6671_row3_col0\" class=\"data row3 col0\" >Aston Villa</td>\n",
       "    </tr>\n",
       "    <tr>\n",
       "      <th id=\"T_a6671_level0_row4\" class=\"row_heading level0 row4\" >5</th>\n",
       "      <td id=\"T_a6671_row4_col0\" class=\"data row4 col0\" >Newcastle Utd</td>\n",
       "    </tr>\n",
       "    <tr>\n",
       "      <th id=\"T_a6671_level0_row5\" class=\"row_heading level0 row5\" >6</th>\n",
       "      <td id=\"T_a6671_row5_col0\" class=\"data row5 col0\" >Chelsea</td>\n",
       "    </tr>\n",
       "    <tr>\n",
       "      <th id=\"T_a6671_level0_row6\" class=\"row_heading level0 row6\" >7</th>\n",
       "      <td id=\"T_a6671_row6_col0\" class=\"data row6 col0\" >Tottenham</td>\n",
       "    </tr>\n",
       "  </tbody>\n",
       "</table>\n"
      ],
      "text/plain": [
       "<pandas.io.formats.style.Styler at 0x2450ea73f20>"
      ]
     },
     "execution_count": 251,
     "metadata": {},
     "output_type": "execute_result"
    }
   ],
   "source": [
    "#Print out message: Winner, Qualified for ...., Relegated\n",
    "print(\"Qualified for Europe:\")\n",
    "pd.DataFrame(pred_table_23_24.iloc[0:7,0]).style.relabel_index(range(1,8))\n",
    "\n"
   ]
  },
  {
   "cell_type": "code",
   "execution_count": 252,
   "metadata": {},
   "outputs": [
    {
     "name": "stdout",
     "output_type": "stream",
     "text": [
      "Relegated Teams:\n"
     ]
    },
    {
     "data": {
      "text/html": [
       "<style type=\"text/css\">\n",
       "</style>\n",
       "<table id=\"T_aed94\">\n",
       "  <thead>\n",
       "    <tr>\n",
       "      <th class=\"blank level0\" >&nbsp;</th>\n",
       "      <th id=\"T_aed94_level0_col0\" class=\"col_heading level0 col0\" >Squad</th>\n",
       "    </tr>\n",
       "  </thead>\n",
       "  <tbody>\n",
       "    <tr>\n",
       "      <th id=\"T_aed94_level0_row0\" class=\"row_heading level0 row0\" >18</th>\n",
       "      <td id=\"T_aed94_row0_col0\" class=\"data row0 col0\" >Everton</td>\n",
       "    </tr>\n",
       "    <tr>\n",
       "      <th id=\"T_aed94_level0_row1\" class=\"row_heading level0 row1\" >19</th>\n",
       "      <td id=\"T_aed94_row1_col0\" class=\"data row1 col0\" >Burnley</td>\n",
       "    </tr>\n",
       "    <tr>\n",
       "      <th id=\"T_aed94_level0_row2\" class=\"row_heading level0 row2\" >20</th>\n",
       "      <td id=\"T_aed94_row2_col0\" class=\"data row2 col0\" >Sheffield Utd</td>\n",
       "    </tr>\n",
       "  </tbody>\n",
       "</table>\n"
      ],
      "text/plain": [
       "<pandas.io.formats.style.Styler at 0x2450ea7b8c0>"
      ]
     },
     "execution_count": 252,
     "metadata": {},
     "output_type": "execute_result"
    }
   ],
   "source": [
    "print(\"Relegated Teams:\")\n",
    "pd.DataFrame(pred_table_23_24.iloc[-3:,0]).style.relabel_index(range(18,21))"
   ]
  },
  {
   "cell_type": "code",
   "execution_count": 253,
   "metadata": {},
   "outputs": [],
   "source": [
    "#Test XGB\n",
    "dtrain = xgb.DMatrix(X_train_std)"
   ]
  },
  {
   "cell_type": "code",
   "execution_count": null,
   "metadata": {},
   "outputs": [],
   "source": []
  }
 ],
 "metadata": {
  "kernelspec": {
   "display_name": "Python 3",
   "language": "python",
   "name": "python3"
  },
  "language_info": {
   "codemirror_mode": {
    "name": "ipython",
    "version": 3
   },
   "file_extension": ".py",
   "mimetype": "text/x-python",
   "name": "python",
   "nbconvert_exporter": "python",
   "pygments_lexer": "ipython3",
   "version": "3.12.3"
  }
 },
 "nbformat": 4,
 "nbformat_minor": 2
}
